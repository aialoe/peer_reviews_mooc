{
 "cells": [
  {
   "cell_type": "markdown",
   "id": "37b430f5-d7a7-4ee3-9aeb-80f2b37bff77",
   "metadata": {},
   "source": [
    "# Prunning Reviewers for Labelled Texts\n",
    "This notebook will look at the effects of pruning reviewers based on several different criteria"
   ]
  },
  {
   "cell_type": "markdown",
   "id": "98221a87-62e7-41d7-b3ed-0b1d8d53f521",
   "metadata": {},
   "source": [
    "## Import Packages and Set Directory"
   ]
  },
  {
   "cell_type": "code",
   "execution_count": 2,
   "id": "d998ae6a-823e-45b1-81ee-d35eb319dbb4",
   "metadata": {},
   "outputs": [],
   "source": [
    "import pandas as pd\n",
    "import os\n",
    "import numpy as np\n",
    "import matplotlib.pyplot as plt\n",
    "\n",
    "os.chdir('/home/jovyan/shared/2020_06_10_bad_reviewer')"
   ]
  },
  {
   "cell_type": "markdown",
   "id": "a95bff1d-444c-45ca-87a0-2ad4b21c1a22",
   "metadata": {
    "tags": []
   },
   "source": [
    "## Load the Various DataFrames\n",
    "There are a bunch of dataframes here:\n",
    "#### labelled_txts - The target group of texts with author id and full text\n",
    "#### texts_df - All the texts\n",
    "#### data_view_df - Information about the peer reviews (old)\n",
    "#### reviewer_df - Aggregate information about the reviewers\n",
    "#### cleared_submissions - Submissions which have been cleared\n",
    "#### submissions_df - All submissions\n",
    "#### reviews_df - Information about the peer reviews (new)"
   ]
  },
  {
   "cell_type": "code",
   "execution_count": 3,
   "id": "a62700f3-d0c7-4d9c-9219-dfc0bebdc21c",
   "metadata": {},
   "outputs": [
    {
     "data": {
      "text/plain": [
       "peer_review_id                                             1084657\n",
       "uva_peer_assignments_user_id_reviewer                      1084657\n",
       "peer_review_created_ts                                     1084657\n",
       "peer_submission_id                                         1084657\n",
       "peer_assignment_review_schema_part_prompt_score             929706\n",
       "peer_assignment_review_schema_part_option_score             929706\n",
       "peer_assignment_review_schema_part_prompt_free_response    1084640\n",
       "peer_review_part_free_response_text                        1059044\n",
       "uva_peer_assignments_user_id_author                         864073\n",
       "dtype: int64"
      ]
     },
     "execution_count": 3,
     "metadata": {},
     "output_type": "execute_result"
    }
   ],
   "source": [
    "reviewer_df = pd.read_csv('results/reviewer_agg_stats.csv', index_col=[0])\n",
    "cleared_submissions = pd.read_csv('bin/cleared_submissions.csv')\n",
    "submissions_df = pd.read_csv('bin/submissions_df.csv', index_col=[0])\n",
    "reviews_df = pd.read_csv('bin/reviews_df.csv', index_col = [0])\n",
    "\n",
    "# Rename the columns to disambiguate whether the id represents a reviewer or an author\n",
    "submissions_df = submissions_df.rename(columns={'uva_peer_assignments_user_id':'uva_peer_assignments_user_id_author'})\n",
    "reviewer_df = reviewer_df.rename(columns={'uva_peer_assignments_user_id':'uva_peer_assignments_user_id_reviewer'})\n",
    "reviews_df = reviews_df.rename(columns={'uva_peer_assignments_user_id':'uva_peer_assignments_user_id_reviewer'})\n",
    "cleared_submissions = cleared_submissions.rename(columns={'uva_peer_assignments_user_id':'uva_peer_assignments_user_id_author'})\n",
    "\n",
    "# Get the author id into reviews_df\n",
    "reviews_df = pd.merge(reviews_df, cleared_submissions[['peer_submission_id', 'uva_peer_assignments_user_id_author']], on='peer_submission_id', how=\"left\")\n",
    "# Note that authors could only be found for 864,073 out of the 1,059,044 reviews.\n",
    "reviews_df.count()"
   ]
  },
  {
   "cell_type": "markdown",
   "id": "332afb8e-5eb0-40d2-9756-b574259688b9",
   "metadata": {
    "tags": []
   },
   "source": [
    "## Get rid of any duplicate submissions from labelled_txts\n",
    "Of 27909 submissions, 22903 were non-duplicates"
   ]
  },
  {
   "cell_type": "code",
   "execution_count": 5,
   "id": "0376915f-9188-4bb0-8594-3b850238c567",
   "metadata": {},
   "outputs": [
    {
     "name": "stdout",
     "output_type": "stream",
     "text": [
      "27909\n"
     ]
    },
    {
     "data": {
      "text/html": [
       "<div>\n",
       "<style scoped>\n",
       "    .dataframe tbody tr th:only-of-type {\n",
       "        vertical-align: middle;\n",
       "    }\n",
       "\n",
       "    .dataframe tbody tr th {\n",
       "        vertical-align: top;\n",
       "    }\n",
       "\n",
       "    .dataframe thead th {\n",
       "        text-align: right;\n",
       "    }\n",
       "</style>\n",
       "<table border=\"1\" class=\"dataframe\">\n",
       "  <thead>\n",
       "    <tr style=\"text-align: right;\">\n",
       "      <th></th>\n",
       "      <th>uva_peer_assignments_user_id_author</th>\n",
       "      <th>text</th>\n",
       "    </tr>\n",
       "  </thead>\n",
       "  <tbody>\n",
       "    <tr>\n",
       "      <th>0</th>\n",
       "      <td>0000e5af02da0c7575b3ebd346b55b29f959e90f</td>\n",
       "      <td>Reflection – visualization\\n\\nChallenge      &amp;...</td>\n",
       "    </tr>\n",
       "    <tr>\n",
       "      <th>1</th>\n",
       "      <td>0002c0f31f5c8456bd360dfcd089a64f444e2de0</td>\n",
       "      <td>Assignment :\\n\\n1. Challenge: Describe your ch...</td>\n",
       "    </tr>\n",
       "    <tr>\n",
       "      <th>2</th>\n",
       "      <td>00030b378ea62d60a177113b7854eb26cc29e1a9</td>\n",
       "      <td>VISUALIZATION\\n\\nChallenge    I am part of the...</td>\n",
       "    </tr>\n",
       "    <tr>\n",
       "      <th>3</th>\n",
       "      <td>000458f7d47a0b6414f9146258829170ae3ed6a9</td>\n",
       "      <td>The main item is usually the focal point of th...</td>\n",
       "    </tr>\n",
       "    <tr>\n",
       "      <th>4</th>\n",
       "      <td>00069909160c6bcd9836cdb23e35b1fdaf56d0c3</td>\n",
       "      <td>Storytelling is when narratives people tell ab...</td>\n",
       "    </tr>\n",
       "    <tr>\n",
       "      <th>...</th>\n",
       "      <td>...</td>\n",
       "      <td>...</td>\n",
       "    </tr>\n",
       "    <tr>\n",
       "      <th>28342</th>\n",
       "      <td>fff43ee22d85efffada33d73f953c0d814d90290</td>\n",
       "      <td>Peter Vogt - Design Thinking Reflection - Lear...</td>\n",
       "    </tr>\n",
       "    <tr>\n",
       "      <th>28343</th>\n",
       "      <td>fff56a1858c62540bd76bad23db07a2fbfa963fe</td>\n",
       "      <td>STORYTELLING AS A TOOL FOR STRATEGIC CHANGES\\n...</td>\n",
       "    </tr>\n",
       "    <tr>\n",
       "      <th>28344</th>\n",
       "      <td>fff7364558963fb9fa218f2fa08d5d2767992207</td>\n",
       "      <td>Junio 2019 Storytelling Jose Vergara\\n\\nChalle...</td>\n",
       "    </tr>\n",
       "    <tr>\n",
       "      <th>28345</th>\n",
       "      <td>fffa6add42713b8b1e2a5158616f780997bbda49</td>\n",
       "      <td>Reflexion - Mind Mapping\\n\\nChallenge &amp; Select...</td>\n",
       "    </tr>\n",
       "    <tr>\n",
       "      <th>28346</th>\n",
       "      <td>fffbf02f0028d138811ed7f33682dea65294ddab</td>\n",
       "      <td>AMAZING STEPS TO LAUNCH YOUR ORIFLAME BUSINESS...</td>\n",
       "    </tr>\n",
       "  </tbody>\n",
       "</table>\n",
       "<p>22903 rows × 2 columns</p>\n",
       "</div>"
      ],
      "text/plain": [
       "            uva_peer_assignments_user_id_author  \\\n",
       "0      0000e5af02da0c7575b3ebd346b55b29f959e90f   \n",
       "1      0002c0f31f5c8456bd360dfcd089a64f444e2de0   \n",
       "2      00030b378ea62d60a177113b7854eb26cc29e1a9   \n",
       "3      000458f7d47a0b6414f9146258829170ae3ed6a9   \n",
       "4      00069909160c6bcd9836cdb23e35b1fdaf56d0c3   \n",
       "...                                         ...   \n",
       "28342  fff43ee22d85efffada33d73f953c0d814d90290   \n",
       "28343  fff56a1858c62540bd76bad23db07a2fbfa963fe   \n",
       "28344  fff7364558963fb9fa218f2fa08d5d2767992207   \n",
       "28345  fffa6add42713b8b1e2a5158616f780997bbda49   \n",
       "28346  fffbf02f0028d138811ed7f33682dea65294ddab   \n",
       "\n",
       "                                                    text  \n",
       "0      Reflection – visualization\\n\\nChallenge      &...  \n",
       "1      Assignment :\\n\\n1. Challenge: Describe your ch...  \n",
       "2      VISUALIZATION\\n\\nChallenge    I am part of the...  \n",
       "3      The main item is usually the focal point of th...  \n",
       "4      Storytelling is when narratives people tell ab...  \n",
       "...                                                  ...  \n",
       "28342  Peter Vogt - Design Thinking Reflection - Lear...  \n",
       "28343  STORYTELLING AS A TOOL FOR STRATEGIC CHANGES\\n...  \n",
       "28344  Junio 2019 Storytelling Jose Vergara\\n\\nChalle...  \n",
       "28345  Reflexion - Mind Mapping\\n\\nChallenge & Select...  \n",
       "28346  AMAZING STEPS TO LAUNCH YOUR ORIFLAME BUSINESS...  \n",
       "\n",
       "[22903 rows x 2 columns]"
      ]
     },
     "execution_count": 5,
     "metadata": {},
     "output_type": "execute_result"
    }
   ],
   "source": [
    "# Find duplicate essays\n",
    "print(len(submissions_df))\n",
    "submissions_df['is_duplicate'] = submissions_df.duplicated(subset=['text'], keep=False)\n",
    "texts = submissions_df[submissions_df['is_duplicate']==False][['uva_peer_assignments_user_id_author', 'text']]\n",
    "\n",
    "texts"
   ]
  },
  {
   "cell_type": "markdown",
   "id": "58076986-acc6-45e2-a098-18a5a953173c",
   "metadata": {
    "tags": []
   },
   "source": [
    "## Get number of words for each of the labelled texts and add variance to reviewer_df"
   ]
  },
  {
   "cell_type": "code",
   "execution_count": 6,
   "id": "4bf57458-8716-463b-addb-8b8a94d35651",
   "metadata": {},
   "outputs": [
    {
     "data": {
      "text/html": [
       "<div>\n",
       "<style scoped>\n",
       "    .dataframe tbody tr th:only-of-type {\n",
       "        vertical-align: middle;\n",
       "    }\n",
       "\n",
       "    .dataframe tbody tr th {\n",
       "        vertical-align: top;\n",
       "    }\n",
       "\n",
       "    .dataframe thead th {\n",
       "        text-align: right;\n",
       "    }\n",
       "</style>\n",
       "<table border=\"1\" class=\"dataframe\">\n",
       "  <thead>\n",
       "    <tr style=\"text-align: right;\">\n",
       "      <th></th>\n",
       "      <th>uva_peer_assignments_user_id_author</th>\n",
       "      <th>text</th>\n",
       "      <th>num_words</th>\n",
       "    </tr>\n",
       "  </thead>\n",
       "  <tbody>\n",
       "    <tr>\n",
       "      <th>0</th>\n",
       "      <td>0000e5af02da0c7575b3ebd346b55b29f959e90f</td>\n",
       "      <td>Reflection – visualization\\n\\nChallenge      &amp;...</td>\n",
       "      <td>583</td>\n",
       "    </tr>\n",
       "    <tr>\n",
       "      <th>1</th>\n",
       "      <td>0002c0f31f5c8456bd360dfcd089a64f444e2de0</td>\n",
       "      <td>Assignment :\\n\\n1. Challenge: Describe your ch...</td>\n",
       "      <td>1003</td>\n",
       "    </tr>\n",
       "    <tr>\n",
       "      <th>2</th>\n",
       "      <td>00030b378ea62d60a177113b7854eb26cc29e1a9</td>\n",
       "      <td>VISUALIZATION\\n\\nChallenge    I am part of the...</td>\n",
       "      <td>627</td>\n",
       "    </tr>\n",
       "    <tr>\n",
       "      <th>3</th>\n",
       "      <td>000458f7d47a0b6414f9146258829170ae3ed6a9</td>\n",
       "      <td>The main item is usually the focal point of th...</td>\n",
       "      <td>215</td>\n",
       "    </tr>\n",
       "    <tr>\n",
       "      <th>4</th>\n",
       "      <td>00069909160c6bcd9836cdb23e35b1fdaf56d0c3</td>\n",
       "      <td>Storytelling is when narratives people tell ab...</td>\n",
       "      <td>1070</td>\n",
       "    </tr>\n",
       "    <tr>\n",
       "      <th>...</th>\n",
       "      <td>...</td>\n",
       "      <td>...</td>\n",
       "      <td>...</td>\n",
       "    </tr>\n",
       "    <tr>\n",
       "      <th>28342</th>\n",
       "      <td>fff43ee22d85efffada33d73f953c0d814d90290</td>\n",
       "      <td>Peter Vogt - Design Thinking Reflection - Lear...</td>\n",
       "      <td>496</td>\n",
       "    </tr>\n",
       "    <tr>\n",
       "      <th>28343</th>\n",
       "      <td>fff56a1858c62540bd76bad23db07a2fbfa963fe</td>\n",
       "      <td>STORYTELLING AS A TOOL FOR STRATEGIC CHANGES\\n...</td>\n",
       "      <td>779</td>\n",
       "    </tr>\n",
       "    <tr>\n",
       "      <th>28344</th>\n",
       "      <td>fff7364558963fb9fa218f2fa08d5d2767992207</td>\n",
       "      <td>Junio 2019 Storytelling Jose Vergara\\n\\nChalle...</td>\n",
       "      <td>802</td>\n",
       "    </tr>\n",
       "    <tr>\n",
       "      <th>28345</th>\n",
       "      <td>fffa6add42713b8b1e2a5158616f780997bbda49</td>\n",
       "      <td>Reflexion - Mind Mapping\\n\\nChallenge &amp; Select...</td>\n",
       "      <td>807</td>\n",
       "    </tr>\n",
       "    <tr>\n",
       "      <th>28346</th>\n",
       "      <td>fffbf02f0028d138811ed7f33682dea65294ddab</td>\n",
       "      <td>AMAZING STEPS TO LAUNCH YOUR ORIFLAME BUSINESS...</td>\n",
       "      <td>528</td>\n",
       "    </tr>\n",
       "  </tbody>\n",
       "</table>\n",
       "<p>22903 rows × 3 columns</p>\n",
       "</div>"
      ],
      "text/plain": [
       "            uva_peer_assignments_user_id_author  \\\n",
       "0      0000e5af02da0c7575b3ebd346b55b29f959e90f   \n",
       "1      0002c0f31f5c8456bd360dfcd089a64f444e2de0   \n",
       "2      00030b378ea62d60a177113b7854eb26cc29e1a9   \n",
       "3      000458f7d47a0b6414f9146258829170ae3ed6a9   \n",
       "4      00069909160c6bcd9836cdb23e35b1fdaf56d0c3   \n",
       "...                                         ...   \n",
       "28342  fff43ee22d85efffada33d73f953c0d814d90290   \n",
       "28343  fff56a1858c62540bd76bad23db07a2fbfa963fe   \n",
       "28344  fff7364558963fb9fa218f2fa08d5d2767992207   \n",
       "28345  fffa6add42713b8b1e2a5158616f780997bbda49   \n",
       "28346  fffbf02f0028d138811ed7f33682dea65294ddab   \n",
       "\n",
       "                                                    text  num_words  \n",
       "0      Reflection – visualization\\n\\nChallenge      &...        583  \n",
       "1      Assignment :\\n\\n1. Challenge: Describe your ch...       1003  \n",
       "2      VISUALIZATION\\n\\nChallenge    I am part of the...        627  \n",
       "3      The main item is usually the focal point of th...        215  \n",
       "4      Storytelling is when narratives people tell ab...       1070  \n",
       "...                                                  ...        ...  \n",
       "28342  Peter Vogt - Design Thinking Reflection - Lear...        496  \n",
       "28343  STORYTELLING AS A TOOL FOR STRATEGIC CHANGES\\n...        779  \n",
       "28344  Junio 2019 Storytelling Jose Vergara\\n\\nChalle...        802  \n",
       "28345  Reflexion - Mind Mapping\\n\\nChallenge & Select...        807  \n",
       "28346  AMAZING STEPS TO LAUNCH YOUR ORIFLAME BUSINESS...        528  \n",
       "\n",
       "[22903 rows x 3 columns]"
      ]
     },
     "execution_count": 6,
     "metadata": {},
     "output_type": "execute_result"
    }
   ],
   "source": [
    "# Get number of words for the labelled texts\n",
    "texts['num_words'] = texts.apply(lambda row: len(row['text'].split()), axis=1)\n",
    "\n",
    "# Get reviewer variance\n",
    "reviewer_df['total_variance'] = reviewer_df['total_sd']**2\n",
    "texts"
   ]
  },
  {
   "cell_type": "markdown",
   "id": "3109b7cb-e41d-41a7-a4b9-e9981aab6140",
   "metadata": {
    "tags": []
   },
   "source": [
    "## Exploratory Data Analysis"
   ]
  },
  {
   "cell_type": "code",
   "execution_count": null,
   "id": "eca2f016-3f54-4b62-94bb-0d5947dcd6dd",
   "metadata": {},
   "outputs": [],
   "source": []
  },
  {
   "cell_type": "markdown",
   "id": "9e338500-0f9f-4abe-88a8-47d65f8dcfce",
   "metadata": {
    "tags": []
   },
   "source": [
    "## A function to look at the effect of pruning reviewers \n",
    "It takes a beginning, and end, and an interval and returns a dictionary with four lists, minimum feature, number of reviews retained, number of authors retained, and correlation between score and word count. Please note, it requires that you define a function in advance called pruneReviewers which tells it which metric to prune reviewers by."
   ]
  },
  {
   "cell_type": "code",
   "execution_count": 7,
   "id": "585d24e9-3aa7-492e-bcb9-37ed42b9d37a",
   "metadata": {},
   "outputs": [],
   "source": [
    "def pruneReviewersData(beginning, end, interval):\n",
    "    # Initialize the stats dictionary\n",
    "    stats_dict = {'minimum_feature':[], 'num_reviews':[], 'score_correlation':[], 'num_authors':[]}\n",
    "\n",
    "    labelled_data = texts.merge(reviews_df, on='uva_peer_assignments_user_id_author', how='left')\n",
    "    print(len(texts), len(set(labelled_data['uva_peer_assignments_user_id_author'])))\n",
    "\n",
    "    # essay_scores contains, author id, reviewer id, submission id, and the sum score for each review\n",
    "    essay_scores = labelled_data.groupby(['uva_peer_assignments_user_id_reviewer', 'peer_submission_id', 'uva_peer_assignments_user_id_author']).agg({'peer_assignment_review_schema_part_option_score':'sum'}).reset_index()\n",
    "    # check to make sure it looks valid\n",
    "    print('checking for non-null values\\n' , essay_scores.count(), sep='')\n",
    "    print('num of reviews:', len(essay_scores))\n",
    "    print('num of authors:', essay_scores['uva_peer_assignments_user_id_author'].nunique())\n",
    "\n",
    "    for i in np.arange(beginning,end,interval):\n",
    "        good_reviewers = pruneReviewers(i)\n",
    "        # Merge essay scores with good reviewers and keep only reviews by good reviewers\n",
    "        essay_scores_good_reviewers = good_reviewers.merge(essay_scores, on='uva_peer_assignments_user_id_reviewer', how='right')\n",
    "        essay_scores_good_only = essay_scores_good_reviewers[essay_scores_good_reviewers['good_reviewer'] == True]\n",
    "        # Create a dataframe of submission ids of submissions reviewed by at least two good reviewers\n",
    "        good_reviewers_df = essay_scores_good_only.groupby('peer_submission_id').agg({'good_reviewer':'sum'}).reset_index()\n",
    "        good_reviewers_df = good_reviewers_df[good_reviewers_df['good_reviewer'] >= 2].rename(columns={'good_reviewer':'num_reviews'})\n",
    "        # Merge essay scores with good reviewers in order to remove submissions with less than two good reviewers\n",
    "        essay_scores_good_labelled = essay_scores_good_only.merge(good_reviewers_df, on='peer_submission_id', how='right')\n",
    "        # Collect average scores for each submission\n",
    "        essay_scores_final = essay_scores_good_labelled.groupby(['peer_submission_id', 'uva_peer_assignments_user_id_author']).agg({'peer_assignment_review_schema_part_option_score':'mean'}).reset_index()\n",
    "        corr_df = essay_scores_final[['uva_peer_assignments_user_id_author',\n",
    "                                  'peer_assignment_review_schema_part_option_score']].drop_duplicates().merge(texts[['uva_peer_assignments_user_id_author', \n",
    "                                                                                                                 'num_words']].drop_duplicates(), on='uva_peer_assignments_user_id_author', how='left')\n",
    "        # Calculate statistics\n",
    "        stats_dict['minimum_feature'].append(i)\n",
    "        stats_dict['num_reviews'].append(len(essay_scores_good_labelled))\n",
    "        stats_dict['num_authors'].append(len(good_reviewers_df))\n",
    "        stats_dict['score_correlation'].append(corr_df[['peer_assignment_review_schema_part_option_score','num_words']].corr().iloc[0,1])\n",
    "        \n",
    "    return stats_dict"
   ]
  },
  {
   "cell_type": "markdown",
   "id": "9cc7f3dd-14b1-4b50-aa4b-a65149e494d3",
   "metadata": {},
   "source": [
    "## Prune Reviewers Based on Variance"
   ]
  },
  {
   "cell_type": "code",
   "execution_count": 8,
   "id": "dff5729d-88fa-4815-99b5-351bc260cfe5",
   "metadata": {},
   "outputs": [
    {
     "name": "stdout",
     "output_type": "stream",
     "text": [
      "22903 22903\n",
      "checking for non-null values\n",
      "uva_peer_assignments_user_id_reviewer              77313\n",
      "peer_submission_id                                 77313\n",
      "uva_peer_assignments_user_id_author                77313\n",
      "peer_assignment_review_schema_part_option_score    77313\n",
      "dtype: int64\n",
      "num of reviews: 77313\n",
      "num of authors: 22892\n"
     ]
    }
   ],
   "source": [
    "# Define function to mark reviewers based on a given variance threshold\n",
    "def pruneReviewers(variance_threshold):\n",
    "    good_reviewers_df = reviewer_df[reviewer_df['total_variance']>=variance_threshold][['uva_peer_assignments_user_id_reviewer']]\n",
    "    good_reviewers_df['good_reviewer'] = True\n",
    "    return good_reviewers_df\n",
    "\n",
    "stats_dict = pruneReviewersData(0, 20, 0.1)"
   ]
  },
  {
   "cell_type": "markdown",
   "id": "a4e21608-24d7-43f9-bc37-95792443ffc4",
   "metadata": {
    "tags": []
   },
   "source": [
    "### Explore the data"
   ]
  },
  {
   "cell_type": "code",
   "execution_count": 12,
   "id": "49fa0889-b7c5-4b70-b5c4-55116bfd02ef",
   "metadata": {},
   "outputs": [
    {
     "data": {
      "text/html": [
       "<div>\n",
       "<style scoped>\n",
       "    .dataframe tbody tr th:only-of-type {\n",
       "        vertical-align: middle;\n",
       "    }\n",
       "\n",
       "    .dataframe tbody tr th {\n",
       "        vertical-align: top;\n",
       "    }\n",
       "\n",
       "    .dataframe thead th {\n",
       "        text-align: right;\n",
       "    }\n",
       "</style>\n",
       "<table border=\"1\" class=\"dataframe\">\n",
       "  <thead>\n",
       "    <tr style=\"text-align: right;\">\n",
       "      <th></th>\n",
       "      <th>minimum_feature</th>\n",
       "      <th>num_reviews</th>\n",
       "      <th>score_correlation</th>\n",
       "      <th>num_authors</th>\n",
       "    </tr>\n",
       "  </thead>\n",
       "  <tbody>\n",
       "    <tr>\n",
       "      <th>19</th>\n",
       "      <td>1.9</td>\n",
       "      <td>23820</td>\n",
       "      <td>0.326122</td>\n",
       "      <td>10036</td>\n",
       "    </tr>\n",
       "    <tr>\n",
       "      <th>18</th>\n",
       "      <td>1.8</td>\n",
       "      <td>24357</td>\n",
       "      <td>0.322074</td>\n",
       "      <td>10222</td>\n",
       "    </tr>\n",
       "    <tr>\n",
       "      <th>17</th>\n",
       "      <td>1.7</td>\n",
       "      <td>24490</td>\n",
       "      <td>0.321319</td>\n",
       "      <td>10271</td>\n",
       "    </tr>\n",
       "    <tr>\n",
       "      <th>15</th>\n",
       "      <td>1.5</td>\n",
       "      <td>29138</td>\n",
       "      <td>0.318444</td>\n",
       "      <td>11973</td>\n",
       "    </tr>\n",
       "    <tr>\n",
       "      <th>16</th>\n",
       "      <td>1.6</td>\n",
       "      <td>25084</td>\n",
       "      <td>0.318381</td>\n",
       "      <td>10486</td>\n",
       "    </tr>\n",
       "    <tr>\n",
       "      <th>14</th>\n",
       "      <td>1.4</td>\n",
       "      <td>29609</td>\n",
       "      <td>0.317120</td>\n",
       "      <td>12132</td>\n",
       "    </tr>\n",
       "    <tr>\n",
       "      <th>13</th>\n",
       "      <td>1.3</td>\n",
       "      <td>29817</td>\n",
       "      <td>0.314744</td>\n",
       "      <td>12208</td>\n",
       "    </tr>\n",
       "    <tr>\n",
       "      <th>12</th>\n",
       "      <td>1.2</td>\n",
       "      <td>30197</td>\n",
       "      <td>0.314609</td>\n",
       "      <td>12346</td>\n",
       "    </tr>\n",
       "    <tr>\n",
       "      <th>11</th>\n",
       "      <td>1.1</td>\n",
       "      <td>30700</td>\n",
       "      <td>0.314214</td>\n",
       "      <td>12515</td>\n",
       "    </tr>\n",
       "    <tr>\n",
       "      <th>10</th>\n",
       "      <td>1.0</td>\n",
       "      <td>31159</td>\n",
       "      <td>0.313499</td>\n",
       "      <td>12683</td>\n",
       "    </tr>\n",
       "    <tr>\n",
       "      <th>9</th>\n",
       "      <td>0.9</td>\n",
       "      <td>31369</td>\n",
       "      <td>0.312834</td>\n",
       "      <td>12762</td>\n",
       "    </tr>\n",
       "    <tr>\n",
       "      <th>8</th>\n",
       "      <td>0.8</td>\n",
       "      <td>36219</td>\n",
       "      <td>0.306196</td>\n",
       "      <td>14400</td>\n",
       "    </tr>\n",
       "    <tr>\n",
       "      <th>7</th>\n",
       "      <td>0.7</td>\n",
       "      <td>36869</td>\n",
       "      <td>0.301474</td>\n",
       "      <td>14620</td>\n",
       "    </tr>\n",
       "    <tr>\n",
       "      <th>6</th>\n",
       "      <td>0.6</td>\n",
       "      <td>41897</td>\n",
       "      <td>0.297429</td>\n",
       "      <td>16108</td>\n",
       "    </tr>\n",
       "    <tr>\n",
       "      <th>5</th>\n",
       "      <td>0.5</td>\n",
       "      <td>42617</td>\n",
       "      <td>0.293958</td>\n",
       "      <td>16306</td>\n",
       "    </tr>\n",
       "    <tr>\n",
       "      <th>4</th>\n",
       "      <td>0.4</td>\n",
       "      <td>43026</td>\n",
       "      <td>0.291689</td>\n",
       "      <td>16428</td>\n",
       "    </tr>\n",
       "    <tr>\n",
       "      <th>3</th>\n",
       "      <td>0.3</td>\n",
       "      <td>43265</td>\n",
       "      <td>0.289667</td>\n",
       "      <td>16493</td>\n",
       "    </tr>\n",
       "    <tr>\n",
       "      <th>2</th>\n",
       "      <td>0.2</td>\n",
       "      <td>52127</td>\n",
       "      <td>0.277911</td>\n",
       "      <td>18757</td>\n",
       "    </tr>\n",
       "    <tr>\n",
       "      <th>1</th>\n",
       "      <td>0.1</td>\n",
       "      <td>53915</td>\n",
       "      <td>0.268493</td>\n",
       "      <td>19198</td>\n",
       "    </tr>\n",
       "    <tr>\n",
       "      <th>0</th>\n",
       "      <td>0.0</td>\n",
       "      <td>77292</td>\n",
       "      <td>0.164762</td>\n",
       "      <td>22871</td>\n",
       "    </tr>\n",
       "  </tbody>\n",
       "</table>\n",
       "</div>"
      ],
      "text/plain": [
       "    minimum_feature  num_reviews  score_correlation  num_authors\n",
       "19              1.9        23820           0.326122        10036\n",
       "18              1.8        24357           0.322074        10222\n",
       "17              1.7        24490           0.321319        10271\n",
       "15              1.5        29138           0.318444        11973\n",
       "16              1.6        25084           0.318381        10486\n",
       "14              1.4        29609           0.317120        12132\n",
       "13              1.3        29817           0.314744        12208\n",
       "12              1.2        30197           0.314609        12346\n",
       "11              1.1        30700           0.314214        12515\n",
       "10              1.0        31159           0.313499        12683\n",
       "9               0.9        31369           0.312834        12762\n",
       "8               0.8        36219           0.306196        14400\n",
       "7               0.7        36869           0.301474        14620\n",
       "6               0.6        41897           0.297429        16108\n",
       "5               0.5        42617           0.293958        16306\n",
       "4               0.4        43026           0.291689        16428\n",
       "3               0.3        43265           0.289667        16493\n",
       "2               0.2        52127           0.277911        18757\n",
       "1               0.1        53915           0.268493        19198\n",
       "0               0.0        77292           0.164762        22871"
      ]
     },
     "execution_count": 12,
     "metadata": {},
     "output_type": "execute_result"
    }
   ],
   "source": [
    "df = pd.DataFrame.from_dict(stats_dict)\n",
    "df[df['minimum_feature'] < 2].sort_values(by='score_correlation', ascending=False)"
   ]
  },
  {
   "cell_type": "markdown",
   "id": "52805d69-90ce-46ec-95b0-f76aa299aced",
   "metadata": {
    "tags": []
   },
   "source": [
    "### Graph"
   ]
  },
  {
   "cell_type": "code",
   "execution_count": 17,
   "id": "cdcfbb70-0037-4085-b3b6-602a132fcd8b",
   "metadata": {},
   "outputs": [
    {
     "data": {
      "image/png": "[encoded data removed]",
      "text/plain": [
       "<Figure size 432x288 with 2 Axes>"
      ]
     },
     "metadata": {
      "needs_background": "light"
     },
     "output_type": "display_data"
    }
   ],
   "source": [
    "import numpy as np\n",
    "import matplotlib.pyplot as plt\n",
    "\n",
    "# Create some mock data\n",
    "t = stats_dict['minimum_feature']\n",
    "data1 = stats_dict['score_correlation']\n",
    "data2 = stats_dict['num_authors']\n",
    "\n",
    "fig, ax1 = plt.subplots()\n",
    "\n",
    "color = 'tab:red'\n",
    "ax1.set_xlabel('minimum reviewer variance')\n",
    "ax1.set_ylabel('score correlation with text length', color=color)\n",
    "ax1.plot(t, data1, color=color)\n",
    "ax1.tick_params(axis='y', labelcolor=color)\n",
    "\n",
    "ax2 = ax1.twinx()  # instantiate a second axes that shares the same x-axis\n",
    "\n",
    "color = 'tab:blue'\n",
    "ax2.set_ylabel('number of authors retained', color=color)  # we already handled the x-label with ax1\n",
    "ax2.plot(t, data2, color=color)\n",
    "ax2.tick_params(axis='y', labelcolor=color)\n",
    "\n",
    "fig.tight_layout()  # otherwise the right y-label is slightly clipped\n",
    "plt.axvline(x=0.0001, color='green', linestyle='dashed')\n",
    "plt.axvline(x=1, color='orange', linestyle='dashed')\n",
    "plt.axvline(x=2.75, color='red', linestyle='dashed')\n",
    "plt.title('Effect of Prunning Reviewers Based on Variance')\n",
    "plt.show()\n"
   ]
  },
  {
   "cell_type": "markdown",
   "id": "effc373b-42cf-4bb2-ad6d-ac940b07f34b",
   "metadata": {},
   "source": [
    "## Pruning Based on TTR"
   ]
  },
  {
   "cell_type": "code",
   "execution_count": 18,
   "id": "7777054c-c29a-4709-8fd7-4b74572ba2fc",
   "metadata": {},
   "outputs": [
    {
     "name": "stdout",
     "output_type": "stream",
     "text": [
      "22903 22903\n",
      "checking for non-null values\n",
      "uva_peer_assignments_user_id_reviewer              77313\n",
      "peer_submission_id                                 77313\n",
      "uva_peer_assignments_user_id_author                77313\n",
      "peer_assignment_review_schema_part_option_score    77313\n",
      "dtype: int64\n",
      "num of reviews: 77313\n",
      "num of authors: 22892\n"
     ]
    }
   ],
   "source": [
    "# Define function to mark reviewers based on a given variance threshold\n",
    "def pruneReviewers(ttr_threshold):\n",
    "    good_reviewers_df = reviewer_df[reviewer_df['total_ttr']>=ttr_threshold][['uva_peer_assignments_user_id_reviewer']]\n",
    "    good_reviewers_df['good_reviewer'] = True\n",
    "    return good_reviewers_df\n",
    "\n",
    "stats_dict = pruneReviewersData(0, 1, 0.001)"
   ]
  },
  {
   "cell_type": "markdown",
   "id": "c98cbaa4-51b4-4ac1-8173-1d8a91df6f2b",
   "metadata": {},
   "source": [
    "### Explore Data"
   ]
  },
  {
   "cell_type": "code",
   "execution_count": 17,
   "id": "cbac0e5b-dfaf-4ed1-bd80-226cfaf6fd24",
   "metadata": {},
   "outputs": [
    {
     "data": {
      "text/html": [
       "<div>\n",
       "<style scoped>\n",
       "    .dataframe tbody tr th:only-of-type {\n",
       "        vertical-align: middle;\n",
       "    }\n",
       "\n",
       "    .dataframe tbody tr th {\n",
       "        vertical-align: top;\n",
       "    }\n",
       "\n",
       "    .dataframe thead th {\n",
       "        text-align: right;\n",
       "    }\n",
       "</style>\n",
       "<table border=\"1\" class=\"dataframe\">\n",
       "  <thead>\n",
       "    <tr style=\"text-align: right;\">\n",
       "      <th></th>\n",
       "      <th>minimum_feature</th>\n",
       "      <th>num_reviews</th>\n",
       "      <th>score_correlation</th>\n",
       "      <th>num_authors</th>\n",
       "    </tr>\n",
       "  </thead>\n",
       "  <tbody>\n",
       "    <tr>\n",
       "      <th>405</th>\n",
       "      <td>0.405</td>\n",
       "      <td>26984</td>\n",
       "      <td>0.316988</td>\n",
       "      <td>10971</td>\n",
       "    </tr>\n",
       "    <tr>\n",
       "      <th>396</th>\n",
       "      <td>0.396</td>\n",
       "      <td>28528</td>\n",
       "      <td>0.316793</td>\n",
       "      <td>11495</td>\n",
       "    </tr>\n",
       "    <tr>\n",
       "      <th>395</th>\n",
       "      <td>0.395</td>\n",
       "      <td>28700</td>\n",
       "      <td>0.316475</td>\n",
       "      <td>11550</td>\n",
       "    </tr>\n",
       "    <tr>\n",
       "      <th>401</th>\n",
       "      <td>0.401</td>\n",
       "      <td>27690</td>\n",
       "      <td>0.316202</td>\n",
       "      <td>11213</td>\n",
       "    </tr>\n",
       "    <tr>\n",
       "      <th>406</th>\n",
       "      <td>0.406</td>\n",
       "      <td>26807</td>\n",
       "      <td>0.316061</td>\n",
       "      <td>10911</td>\n",
       "    </tr>\n",
       "  </tbody>\n",
       "</table>\n",
       "</div>"
      ],
      "text/plain": [
       "     minimum_feature  num_reviews  score_correlation  num_authors\n",
       "405            0.405        26984           0.316988        10971\n",
       "396            0.396        28528           0.316793        11495\n",
       "395            0.395        28700           0.316475        11550\n",
       "401            0.401        27690           0.316202        11213\n",
       "406            0.406        26807           0.316061        10911"
      ]
     },
     "execution_count": 17,
     "metadata": {},
     "output_type": "execute_result"
    }
   ],
   "source": [
    "pd.DataFrame.from_dict(stats_dict).sort_values(by='score_correlation', ascending=False).head(5)"
   ]
  },
  {
   "cell_type": "markdown",
   "id": "f59a781b-0d46-440b-b27d-8784297576be",
   "metadata": {},
   "source": [
    "### Make a Graph"
   ]
  },
  {
   "cell_type": "code",
   "execution_count": 19,
   "id": "1a2c4b46-93c7-4679-b7a8-f5986c2fc2a7",
   "metadata": {},
   "outputs": [
    {
     "data": {
      "image/png": "[encoded data removed]",
      "text/plain": [
       "<Figure size 432x288 with 2 Axes>"
      ]
     },
     "metadata": {
      "needs_background": "light"
     },
     "output_type": "display_data"
    }
   ],
   "source": [
    "import numpy as np\n",
    "import matplotlib.pyplot as plt\n",
    "\n",
    "t = stats_dict['minimum_feature']\n",
    "data1 = stats_dict['score_correlation']\n",
    "data2 = stats_dict['num_authors']\n",
    "\n",
    "fig, ax1 = plt.subplots()\n",
    "\n",
    "color = 'tab:red'\n",
    "ax1.set_xlabel('minimum reviewer TTR')\n",
    "ax1.set_ylabel('score correlation with text length', color=color)\n",
    "ax1.plot(t, data1, color=color)\n",
    "ax1.tick_params(axis='y', labelcolor=color)\n",
    "\n",
    "ax2 = ax1.twinx()  # instantiate a second axes that shares the same x-axis\n",
    "\n",
    "color = 'tab:blue'\n",
    "ax2.set_ylabel('number of authors retained', color=color)  # we already handled the x-label with ax1\n",
    "ax2.plot(t, data2, color=color)\n",
    "ax2.tick_params(axis='y', labelcolor=color)\n",
    "\n",
    "fig.tight_layout()  # otherwise the right y-label is slightly clipped\n",
    "\n",
    "plt.axvline(x=0.05, color='green', linestyle='dashed')\n",
    "plt.axvline(x=0.2, color='orange', linestyle='dashed')\n",
    "plt.axvline(x=0.4, color='red', linestyle='dashed')\n",
    "\n",
    "plt.title('Effect of Prunning Reviewers Based on TTR')\n",
    "plt.show()"
   ]
  },
  {
   "cell_type": "markdown",
   "id": "24f09a14-c987-45b7-8eb9-ba00e3fc6903",
   "metadata": {},
   "source": [
    "## Looking at Combined Variance > 0 and TTR"
   ]
  },
  {
   "cell_type": "code",
   "execution_count": 20,
   "id": "da406ced-a8d8-41e2-bcaf-3cd802636bc1",
   "metadata": {},
   "outputs": [
    {
     "name": "stdout",
     "output_type": "stream",
     "text": [
      "22903 22903\n",
      "checking for non-null values\n",
      "uva_peer_assignments_user_id_reviewer              77313\n",
      "peer_submission_id                                 77313\n",
      "uva_peer_assignments_user_id_author                77313\n",
      "peer_assignment_review_schema_part_option_score    77313\n",
      "dtype: int64\n",
      "num of reviews: 77313\n",
      "num of authors: 22892\n"
     ]
    }
   ],
   "source": [
    "def pruneReviewers(ttr_threshold):\n",
    "    good_reviewers_df = reviewer_df[(reviewer_df['total_ttr']>=ttr_threshold)|reviewer_df['total_variance'] >0][['uva_peer_assignments_user_id_reviewer']]\n",
    "    good_reviewers_df['good_reviewer'] = True\n",
    "    return good_reviewers_df\n",
    "\n",
    "stats_dict = pruneReviewersData(0,1,0.001)\n"
   ]
  },
  {
   "cell_type": "markdown",
   "id": "8e111667-28a8-4d09-b051-6d49d84e58d0",
   "metadata": {},
   "source": [
    "### Look at Data"
   ]
  },
  {
   "cell_type": "code",
   "execution_count": 99,
   "id": "da9b3ad3-b5a0-4572-8ba3-e0a20297e842",
   "metadata": {},
   "outputs": [
    {
     "data": {
      "text/html": [
       "<div>\n",
       "<style scoped>\n",
       "    .dataframe tbody tr th:only-of-type {\n",
       "        vertical-align: middle;\n",
       "    }\n",
       "\n",
       "    .dataframe tbody tr th {\n",
       "        vertical-align: top;\n",
       "    }\n",
       "\n",
       "    .dataframe thead th {\n",
       "        text-align: right;\n",
       "    }\n",
       "</style>\n",
       "<table border=\"1\" class=\"dataframe\">\n",
       "  <thead>\n",
       "    <tr style=\"text-align: right;\">\n",
       "      <th></th>\n",
       "      <th>minimum_feature</th>\n",
       "      <th>num_reviews</th>\n",
       "      <th>score_correlation</th>\n",
       "      <th>num_authors</th>\n",
       "    </tr>\n",
       "  </thead>\n",
       "  <tbody>\n",
       "    <tr>\n",
       "      <th>450</th>\n",
       "      <td>0.45</td>\n",
       "      <td>9813</td>\n",
       "      <td>0.269259</td>\n",
       "      <td>2569</td>\n",
       "    </tr>\n",
       "  </tbody>\n",
       "</table>\n",
       "</div>"
      ],
      "text/plain": [
       "     minimum_feature  num_reviews  score_correlation  num_authors\n",
       "450             0.45         9813           0.269259         2569"
      ]
     },
     "execution_count": 99,
     "metadata": {},
     "output_type": "execute_result"
    }
   ],
   "source": [
    "score_df = pd.DataFrame.from_dict(stats_dict)\n",
    "score_df[score_df['minimum_feature']==0.45]"
   ]
  },
  {
   "cell_type": "markdown",
   "id": "9cbd8771-e10f-4835-86b9-2ac118fe8689",
   "metadata": {},
   "source": [
    "### Graph"
   ]
  },
  {
   "cell_type": "code",
   "execution_count": 22,
   "id": "df313c8d-26f2-4454-bd09-05cdb00bf6f0",
   "metadata": {},
   "outputs": [
    {
     "data": {
      "image/png": "[encoded data removed]",
      "text/plain": [
       "<Figure size 432x288 with 2 Axes>"
      ]
     },
     "metadata": {
      "needs_background": "light"
     },
     "output_type": "display_data"
    }
   ],
   "source": [
    "import numpy as np\n",
    "import matplotlib.pyplot as plt\n",
    "\n",
    "# Create some mock data\n",
    "t = stats_dict['minimum_feature']\n",
    "data1 = stats_dict['score_correlation']\n",
    "data2 = stats_dict['num_authors']\n",
    "\n",
    "fig, ax1 = plt.subplots()\n",
    "\n",
    "color = 'tab:red'\n",
    "ax1.set_xlabel('minimum reviewer TTR')\n",
    "ax1.set_ylabel('score correlation with text length', color=color)\n",
    "ax1.plot(t, data1, color=color)\n",
    "ax1.tick_params(axis='y', labelcolor=color)\n",
    "\n",
    "ax2 = ax1.twinx()  # instantiate a second axes that shares the same x-axis\n",
    "\n",
    "color = 'tab:blue'\n",
    "ax2.set_ylabel('number of authors retained', color=color)  # we already handled the x-label with ax1\n",
    "ax2.plot(t, data2, color=color)\n",
    "ax2.tick_params(axis='y', labelcolor=color)\n",
    "\n",
    "fig.tight_layout()  # otherwise the right y-label is slightly clipped\n",
    "\n",
    "plt.axvline(x=0.05, color='green', linestyle='dashed')\n",
    "plt.axvline(x=0.4, color='red', linestyle='dashed')\n",
    "\n",
    "plt.title('Effect of Prunning Reviewers Based on Type/Token Ratio OR Variance > 0')\n",
    "plt.show()"
   ]
  },
  {
   "cell_type": "code",
   "execution_count": 25,
   "id": "13dbfb0a-998d-40bb-b878-3c3bb3384ccd",
   "metadata": {},
   "outputs": [
    {
     "name": "stdout",
     "output_type": "stream",
     "text": [
      "22903 22903\n",
      "checking for non-null values\n",
      "uva_peer_assignments_user_id_reviewer              77313\n",
      "peer_submission_id                                 77313\n",
      "uva_peer_assignments_user_id_author                77313\n",
      "peer_assignment_review_schema_part_option_score    77313\n",
      "dtype: int64\n",
      "num of reviews: 77313\n",
      "num of authors: 22892\n"
     ]
    }
   ],
   "source": [
    "def pruneReviewers(variance_threshold):\n",
    "    good_reviewers_df = reviewer_df[(reviewer_df['total_ttr']>=0.4)|(reviewer_df['total_variance'] > variance_threshold)][['uva_peer_assignments_user_id_reviewer']]\n",
    "    good_reviewers_df['good_reviewer'] = True\n",
    "    return good_reviewers_df\n",
    "\n",
    "stats_dict = pruneReviewersData(0,20,0.1)\n"
   ]
  },
  {
   "cell_type": "code",
   "execution_count": 26,
   "id": "32467e16-c96a-4b48-847f-302a4b177e27",
   "metadata": {},
   "outputs": [
    {
     "data": {
      "image/png": "[encoded data removed]",
      "text/plain": [
       "<Figure size 432x288 with 2 Axes>"
      ]
     },
     "metadata": {
      "needs_background": "light"
     },
     "output_type": "display_data"
    }
   ],
   "source": [
    "import numpy as np\n",
    "import matplotlib.pyplot as plt\n",
    "\n",
    "# Create some mock data\n",
    "t = stats_dict['minimum_feature']\n",
    "data1 = stats_dict['score_correlation']\n",
    "data2 = stats_dict['num_authors']\n",
    "\n",
    "fig, ax1 = plt.subplots()\n",
    "\n",
    "color = 'tab:red'\n",
    "ax1.set_xlabel('minimum reviewer variance')\n",
    "ax1.set_ylabel('score correlation with text length', color=color)\n",
    "ax1.plot(t, data1, color=color)\n",
    "ax1.tick_params(axis='y', labelcolor=color)\n",
    "\n",
    "ax2 = ax1.twinx()  # instantiate a second axes that shares the same x-axis\n",
    "\n",
    "color = 'tab:blue'\n",
    "ax2.set_ylabel('number of authors retained', color=color)  # we already handled the x-label with ax1\n",
    "ax2.plot(t, data2, color=color)\n",
    "ax2.tick_params(axis='y', labelcolor=color)\n",
    "\n",
    "fig.tight_layout()  # otherwise the right y-label is slightly clipped\n",
    "\n",
    "plt.axvline(x=02.5, color='green', linestyle='dashed')\n",
    "\n",
    "plt.title('Effect of Prunning Reviewers Based on  Variance OR Type/Token Ratio > 0.4')\n",
    "plt.show()"
   ]
  },
  {
   "cell_type": "code",
   "execution_count": 17,
   "id": "cd8be5c8-c908-4295-bb06-11a4fdd0490f",
   "metadata": {},
   "outputs": [
    {
     "data": {
      "text/html": [
       "<div>\n",
       "<style scoped>\n",
       "    .dataframe tbody tr th:only-of-type {\n",
       "        vertical-align: middle;\n",
       "    }\n",
       "\n",
       "    .dataframe tbody tr th {\n",
       "        vertical-align: top;\n",
       "    }\n",
       "\n",
       "    .dataframe thead th {\n",
       "        text-align: right;\n",
       "    }\n",
       "</style>\n",
       "<table border=\"1\" class=\"dataframe\">\n",
       "  <thead>\n",
       "    <tr style=\"text-align: right;\">\n",
       "      <th></th>\n",
       "      <th>minimum_ttr</th>\n",
       "      <th>num_reviews</th>\n",
       "      <th>score_correlation</th>\n",
       "      <th>num_authors</th>\n",
       "    </tr>\n",
       "  </thead>\n",
       "  <tbody>\n",
       "    <tr>\n",
       "      <th>0</th>\n",
       "      <td>0.000</td>\n",
       "      <td>14268</td>\n",
       "      <td>0.200626</td>\n",
       "      <td>2972</td>\n",
       "    </tr>\n",
       "    <tr>\n",
       "      <th>1</th>\n",
       "      <td>0.001</td>\n",
       "      <td>14268</td>\n",
       "      <td>0.200626</td>\n",
       "      <td>2972</td>\n",
       "    </tr>\n",
       "    <tr>\n",
       "      <th>2</th>\n",
       "      <td>0.002</td>\n",
       "      <td>14268</td>\n",
       "      <td>0.200626</td>\n",
       "      <td>2972</td>\n",
       "    </tr>\n",
       "    <tr>\n",
       "      <th>3</th>\n",
       "      <td>0.003</td>\n",
       "      <td>14268</td>\n",
       "      <td>0.200626</td>\n",
       "      <td>2972</td>\n",
       "    </tr>\n",
       "    <tr>\n",
       "      <th>4</th>\n",
       "      <td>0.004</td>\n",
       "      <td>14247</td>\n",
       "      <td>0.200664</td>\n",
       "      <td>2972</td>\n",
       "    </tr>\n",
       "    <tr>\n",
       "      <th>5</th>\n",
       "      <td>0.005</td>\n",
       "      <td>14247</td>\n",
       "      <td>0.200664</td>\n",
       "      <td>2972</td>\n",
       "    </tr>\n",
       "    <tr>\n",
       "      <th>6</th>\n",
       "      <td>0.006</td>\n",
       "      <td>14227</td>\n",
       "      <td>0.201126</td>\n",
       "      <td>2972</td>\n",
       "    </tr>\n",
       "    <tr>\n",
       "      <th>7</th>\n",
       "      <td>0.007</td>\n",
       "      <td>14209</td>\n",
       "      <td>0.201337</td>\n",
       "      <td>2972</td>\n",
       "    </tr>\n",
       "    <tr>\n",
       "      <th>8</th>\n",
       "      <td>0.008</td>\n",
       "      <td>14208</td>\n",
       "      <td>0.201343</td>\n",
       "      <td>2972</td>\n",
       "    </tr>\n",
       "    <tr>\n",
       "      <th>9</th>\n",
       "      <td>0.009</td>\n",
       "      <td>14203</td>\n",
       "      <td>0.201026</td>\n",
       "      <td>2971</td>\n",
       "    </tr>\n",
       "  </tbody>\n",
       "</table>\n",
       "</div>"
      ],
      "text/plain": [
       "   minimum_ttr  num_reviews  score_correlation  num_authors\n",
       "0        0.000        14268           0.200626         2972\n",
       "1        0.001        14268           0.200626         2972\n",
       "2        0.002        14268           0.200626         2972\n",
       "3        0.003        14268           0.200626         2972\n",
       "4        0.004        14247           0.200664         2972\n",
       "5        0.005        14247           0.200664         2972\n",
       "6        0.006        14227           0.201126         2972\n",
       "7        0.007        14209           0.201337         2972\n",
       "8        0.008        14208           0.201343         2972\n",
       "9        0.009        14203           0.201026         2971"
      ]
     },
     "execution_count": 17,
     "metadata": {},
     "output_type": "execute_result"
    }
   ],
   "source": [
    "pd.set_option('display.max_rows', 500)\n",
    "pd.DataFrame.from_dict(stats_dict).head(10)"
   ]
  },
  {
   "cell_type": "markdown",
   "id": "298418df-6229-44c2-8714-d30619bf431a",
   "metadata": {
    "jp-MarkdownHeadingCollapsed": true,
    "tags": []
   },
   "source": [
    "## Everything below this is just tinkering around"
   ]
  },
  {
   "cell_type": "code",
   "execution_count": 18,
   "id": "38e67934-e9fd-4513-a08f-c76e1f81588b",
   "metadata": {},
   "outputs": [
    {
     "name": "stdout",
     "output_type": "stream",
     "text": [
      "{'minimum_sd': [1], 'num_reviews': [10086], 'score_correlation': [0.16287516987671583], 'num_authors': [2729]}\n"
     ]
    }
   ],
   "source": [
    "# Tinkering around\n",
    "\n",
    "stats_dict = {'minimum_sd':[], 'num_reviews':[], 'score_correlation':[], 'num_authors':[]}\n",
    "\n",
    "good_reviewers = pruneReviewers(2)\n",
    "essay_scores = data_view_df.groupby(['uva_peer_assignments_user_id_reviewer', 'peer_submission_id', 'uva_peer_assignments_user_id_author']).agg({'peer_assignment_review_schema_part_option_score':'sum'}).reset_index()\n",
    "essay_scores = labelled_txts.merge(essay_scores, on='uva_peer_assignments_user_id_author', how='left')\n",
    "essay_scores = good_reviewers.merge(essay_scores, on='uva_peer_assignments_user_id_reviewer', how='right')\n",
    "essay_scores = essay_scores[essay_scores['good_reviewer'] == True]\n",
    "    \n",
    "good_reviewers_df = essay_scores.groupby('peer_submission_id').agg({'good_reviewer':'sum'}).reset_index()\n",
    "good_reviewers_df = good_reviewers_df[good_reviewers_df['good_reviewer'] >= 2].rename(columns={'good_reviewer':'num_reviews'})\n",
    "good_reviewers_df\n",
    "essay_scores = essay_scores.merge(good_reviewers_df, on='peer_submission_id', how='right')\n",
    "essay_scores\n",
    "\n",
    "essay_scores_final = essay_scores.groupby(['peer_submission_id', 'uva_peer_assignments_user_id_author']).agg({'peer_assignment_review_schema_part_option_score':'mean'}).reset_index()\n",
    "\n",
    "stats_dict['minimum_sd'].append(1)\n",
    "stats_dict['num_reviews'].append(len(essay_scores[essay_scores['good_reviewer']==True]))\n",
    "stats_dict['num_authors'].append(len(good_reviewers_df))\n",
    "stats_dict['score_correlation'].append(essay_scores[['peer_assignment_review_schema_part_option_score','num_words']].corr().iloc[0,1])\n",
    "\n",
    "print(stats_dict)"
   ]
  },
  {
   "cell_type": "code",
   "execution_count": 35,
   "id": "60e025ca-a70f-4edf-befd-d1de037551da",
   "metadata": {},
   "outputs": [
    {
     "name": "stdout",
     "output_type": "stream",
     "text": [
      "total reviewers: 41242\n",
      "bad reviewers: 12731\n",
      "proportion: 0.30869017021482953\n"
     ]
    },
    {
     "ename": "ValueError",
     "evalue": "Could not interpret input 'score'",
     "output_type": "error",
     "traceback": [
      "\u001b[0;31m---------------------------------------------------------------------------\u001b[0m",
      "\u001b[0;31mValueError\u001b[0m                                Traceback (most recent call last)",
      "Input \u001b[0;32mIn [59]\u001b[0m, in \u001b[0;36m<cell line: 8>\u001b[0;34m()\u001b[0m\n\u001b[1;32m      4\u001b[0m \u001b[38;5;28mprint\u001b[39m(\u001b[38;5;124m'\u001b[39m\u001b[38;5;124mbad reviewers:\u001b[39m\u001b[38;5;124m'\u001b[39m, \u001b[38;5;28mlen\u001b[39m(reviewer_df[reviewer_df[\u001b[38;5;124m'\u001b[39m\u001b[38;5;124mtotal_variance\u001b[39m\u001b[38;5;124m'\u001b[39m] \u001b[38;5;241m==\u001b[39m \u001b[38;5;241m0\u001b[39m]))\n\u001b[1;32m      5\u001b[0m \u001b[38;5;28mprint\u001b[39m(\u001b[38;5;124m'\u001b[39m\u001b[38;5;124mproportion:\u001b[39m\u001b[38;5;124m'\u001b[39m, \u001b[38;5;28mlen\u001b[39m(reviewer_df[reviewer_df[\u001b[38;5;124m'\u001b[39m\u001b[38;5;124mtotal_variance\u001b[39m\u001b[38;5;124m'\u001b[39m] \u001b[38;5;241m==\u001b[39m \u001b[38;5;241m0\u001b[39m])\u001b[38;5;241m/\u001b[39m\u001b[38;5;28mlen\u001b[39m(reviewer_df))\n\u001b[0;32m----> 8\u001b[0m \u001b[43msns\u001b[49m\u001b[38;5;241;43m.\u001b[39;49m\u001b[43mbarplot\u001b[49m\u001b[43m(\u001b[49m\u001b[43mdata\u001b[49m\u001b[38;5;241;43m=\u001b[39;49m\u001b[43mreviewer_df\u001b[49m\u001b[43m,\u001b[49m\n\u001b[1;32m      9\u001b[0m \u001b[43m            \u001b[49m\u001b[43mx\u001b[49m\u001b[38;5;241;43m=\u001b[39;49m\u001b[38;5;124;43m'\u001b[39;49m\u001b[38;5;124;43mscore\u001b[39;49m\u001b[38;5;124;43m'\u001b[39;49m\u001b[43m,\u001b[49m\n\u001b[1;32m     10\u001b[0m \u001b[43m            \u001b[49m\u001b[43my\u001b[49m\u001b[38;5;241;43m=\u001b[39;49m\u001b[38;5;124;43m'\u001b[39;49m\u001b[38;5;124;43mcount\u001b[39;49m\u001b[38;5;124;43m'\u001b[39;49m\u001b[43m)\u001b[49m\n",
      "File \u001b[0;32m/opt/conda/lib/python3.10/site-packages/seaborn/_decorators.py:46\u001b[0m, in \u001b[0;36m_deprecate_positional_args.<locals>.inner_f\u001b[0;34m(*args, **kwargs)\u001b[0m\n\u001b[1;32m     36\u001b[0m     warnings\u001b[38;5;241m.\u001b[39mwarn(\n\u001b[1;32m     37\u001b[0m         \u001b[38;5;124m\"\u001b[39m\u001b[38;5;124mPass the following variable\u001b[39m\u001b[38;5;132;01m{}\u001b[39;00m\u001b[38;5;124m as \u001b[39m\u001b[38;5;132;01m{}\u001b[39;00m\u001b[38;5;124mkeyword arg\u001b[39m\u001b[38;5;132;01m{}\u001b[39;00m\u001b[38;5;124m: \u001b[39m\u001b[38;5;132;01m{}\u001b[39;00m\u001b[38;5;124m. \u001b[39m\u001b[38;5;124m\"\u001b[39m\n\u001b[1;32m     38\u001b[0m         \u001b[38;5;124m\"\u001b[39m\u001b[38;5;124mFrom version 0.12, the only valid positional argument \u001b[39m\u001b[38;5;124m\"\u001b[39m\n\u001b[0;32m   (...)\u001b[0m\n\u001b[1;32m     43\u001b[0m         \u001b[38;5;167;01mFutureWarning\u001b[39;00m\n\u001b[1;32m     44\u001b[0m     )\n\u001b[1;32m     45\u001b[0m kwargs\u001b[38;5;241m.\u001b[39mupdate({k: arg \u001b[38;5;28;01mfor\u001b[39;00m k, arg \u001b[38;5;129;01min\u001b[39;00m \u001b[38;5;28mzip\u001b[39m(sig\u001b[38;5;241m.\u001b[39mparameters, args)})\n\u001b[0;32m---> 46\u001b[0m \u001b[38;5;28;01mreturn\u001b[39;00m \u001b[43mf\u001b[49m\u001b[43m(\u001b[49m\u001b[38;5;241;43m*\u001b[39;49m\u001b[38;5;241;43m*\u001b[39;49m\u001b[43mkwargs\u001b[49m\u001b[43m)\u001b[49m\n",
      "File \u001b[0;32m/opt/conda/lib/python3.10/site-packages/seaborn/categorical.py:3182\u001b[0m, in \u001b[0;36mbarplot\u001b[0;34m(x, y, hue, data, order, hue_order, estimator, ci, n_boot, units, seed, orient, color, palette, saturation, errcolor, errwidth, capsize, dodge, ax, **kwargs)\u001b[0m\n\u001b[1;32m   3169\u001b[0m \u001b[38;5;129m@_deprecate_positional_args\u001b[39m\n\u001b[1;32m   3170\u001b[0m \u001b[38;5;28;01mdef\u001b[39;00m \u001b[38;5;21mbarplot\u001b[39m(\n\u001b[1;32m   3171\u001b[0m     \u001b[38;5;241m*\u001b[39m,\n\u001b[0;32m   (...)\u001b[0m\n\u001b[1;32m   3179\u001b[0m     \u001b[38;5;241m*\u001b[39m\u001b[38;5;241m*\u001b[39mkwargs,\n\u001b[1;32m   3180\u001b[0m ):\n\u001b[0;32m-> 3182\u001b[0m     plotter \u001b[38;5;241m=\u001b[39m \u001b[43m_BarPlotter\u001b[49m\u001b[43m(\u001b[49m\u001b[43mx\u001b[49m\u001b[43m,\u001b[49m\u001b[43m \u001b[49m\u001b[43my\u001b[49m\u001b[43m,\u001b[49m\u001b[43m \u001b[49m\u001b[43mhue\u001b[49m\u001b[43m,\u001b[49m\u001b[43m \u001b[49m\u001b[43mdata\u001b[49m\u001b[43m,\u001b[49m\u001b[43m \u001b[49m\u001b[43morder\u001b[49m\u001b[43m,\u001b[49m\u001b[43m \u001b[49m\u001b[43mhue_order\u001b[49m\u001b[43m,\u001b[49m\n\u001b[1;32m   3183\u001b[0m \u001b[43m                          \u001b[49m\u001b[43mestimator\u001b[49m\u001b[43m,\u001b[49m\u001b[43m \u001b[49m\u001b[43mci\u001b[49m\u001b[43m,\u001b[49m\u001b[43m \u001b[49m\u001b[43mn_boot\u001b[49m\u001b[43m,\u001b[49m\u001b[43m \u001b[49m\u001b[43munits\u001b[49m\u001b[43m,\u001b[49m\u001b[43m \u001b[49m\u001b[43mseed\u001b[49m\u001b[43m,\u001b[49m\n\u001b[1;32m   3184\u001b[0m \u001b[43m                          \u001b[49m\u001b[43morient\u001b[49m\u001b[43m,\u001b[49m\u001b[43m \u001b[49m\u001b[43mcolor\u001b[49m\u001b[43m,\u001b[49m\u001b[43m \u001b[49m\u001b[43mpalette\u001b[49m\u001b[43m,\u001b[49m\u001b[43m \u001b[49m\u001b[43msaturation\u001b[49m\u001b[43m,\u001b[49m\n\u001b[1;32m   3185\u001b[0m \u001b[43m                          \u001b[49m\u001b[43merrcolor\u001b[49m\u001b[43m,\u001b[49m\u001b[43m \u001b[49m\u001b[43merrwidth\u001b[49m\u001b[43m,\u001b[49m\u001b[43m \u001b[49m\u001b[43mcapsize\u001b[49m\u001b[43m,\u001b[49m\u001b[43m \u001b[49m\u001b[43mdodge\u001b[49m\u001b[43m)\u001b[49m\n\u001b[1;32m   3187\u001b[0m     \u001b[38;5;28;01mif\u001b[39;00m ax \u001b[38;5;129;01mis\u001b[39;00m \u001b[38;5;28;01mNone\u001b[39;00m:\n\u001b[1;32m   3188\u001b[0m         ax \u001b[38;5;241m=\u001b[39m plt\u001b[38;5;241m.\u001b[39mgca()\n",
      "File \u001b[0;32m/opt/conda/lib/python3.10/site-packages/seaborn/categorical.py:1584\u001b[0m, in \u001b[0;36m_BarPlotter.__init__\u001b[0;34m(self, x, y, hue, data, order, hue_order, estimator, ci, n_boot, units, seed, orient, color, palette, saturation, errcolor, errwidth, capsize, dodge)\u001b[0m\n\u001b[1;32m   1579\u001b[0m \u001b[38;5;28;01mdef\u001b[39;00m \u001b[38;5;21m__init__\u001b[39m(\u001b[38;5;28mself\u001b[39m, x, y, hue, data, order, hue_order,\n\u001b[1;32m   1580\u001b[0m              estimator, ci, n_boot, units, seed,\n\u001b[1;32m   1581\u001b[0m              orient, color, palette, saturation, errcolor,\n\u001b[1;32m   1582\u001b[0m              errwidth, capsize, dodge):\n\u001b[1;32m   1583\u001b[0m     \u001b[38;5;124;03m\"\"\"Initialize the plotter.\"\"\"\u001b[39;00m\n\u001b[0;32m-> 1584\u001b[0m     \u001b[38;5;28;43mself\u001b[39;49m\u001b[38;5;241;43m.\u001b[39;49m\u001b[43mestablish_variables\u001b[49m\u001b[43m(\u001b[49m\u001b[43mx\u001b[49m\u001b[43m,\u001b[49m\u001b[43m \u001b[49m\u001b[43my\u001b[49m\u001b[43m,\u001b[49m\u001b[43m \u001b[49m\u001b[43mhue\u001b[49m\u001b[43m,\u001b[49m\u001b[43m \u001b[49m\u001b[43mdata\u001b[49m\u001b[43m,\u001b[49m\u001b[43m \u001b[49m\u001b[43morient\u001b[49m\u001b[43m,\u001b[49m\n\u001b[1;32m   1585\u001b[0m \u001b[43m                             \u001b[49m\u001b[43morder\u001b[49m\u001b[43m,\u001b[49m\u001b[43m \u001b[49m\u001b[43mhue_order\u001b[49m\u001b[43m,\u001b[49m\u001b[43m \u001b[49m\u001b[43munits\u001b[49m\u001b[43m)\u001b[49m\n\u001b[1;32m   1586\u001b[0m     \u001b[38;5;28mself\u001b[39m\u001b[38;5;241m.\u001b[39mestablish_colors(color, palette, saturation)\n\u001b[1;32m   1587\u001b[0m     \u001b[38;5;28mself\u001b[39m\u001b[38;5;241m.\u001b[39mestimate_statistic(estimator, ci, n_boot, seed)\n",
      "File \u001b[0;32m/opt/conda/lib/python3.10/site-packages/seaborn/categorical.py:153\u001b[0m, in \u001b[0;36m_CategoricalPlotter.establish_variables\u001b[0;34m(self, x, y, hue, data, orient, order, hue_order, units)\u001b[0m\n\u001b[1;32m    151\u001b[0m     \u001b[38;5;28;01mif\u001b[39;00m \u001b[38;5;28misinstance\u001b[39m(var, \u001b[38;5;28mstr\u001b[39m):\n\u001b[1;32m    152\u001b[0m         err \u001b[38;5;241m=\u001b[39m \u001b[38;5;124m\"\u001b[39m\u001b[38;5;124mCould not interpret input \u001b[39m\u001b[38;5;124m'\u001b[39m\u001b[38;5;132;01m{}\u001b[39;00m\u001b[38;5;124m'\u001b[39m\u001b[38;5;124m\"\u001b[39m\u001b[38;5;241m.\u001b[39mformat(var)\n\u001b[0;32m--> 153\u001b[0m         \u001b[38;5;28;01mraise\u001b[39;00m \u001b[38;5;167;01mValueError\u001b[39;00m(err)\n\u001b[1;32m    155\u001b[0m \u001b[38;5;66;03m# Figure out the plotting orientation\u001b[39;00m\n\u001b[1;32m    156\u001b[0m orient \u001b[38;5;241m=\u001b[39m infer_orient(\n\u001b[1;32m    157\u001b[0m     x, y, orient, require_numeric\u001b[38;5;241m=\u001b[39m\u001b[38;5;28mself\u001b[39m\u001b[38;5;241m.\u001b[39mrequire_numeric\n\u001b[1;32m    158\u001b[0m )\n",
      "\u001b[0;31mValueError\u001b[0m: Could not interpret input 'score'"
     ]
    }
   ],
   "source": [
    "import seaborn as sns\n",
    "bad_reviewers = reviewer_df[reviewer_df['total_variance'] == 0]['total_mean'].value_counts().rename_axis('score').reset_index(name='count')\n",
    "print('total reviewers:', len(reviewer_df))\n",
    "print('bad reviewers:', len(reviewer_df[reviewer_df['total_variance'] == 0]))\n",
    "print('proportion:', len(reviewer_df[reviewer_df['total_variance'] == 0])/len(reviewer_df))\n",
    "\n",
    "\n",
    "sns.barplot(data=bad_reviewers,\n",
    "            x='score',\n",
    "            y='count')"
   ]
  },
  {
   "cell_type": "code",
   "execution_count": 60,
   "id": "d4486906-5422-4df5-ae8f-b2acb009a73c",
   "metadata": {},
   "outputs": [
    {
     "data": {
      "text/plain": [
       "<AxesSubplot:xlabel='total_mean', ylabel='Count'>"
      ]
     },
     "execution_count": 60,
     "metadata": {},
     "output_type": "execute_result"
    },
    {
     "data": {
      "image/png": "[encoded data removed]",
      "text/plain": [
       "<Figure size 432x288 with 1 Axes>"
      ]
     },
     "metadata": {
      "needs_background": "light"
     },
     "output_type": "display_data"
    }
   ],
   "source": [
    "sns.histplot(data=reviewer_df, x='total_mean')"
   ]
  },
  {
   "cell_type": "code",
   "execution_count": 61,
   "id": "78903708-d64a-435b-98b1-28f8285ab897",
   "metadata": {},
   "outputs": [
    {
     "data": {
      "text/html": [
       "<div>\n",
       "<style scoped>\n",
       "    .dataframe tbody tr th:only-of-type {\n",
       "        vertical-align: middle;\n",
       "    }\n",
       "\n",
       "    .dataframe tbody tr th {\n",
       "        vertical-align: top;\n",
       "    }\n",
       "\n",
       "    .dataframe thead th {\n",
       "        text-align: right;\n",
       "    }\n",
       "</style>\n",
       "<table border=\"1\" class=\"dataframe\">\n",
       "  <thead>\n",
       "    <tr style=\"text-align: right;\">\n",
       "      <th></th>\n",
       "      <th>uva_peer_assignments_user_id_reviewer</th>\n",
       "      <th>num_reviews</th>\n",
       "      <th>criteria_mean</th>\n",
       "      <th>criteria_sd</th>\n",
       "      <th>total_mean</th>\n",
       "      <th>total_sd</th>\n",
       "      <th>total_tokens</th>\n",
       "      <th>total_types</th>\n",
       "      <th>total_ttr</th>\n",
       "      <th>response_tokens</th>\n",
       "      <th>response_types</th>\n",
       "      <th>response_ttr</th>\n",
       "      <th>num_responses</th>\n",
       "      <th>solo_reviews</th>\n",
       "      <th>response_ratio</th>\n",
       "      <th>total_variance</th>\n",
       "    </tr>\n",
       "  </thead>\n",
       "  <tbody>\n",
       "    <tr>\n",
       "      <th>2825</th>\n",
       "      <td>121ade9d078639b186c58f9cd2aaced28dc6dc75</td>\n",
       "      <td>5.0</td>\n",
       "      <td>3.000000</td>\n",
       "      <td>0.000000</td>\n",
       "      <td>22.500000</td>\n",
       "      <td>7.794229</td>\n",
       "      <td>153</td>\n",
       "      <td>67</td>\n",
       "      <td>0.437908</td>\n",
       "      <td>4.371429</td>\n",
       "      <td>4.085714</td>\n",
       "      <td>0.969674</td>\n",
       "      <td>35</td>\n",
       "      <td>0</td>\n",
       "      <td>1.0</td>\n",
       "      <td>60.750000</td>\n",
       "    </tr>\n",
       "    <tr>\n",
       "      <th>22476</th>\n",
       "      <td>8b94f695dd791bb62a1a0e14f0a7943640e99ddc</td>\n",
       "      <td>4.0</td>\n",
       "      <td>2.555556</td>\n",
       "      <td>0.562722</td>\n",
       "      <td>20.666667</td>\n",
       "      <td>8.055364</td>\n",
       "      <td>461</td>\n",
       "      <td>192</td>\n",
       "      <td>0.416486</td>\n",
       "      <td>16.464286</td>\n",
       "      <td>15.285714</td>\n",
       "      <td>0.953887</td>\n",
       "      <td>28</td>\n",
       "      <td>0</td>\n",
       "      <td>1.0</td>\n",
       "      <td>64.888889</td>\n",
       "    </tr>\n",
       "  </tbody>\n",
       "</table>\n",
       "</div>"
      ],
      "text/plain": [
       "          uva_peer_assignments_user_id_reviewer  num_reviews  criteria_mean  \\\n",
       "2825   121ade9d078639b186c58f9cd2aaced28dc6dc75          5.0       3.000000   \n",
       "22476  8b94f695dd791bb62a1a0e14f0a7943640e99ddc          4.0       2.555556   \n",
       "\n",
       "       criteria_sd  total_mean  total_sd  total_tokens  total_types  \\\n",
       "2825      0.000000   22.500000  7.794229           153           67   \n",
       "22476     0.562722   20.666667  8.055364           461          192   \n",
       "\n",
       "       total_ttr  response_tokens  response_types  response_ttr  \\\n",
       "2825    0.437908         4.371429        4.085714      0.969674   \n",
       "22476   0.416486        16.464286       15.285714      0.953887   \n",
       "\n",
       "       num_responses  solo_reviews  response_ratio  total_variance  \n",
       "2825              35             0             1.0       60.750000  \n",
       "22476             28             0             1.0       64.888889  "
      ]
     },
     "execution_count": 61,
     "metadata": {},
     "output_type": "execute_result"
    }
   ],
   "source": [
    "reviewer_df[reviewer_df['total_mean']>18]"
   ]
  },
  {
   "cell_type": "code",
   "execution_count": 57,
   "id": "a9653c61-bc19-4db2-b913-507e31eb3421",
   "metadata": {},
   "outputs": [
    {
     "name": "stdout",
     "output_type": "stream",
     "text": [
      "criteria_mean,41242,2.57,0.43,1.0,3.0\n",
      "total_mean,41242,15.43,2.59,6.0,22.5\n",
      "total_variance,41242,4.33,7.25,0.0,64.89\n",
      "total_ttr,41242,0.33,0.22,0.0,1.0\n"
     ]
    }
   ],
   "source": [
    "def describe(feature):\n",
    "    print(feature,len(reviewer_df), round(reviewer_df[feature].mean(),2), round(reviewer_df[feature].std(),2), \n",
    "          round(reviewer_df[feature].min(),2), round(reviewer_df[feature].max(),2),sep=',')\n",
    "\n",
    "describe('criteria_mean')\n",
    "describe('total_mean')\n",
    "describe('total_variance')\n",
    "describe('total_ttr')"
   ]
  }
 ],
 "metadata": {
  "kernelspec": {
   "display_name": "Python 3 (ipykernel)",
   "language": "python",
   "name": "python3"
  },
  "language_info": {
   "codemirror_mode": {
    "name": "ipython",
    "version": 3
   },
   "file_extension": ".py",
   "mimetype": "text/x-python",
   "name": "python",
   "nbconvert_exporter": "python",
   "pygments_lexer": "ipython3",
   "version": "3.10.5"
  }
 },
 "nbformat": 4,
 "nbformat_minor": 5
}
