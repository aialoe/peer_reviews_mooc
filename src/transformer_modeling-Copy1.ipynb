{
 "cells": [
  {
   "cell_type": "markdown",
   "id": "76a1356c-7b31-4975-a2fd-ee40149f7e8f",
   "metadata": {},
   "source": [
    "# Grade Regression Using Transformer Model"
   ]
  },
  {
   "cell_type": "markdown",
   "id": "9592f484-d48c-4a18-8053-3acc9dacdea0",
   "metadata": {},
   "source": [
    "## Creating the Datasets"
   ]
  },
  {
   "cell_type": "markdown",
   "id": "f39f1cad-fbb4-44a8-83c8-cb8f6d48ee7f",
   "metadata": {},
   "source": [
    "### Loading and cleaning the data"
   ]
  },
  {
   "cell_type": "code",
   "execution_count": 1,
   "id": "3bf9d8cc-829d-4909-82a4-a990ea484f46",
   "metadata": {},
   "outputs": [],
   "source": [
    "import pandas as pd\n",
    "import os\n",
    "import numpy as np\n",
    "import matplotlib.pyplot as plt\n",
    "import seaborn as sns\n",
    "\n",
    "seed=42\n",
    "\n",
    "os.chdir('/home/jovyan/shared/2020_06_10_bad_reviewer')"
   ]
  },
  {
   "cell_type": "code",
   "execution_count": null,
   "id": "865d6b6e-8b7c-43b9-8ad4-6c4854a51299",
   "metadata": {},
   "outputs": [
    {
     "data": {
      "text/plain": [
       "peer_review_id                                             1084657\n",
       "uva_peer_assignments_user_id_reviewer                      1084657\n",
       "peer_review_created_ts                                     1084657\n",
       "peer_submission_id                                         1084657\n",
       "peer_assignment_review_schema_part_prompt_score             929706\n",
       "peer_assignment_review_schema_part_option_score             929706\n",
       "peer_assignment_review_schema_part_prompt_free_response    1084640\n",
       "peer_review_part_free_response_text                        1059044\n",
       "uva_peer_assignments_user_id_author                         864073\n",
       "dtype: int64"
      ]
     },
     "execution_count": 2,
     "metadata": {},
     "output_type": "execute_result"
    }
   ],
   "source": [
    "reviewer_df = pd.read_csv('results/reviewer_agg_stats.csv', index_col=[0])\n",
    "cleared_submissions = pd.read_csv('bin/cleared_submissions.csv')\n",
    "submissions_df = pd.read_csv('bin/submissions_df.csv', index_col=[0])\n",
    "reviews_df = pd.read_csv('bin/reviews_df.csv', index_col = [0])\n",
    "\n",
    "# Rename the columns to disambiguate whether the id represents a reviewer or an author\n",
    "submissions_df = submissions_df.rename(columns={'uva_peer_assignments_user_id':'uva_peer_assignments_user_id_author'})\n",
    "reviewer_df = reviewer_df.rename(columns={'uva_peer_assignments_user_id':'uva_peer_assignments_user_id_reviewer'})\n",
    "reviews_df = reviews_df.rename(columns={'uva_peer_assignments_user_id':'uva_peer_assignments_user_id_reviewer'})\n",
    "cleared_submissions = cleared_submissions.rename(columns={'uva_peer_assignments_user_id':'uva_peer_assignments_user_id_author'})\n",
    "\n",
    "# Get the author id into reviews_df\n",
    "reviews_df = pd.merge(reviews_df, cleared_submissions[['peer_submission_id', 'uva_peer_assignments_user_id_author']], on='peer_submission_id', how=\"left\")\n",
    "# Note that authors could only be found for 864,073 out of the 1,059,044 reviews.\n",
    "reviews_df.count()"
   ]
  },
  {
   "cell_type": "code",
   "execution_count": 3,
   "id": "5fe2811d-4720-4063-8216-98a0f0ea6d35",
   "metadata": {},
   "outputs": [
    {
     "name": "stdout",
     "output_type": "stream",
     "text": [
      "27909\n"
     ]
    }
   ],
   "source": [
    "# Find duplicate essays\n",
    "print(len(submissions_df))\n",
    "submissions_df['is_duplicate'] = submissions_df.duplicated(subset=['text'], keep=False)\n",
    "texts = submissions_df[submissions_df['is_duplicate']==False][['uva_peer_assignments_user_id_author', 'text']]"
   ]
  },
  {
   "cell_type": "code",
   "execution_count": 4,
   "id": "b06de849-92c0-41e7-bc38-590453139ae8",
   "metadata": {},
   "outputs": [],
   "source": [
    "# Get rid of duplicate reviews\n",
    "reviews_df.drop(list(range(755643, 755650)), axis=0, inplace=True)\n",
    "reviews_df.drop(list(range(1025262, 1025269)), axis=0, inplace=True)"
   ]
  },
  {
   "cell_type": "code",
   "execution_count": 5,
   "id": "2e02ae31-0500-400e-a82f-e0193396ce9a",
   "metadata": {},
   "outputs": [],
   "source": [
    "# Get number of words for the labelled texts\n",
    "texts['num_words'] = texts.apply(lambda row: len(row['text'].split()), axis=1)\n",
    "\n",
    "# Get reviewer variance\n",
    "reviewer_df['total_variance'] = reviewer_df['total_sd']**2"
   ]
  },
  {
   "cell_type": "code",
   "execution_count": 6,
   "id": "47787ca4-3996-4a6f-ab0d-6f4b9f0d9893",
   "metadata": {},
   "outputs": [],
   "source": [
    "### Include All Reviewers\n",
    "labelled_data = texts.merge(reviews_df, on='uva_peer_assignments_user_id_author', how='left')\n",
    "essay_scores = (labelled_data\n",
    "                .groupby(['uva_peer_assignments_user_id_reviewer',\n",
    "                          'peer_submission_id',\n",
    "                          'uva_peer_assignments_user_id_author'])\n",
    "                .agg({'peer_assignment_review_schema_part_option_score':'sum'})\n",
    "                .reset_index()\n",
    "               )"
   ]
  },
  {
   "cell_type": "markdown",
   "id": "521e4397-2cb6-4324-958a-33c7941ccffa",
   "metadata": {},
   "source": [
    "### Create Ten Dataframes"
   ]
  },
  {
   "cell_type": "code",
   "execution_count": 7,
   "id": "7a2a335a-94e0-435d-abc8-0ed64a249f15",
   "metadata": {},
   "outputs": [],
   "source": [
    "criteria = {\n",
    "    'baseline': {},\n",
    "    'variance_0': {'var': 0.0},\n",
    "    'variance_1': {'var': 1.0},\n",
    "    'variance_2_5': {'var': 2.5},\n",
    "    'ttr_0_0_5': {'ttr': 0.05},\n",
    "    'ttr_0_2': {'ttr': 0.2},\n",
    "    'ttr_0_4': {'ttr': 0.4},\n",
    "    'variance_0_ttr_0_0_5': {'var': 0.0, 'ttr': 0.05},\n",
    "    'variance_0_ttr_0_4': {'var': 0.0, 'ttr': 0.4},\n",
    "    'variance_2_5_ttr_0_4': {'var': 2.5, 'ttr': 0.4},\n",
    "}\n",
    "\n",
    "def df_from_criteria(reviewer_df, essay_scores, criteria):\n",
    "    '''\n",
    "    reviewer_df: contains reviewer id, submission ids, ttr, and variance \n",
    "    essay_scores: author id, reviewer id, submission id, and the sum score for each review\n",
    "    ttr_filter: True for all rows unles TTR criterion is set\n",
    "    var_filter: True for all rows unless Variance criterion is set\n",
    "    '''\n",
    "    \n",
    "    if 'var' in criteria and 'ttr' in criteria:\n",
    "        reviewer_df = reviewer_df[(reviewer_df['total_variance'] > criteria['var']) | (reviewer_df['total_ttr'] >= criteria['ttr'])]\n",
    "    elif 'var' in criteria:\n",
    "        reviewer_df = reviewer_df[reviewer_df['total_variance'] > criteria['var']]\n",
    "    elif 'ttr' in criteria:\n",
    "        reviewer_df = reviewer_df[reviewer_df['total_ttr'] >= criteria['ttr']]\n",
    "\n",
    "    essay_scores = (reviewer_df\n",
    "                    .merge(essay_scores,\n",
    "                           on='uva_peer_assignments_user_id_reviewer', \n",
    "                           how='left')\n",
    "                   )\n",
    "    \n",
    "    essay_scores_final = (\n",
    "        essay_scores[\n",
    "            essay_scores\n",
    "            .groupby('peer_submission_id')['peer_submission_id']\n",
    "            .transform('size') >= 2\n",
    "        ]\n",
    "        .groupby([\n",
    "            'peer_submission_id',\n",
    "            'uva_peer_assignments_user_id_author'\n",
    "        ])\n",
    "        .agg({\n",
    "            'peer_assignment_review_schema_part_option_score':'mean'\n",
    "        })\n",
    "        .reset_index()\n",
    "    )\n",
    "    \n",
    "    return (\n",
    "        essay_scores_final\n",
    "        .merge(texts, on='uva_peer_assignments_user_id_author')[[\n",
    "            'text',\n",
    "            'peer_assignment_review_schema_part_option_score',\n",
    "        ]]\n",
    "        .rename(columns={'peer_assignment_review_schema_part_option_score':'labels'})\n",
    "    )"
   ]
  },
  {
   "cell_type": "code",
   "execution_count": 8,
   "id": "0d6234ce-9283-4686-8cdc-635143fdd60d",
   "metadata": {},
   "outputs": [
    {
     "name": "stdout",
     "output_type": "stream",
     "text": [
      "baseline            : 22,871\n",
      "variance_0          : 19,336\n",
      "variance_1          : 12,574\n",
      "variance_2_5        :  8,766\n",
      "ttr_0_0_5           : 21,168\n",
      "ttr_0_2             : 16,950\n",
      "ttr_0_4             : 11,319\n",
      "variance_0_ttr_0_0_5: 22,244\n",
      "variance_0_ttr_0_4  : 20,209\n",
      "variance_2_5_ttr_0_4: 16,116\n"
     ]
    }
   ],
   "source": [
    "datadicts = {}\n",
    "for k, v in criteria.items():\n",
    "    print(k.ljust(20), end=': ')\n",
    "    datadicts[k] = df_from_criteria(reviewer_df, essay_scores, v)\n",
    "    print(f'{datadicts[k].shape[0]:>6,}')"
   ]
  },
  {
   "cell_type": "code",
   "execution_count": 9,
   "id": "f60f8c01-bf45-4db5-916f-6d0bc43faf2a",
   "metadata": {},
   "outputs": [
    {
     "name": "stdout",
     "output_type": "stream",
     "text": [
      "           num_words    labels\n",
      "num_words   1.000000  0.164521\n",
      "labels      0.164521  1.000000\n"
     ]
    },
    {
     "data": {
      "text/plain": [
       "Text(0.5, 1.0, 'Correlation between Essay Score and Number of Words')"
      ]
     },
     "execution_count": 9,
     "metadata": {},
     "output_type": "execute_result"
    },
    {
     "data": {
      "image/png": "[encoded data removed]",
      "text/plain": [
       "<Figure size 432x288 with 1 Axes>"
      ]
     },
     "metadata": {
      "needs_background": "light"
     },
     "output_type": "display_data"
    }
   ],
   "source": [
    "datadicts['baseline']['num_words'] = datadicts['baseline'].apply(lambda row: len(row['text'].split()), axis=1)\n",
    "print(datadicts['baseline'][['num_words', 'labels']].corr())\n",
    "\n",
    "sns.regplot(data=datadicts['baseline'], x='num_words', y='labels', line_kws={\"color\": \"red\"})\n",
    "plt.ylabel('essay_score')\n",
    "plt.title('Correlation between Essay Score and Number of Words')\n",
    "#baseline[['num_words', 'labels']].plot.scatter('num_words', 'labels')"
   ]
  },
  {
   "cell_type": "markdown",
   "id": "09b1e0bf-5637-411b-9032-7466abb50786",
   "metadata": {},
   "source": [
    "## Build the HuggingFace Models\n",
    "### Load the packages"
   ]
  },
  {
   "cell_type": "code",
   "execution_count": 10,
   "id": "9e615069-dc52-411b-9a0f-059d1d3bd491",
   "metadata": {},
   "outputs": [],
   "source": [
    "#datasets installed in default jupyter image now. no need to pip install\n",
    "import numpy as np\n",
    "import pandas as pd\n",
    "\n",
    "from datasets import load_dataset, load_metric, Dataset, Value, ClassLabel, Features, DatasetDict\n",
    "from transformers import (AutoTokenizer, AutoModelForSequenceClassification, TrainingArguments, Trainer,\n",
    "                          EarlyStoppingCallback, DataCollatorWithPadding)"
   ]
  },
  {
   "cell_type": "markdown",
   "id": "f8ffa8b9-3802-4254-9be0-ac5b9f1f4c8b",
   "metadata": {},
   "source": [
    "### Build the Datasets"
   ]
  },
  {
   "cell_type": "code",
   "execution_count": 11,
   "id": "0bbe228a-c449-477d-884a-e684c339c3b7",
   "metadata": {},
   "outputs": [],
   "source": [
    "def buildDataset(df):\n",
    "    full_dataset = Dataset.from_pandas(df, preserve_index=False)\n",
    "    # 70% train, 30% test + validation\n",
    "    train_testvalid = full_dataset.train_test_split(test_size=0.3, seed=seed)\n",
    "    # Split the 30% test + valid in half test, half valid\n",
    "    test_valid = train_testvalid['test'].train_test_split(test_size=0.5)\n",
    "    # gather everyone if you want to have a single DatasetDict\n",
    "    final_dataset = DatasetDict({\n",
    "        'train': train_testvalid['train'],\n",
    "        'test': test_valid['test'],\n",
    "        'valid': test_valid['train']})\n",
    "    return final_dataset"
   ]
  },
  {
   "cell_type": "markdown",
   "id": "7257b3fb-16be-4bc7-9b81-37382cecc7c0",
   "metadata": {},
   "source": [
    "#### Rock and roll"
   ]
  },
  {
   "cell_type": "code",
   "execution_count": 12,
   "id": "3c455dea-f8de-4db1-9df2-a4d57af6619b",
   "metadata": {},
   "outputs": [],
   "source": [
    "datasets = {k: buildDataset(v) for k, v in datadicts.items()}"
   ]
  },
  {
   "cell_type": "markdown",
   "id": "a7f185ec-50d3-4d94-9015-87be74a67306",
   "metadata": {
    "tags": []
   },
   "source": [
    "#### Check it out"
   ]
  },
  {
   "cell_type": "code",
   "execution_count": 13,
   "id": "f841a0a8-724f-4aca-81d9-c6bf93d7d47c",
   "metadata": {},
   "outputs": [
    {
     "name": "stdout",
     "output_type": "stream",
     "text": [
      "DatasetDict({\n",
      "    train: Dataset({\n",
      "        features: ['text', 'labels', 'num_words'],\n",
      "        num_rows: 16009\n",
      "    })\n",
      "    test: Dataset({\n",
      "        features: ['text', 'labels', 'num_words'],\n",
      "        num_rows: 3431\n",
      "    })\n",
      "    valid: Dataset({\n",
      "        features: ['text', 'labels', 'num_words'],\n",
      "        num_rows: 3431\n",
      "    })\n",
      "})\n"
     ]
    }
   ],
   "source": [
    "# Check them one by one\n",
    "print(datasets['baseline'])"
   ]
  },
  {
   "cell_type": "markdown",
   "id": "d78d3c0f-bc0f-4d22-948b-f95ecea248fa",
   "metadata": {},
   "source": [
    "### Instantiate the tokenizer and model"
   ]
  },
  {
   "cell_type": "code",
   "execution_count": 48,
   "id": "7ea081c2-6b4e-4695-ae00-04795ed98161",
   "metadata": {},
   "outputs": [],
   "source": [
    "tokenizer = AutoTokenizer.from_pretrained(\"distilbert-base-cased\")\n",
    "\n",
    "def model_init():\n",
    "    return AutoModelForSequenceClassification.from_pretrained(\"distilbert-base-cased\",\n",
    "                                                              num_labels=1).to(\"cuda\")"
   ]
  },
  {
   "cell_type": "markdown",
   "id": "b15ab9b5-b81c-41c0-8091-18ceff5bcefd",
   "metadata": {
    "tags": []
   },
   "source": [
    "### Tokenize the text"
   ]
  },
  {
   "cell_type": "code",
   "execution_count": 15,
   "id": "36393148-ba25-46d8-b9e6-cf907669c3af",
   "metadata": {},
   "outputs": [],
   "source": [
    "def tokenize_inputs(example):\n",
    "    return tokenizer(example['text'], truncation=True)\n",
    "\n",
    "# groups together inputs of similar length for efficiency\n",
    "data_collator = DataCollatorWithPadding(tokenizer=tokenizer)"
   ]
  },
  {
   "cell_type": "code",
   "execution_count": 16,
   "id": "7fc99eab-e3c6-4062-bb2f-658250f559e7",
   "metadata": {
    "scrolled": true,
    "tags": []
   },
   "outputs": [
    {
     "data": {
      "application/vnd.jupyter.widget-view+json": {
       "model_id": "58dadd3947bb4ec8a88d63675886b191",
       "version_major": 2,
       "version_minor": 0
      },
      "text/plain": [
       "  0%|          | 0/17 [00:00<?, ?ba/s]"
      ]
     },
     "metadata": {},
     "output_type": "display_data"
    },
    {
     "data": {
      "application/vnd.jupyter.widget-view+json": {
       "model_id": "afda2361f3f94b8db68ecfe645544e1c",
       "version_major": 2,
       "version_minor": 0
      },
      "text/plain": [
       "  0%|          | 0/4 [00:00<?, ?ba/s]"
      ]
     },
     "metadata": {},
     "output_type": "display_data"
    },
    {
     "data": {
      "application/vnd.jupyter.widget-view+json": {
       "model_id": "45e9f6ba80454b8d826e812ec44c681a",
       "version_major": 2,
       "version_minor": 0
      },
      "text/plain": [
       "  0%|          | 0/4 [00:00<?, ?ba/s]"
      ]
     },
     "metadata": {},
     "output_type": "display_data"
    },
    {
     "data": {
      "application/vnd.jupyter.widget-view+json": {
       "model_id": "b3a926b530bf48c8bcdaee41c135cb90",
       "version_major": 2,
       "version_minor": 0
      },
      "text/plain": [
       "  0%|          | 0/14 [00:00<?, ?ba/s]"
      ]
     },
     "metadata": {},
     "output_type": "display_data"
    },
    {
     "data": {
      "application/vnd.jupyter.widget-view+json": {
       "model_id": "f69129a0d3224b9982b6b37afce2f39c",
       "version_major": 2,
       "version_minor": 0
      },
      "text/plain": [
       "  0%|          | 0/3 [00:00<?, ?ba/s]"
      ]
     },
     "metadata": {},
     "output_type": "display_data"
    },
    {
     "data": {
      "application/vnd.jupyter.widget-view+json": {
       "model_id": "a9c4998fd16844279950adff32c6c16a",
       "version_major": 2,
       "version_minor": 0
      },
      "text/plain": [
       "  0%|          | 0/3 [00:00<?, ?ba/s]"
      ]
     },
     "metadata": {},
     "output_type": "display_data"
    },
    {
     "data": {
      "application/vnd.jupyter.widget-view+json": {
       "model_id": "b29d5776247b461497aa07d1f8e662fa",
       "version_major": 2,
       "version_minor": 0
      },
      "text/plain": [
       "  0%|          | 0/9 [00:00<?, ?ba/s]"
      ]
     },
     "metadata": {},
     "output_type": "display_data"
    },
    {
     "data": {
      "application/vnd.jupyter.widget-view+json": {
       "model_id": "88c1922b99574f3697b7e4f6ed9e5839",
       "version_major": 2,
       "version_minor": 0
      },
      "text/plain": [
       "  0%|          | 0/2 [00:00<?, ?ba/s]"
      ]
     },
     "metadata": {},
     "output_type": "display_data"
    },
    {
     "data": {
      "application/vnd.jupyter.widget-view+json": {
       "model_id": "8e3f04e7437e4051997b5b6a5ecad137",
       "version_major": 2,
       "version_minor": 0
      },
      "text/plain": [
       "  0%|          | 0/2 [00:00<?, ?ba/s]"
      ]
     },
     "metadata": {},
     "output_type": "display_data"
    },
    {
     "data": {
      "application/vnd.jupyter.widget-view+json": {
       "model_id": "cbc3db3245274acf89edbab284dde921",
       "version_major": 2,
       "version_minor": 0
      },
      "text/plain": [
       "  0%|          | 0/7 [00:00<?, ?ba/s]"
      ]
     },
     "metadata": {},
     "output_type": "display_data"
    },
    {
     "data": {
      "application/vnd.jupyter.widget-view+json": {
       "model_id": "837be025db7d4a7b8590908b10e26458",
       "version_major": 2,
       "version_minor": 0
      },
      "text/plain": [
       "  0%|          | 0/2 [00:00<?, ?ba/s]"
      ]
     },
     "metadata": {},
     "output_type": "display_data"
    },
    {
     "data": {
      "application/vnd.jupyter.widget-view+json": {
       "model_id": "e0869f83e29d482c9831d48fb494ad7b",
       "version_major": 2,
       "version_minor": 0
      },
      "text/plain": [
       "  0%|          | 0/2 [00:00<?, ?ba/s]"
      ]
     },
     "metadata": {},
     "output_type": "display_data"
    },
    {
     "data": {
      "application/vnd.jupyter.widget-view+json": {
       "model_id": "cba3a69da4fd47059e94830d2701591c",
       "version_major": 2,
       "version_minor": 0
      },
      "text/plain": [
       "  0%|          | 0/15 [00:00<?, ?ba/s]"
      ]
     },
     "metadata": {},
     "output_type": "display_data"
    },
    {
     "data": {
      "application/vnd.jupyter.widget-view+json": {
       "model_id": "fd36769661544550ab536ecc3efc04e9",
       "version_major": 2,
       "version_minor": 0
      },
      "text/plain": [
       "  0%|          | 0/4 [00:00<?, ?ba/s]"
      ]
     },
     "metadata": {},
     "output_type": "display_data"
    },
    {
     "data": {
      "application/vnd.jupyter.widget-view+json": {
       "model_id": "93bbfd21703946c8997d4851ef6309b0",
       "version_major": 2,
       "version_minor": 0
      },
      "text/plain": [
       "  0%|          | 0/4 [00:00<?, ?ba/s]"
      ]
     },
     "metadata": {},
     "output_type": "display_data"
    },
    {
     "data": {
      "application/vnd.jupyter.widget-view+json": {
       "model_id": "4f79e8e459ac4bd2b5bd7c9bd2947744",
       "version_major": 2,
       "version_minor": 0
      },
      "text/plain": [
       "  0%|          | 0/12 [00:00<?, ?ba/s]"
      ]
     },
     "metadata": {},
     "output_type": "display_data"
    },
    {
     "data": {
      "application/vnd.jupyter.widget-view+json": {
       "model_id": "7752e39cc24b4c659c01d782686511c0",
       "version_major": 2,
       "version_minor": 0
      },
      "text/plain": [
       "  0%|          | 0/3 [00:00<?, ?ba/s]"
      ]
     },
     "metadata": {},
     "output_type": "display_data"
    },
    {
     "data": {
      "application/vnd.jupyter.widget-view+json": {
       "model_id": "67d66c76f3c149e88ebbcab840f07e2b",
       "version_major": 2,
       "version_minor": 0
      },
      "text/plain": [
       "  0%|          | 0/3 [00:00<?, ?ba/s]"
      ]
     },
     "metadata": {},
     "output_type": "display_data"
    },
    {
     "data": {
      "application/vnd.jupyter.widget-view+json": {
       "model_id": "125943d517fe41daaf2a197581df6c7f",
       "version_major": 2,
       "version_minor": 0
      },
      "text/plain": [
       "  0%|          | 0/8 [00:00<?, ?ba/s]"
      ]
     },
     "metadata": {},
     "output_type": "display_data"
    },
    {
     "data": {
      "application/vnd.jupyter.widget-view+json": {
       "model_id": "8ea6d9588cb24306b542f9cd0fd90ac2",
       "version_major": 2,
       "version_minor": 0
      },
      "text/plain": [
       "  0%|          | 0/2 [00:00<?, ?ba/s]"
      ]
     },
     "metadata": {},
     "output_type": "display_data"
    },
    {
     "data": {
      "application/vnd.jupyter.widget-view+json": {
       "model_id": "3e6c236348a44ba8a8b5405ec2868a92",
       "version_major": 2,
       "version_minor": 0
      },
      "text/plain": [
       "  0%|          | 0/2 [00:00<?, ?ba/s]"
      ]
     },
     "metadata": {},
     "output_type": "display_data"
    },
    {
     "data": {
      "application/vnd.jupyter.widget-view+json": {
       "model_id": "d02f8558b4a943fe8ff121059ea8453b",
       "version_major": 2,
       "version_minor": 0
      },
      "text/plain": [
       "  0%|          | 0/16 [00:00<?, ?ba/s]"
      ]
     },
     "metadata": {},
     "output_type": "display_data"
    },
    {
     "data": {
      "application/vnd.jupyter.widget-view+json": {
       "model_id": "55de20f67c194f18b0a2eb55f2b4cd15",
       "version_major": 2,
       "version_minor": 0
      },
      "text/plain": [
       "  0%|          | 0/4 [00:00<?, ?ba/s]"
      ]
     },
     "metadata": {},
     "output_type": "display_data"
    },
    {
     "data": {
      "application/vnd.jupyter.widget-view+json": {
       "model_id": "bc685babb62e48c3b43556c7675bea13",
       "version_major": 2,
       "version_minor": 0
      },
      "text/plain": [
       "  0%|          | 0/4 [00:00<?, ?ba/s]"
      ]
     },
     "metadata": {},
     "output_type": "display_data"
    },
    {
     "data": {
      "application/vnd.jupyter.widget-view+json": {
       "model_id": "d744111977b64313ad69c9d150097d13",
       "version_major": 2,
       "version_minor": 0
      },
      "text/plain": [
       "  0%|          | 0/15 [00:00<?, ?ba/s]"
      ]
     },
     "metadata": {},
     "output_type": "display_data"
    },
    {
     "data": {
      "application/vnd.jupyter.widget-view+json": {
       "model_id": "bf7db5cf20134e83b91bb975837d7f3b",
       "version_major": 2,
       "version_minor": 0
      },
      "text/plain": [
       "  0%|          | 0/4 [00:00<?, ?ba/s]"
      ]
     },
     "metadata": {},
     "output_type": "display_data"
    },
    {
     "data": {
      "application/vnd.jupyter.widget-view+json": {
       "model_id": "4eec575eab6744cf8f53926453b8faee",
       "version_major": 2,
       "version_minor": 0
      },
      "text/plain": [
       "  0%|          | 0/4 [00:00<?, ?ba/s]"
      ]
     },
     "metadata": {},
     "output_type": "display_data"
    },
    {
     "data": {
      "application/vnd.jupyter.widget-view+json": {
       "model_id": "f39bc11767a1449c81c257dee52a893f",
       "version_major": 2,
       "version_minor": 0
      },
      "text/plain": [
       "  0%|          | 0/12 [00:00<?, ?ba/s]"
      ]
     },
     "metadata": {},
     "output_type": "display_data"
    },
    {
     "data": {
      "application/vnd.jupyter.widget-view+json": {
       "model_id": "b945aa31046b4ccab2b5c6485fc13b0c",
       "version_major": 2,
       "version_minor": 0
      },
      "text/plain": [
       "  0%|          | 0/3 [00:00<?, ?ba/s]"
      ]
     },
     "metadata": {},
     "output_type": "display_data"
    },
    {
     "data": {
      "application/vnd.jupyter.widget-view+json": {
       "model_id": "6fc0de229c964c8da54b9df64bed4fe2",
       "version_major": 2,
       "version_minor": 0
      },
      "text/plain": [
       "  0%|          | 0/3 [00:00<?, ?ba/s]"
      ]
     },
     "metadata": {},
     "output_type": "display_data"
    }
   ],
   "source": [
    "%%capture\n",
    "\n",
    "datasets = {k: dataset.map(tokenize_inputs, batched=True)\n",
    "            for k, dataset in datasets.items()}"
   ]
  },
  {
   "cell_type": "code",
   "execution_count": 24,
   "id": "e4694723-fa35-4887-87eb-497b3b40b2d3",
   "metadata": {},
   "outputs": [],
   "source": [
    "data_collator = DataCollatorWithPadding(tokenizer=tokenizer)"
   ]
  },
  {
   "cell_type": "markdown",
   "id": "0353b73b-2806-4b03-b439-750bbd421dab",
   "metadata": {},
   "source": [
    "## Build the Models"
   ]
  },
  {
   "cell_type": "markdown",
   "id": "d36ec47c-fd8c-4f9e-ac49-fbf7a21ab0c5",
   "metadata": {},
   "source": [
    "### Function to Compute Metrics"
   ]
  },
  {
   "cell_type": "code",
   "execution_count": 49,
   "id": "d98c480a-bfb0-410a-8365-6a43a59d6b5b",
   "metadata": {},
   "outputs": [],
   "source": [
    "from sklearn.metrics import mean_squared_error, r2_score, mean_squared_error, mean_absolute_error\n",
    "from scipy.stats import pearsonr \n",
    "\n",
    "def compute_metrics_for_regression(eval_pred):\n",
    "    logits, labels = eval_pred\n",
    "    mse = mean_squared_error(labels, logits)\n",
    "    rmse = mean_squared_error(labels, logits, squared=False)\n",
    "    mae = mean_absolute_error(labels, logits)\n",
    "    r2 = r2_score(labels, logits)\n",
    "    smape = 1/len(labels) * np.sum(2 * np.abs(logits-labels) / (np.abs(labels) + np.abs(logits))*100)\n",
    "\n",
    "    return {\"mse\": mse, \"rmse\": rmse, \"mae\": mae, \"r2\": r2, \"smape\": smape}"
   ]
  },
  {
   "cell_type": "markdown",
   "id": "6ff5750c-4eca-4ba1-b091-2f0835d43fd0",
   "metadata": {},
   "source": [
    "## Now for the Main Event..."
   ]
  },
  {
   "cell_type": "markdown",
   "id": "54eddbe1-df63-48cd-8a4a-b19ef18fa298",
   "metadata": {},
   "source": [
    "### Train the Models\n",
    "\n",
    "We handle finetuning and inference inside a function call at the same time.  \n",
    "We save the results as numpy arrays in memory, and we also save the finetuned models to disk at each checkpoint.  \n",
    "Only one model in GPU memory at a time."
   ]
  },
  {
   "cell_type": "code",
   "execution_count": 112,
   "id": "bb8986a7-dbcf-4874-83be-9f3dda4526b5",
   "metadata": {},
   "outputs": [],
   "source": [
    "def train_model(dataset_name, dataset):\n",
    "    training_args = TrainingArguments(\n",
    "        output_dir = f'./results/{dataset_name}_checkpoints',\n",
    "        optim = 'adamw_torch',\n",
    "        num_train_epochs = .1, ########################### DEBUGGING ###############################\n",
    "        per_device_train_batch_size = 64,\n",
    "        per_device_eval_batch_size = 64,\n",
    "        weight_decay = 0.01,\n",
    "        learning_rate = 2e-5,\n",
    "        logging_dir = f'./logs/{dataset_name}',\n",
    "        save_total_limit = 10,\n",
    "        load_best_model_at_end = True,\n",
    "        metric_for_best_model = 'rmse',\n",
    "        evaluation_strategy = \"epoch\",\n",
    "        save_strategy = \"epoch\",\n",
    "        greater_is_better = False,\n",
    "        seed=seed,\n",
    "        log_level = 'error', # took me ages to find these options\n",
    "        disable_tqdm = False, # enable output cell scrolling in JupyterLab for even more beautiful output :D\n",
    "    ) \n",
    "\n",
    "    # Call the Trainer\n",
    "    trainer = Trainer(\n",
    "        model_init = model_init,\n",
    "        args = training_args,\n",
    "        data_collator=data_collator,\n",
    "        train_dataset = dataset['train'],\n",
    "        eval_dataset = dataset['valid'],\n",
    "        compute_metrics = compute_metrics_for_regression,\n",
    "        callbacks = [EarlyStoppingCallback(early_stopping_patience=3)]\n",
    "    )\n",
    "\n",
    "    # Train the model\n",
    "    trainer.train()\n",
    "\n",
    "    # Get predictions, labels\n",
    "    return trainer.predict(dataset['test'])"
   ]
  },
  {
   "cell_type": "code",
   "execution_count": null,
   "id": "c760226a-ff2b-40cf-999a-2b6e54b9b1d5",
   "metadata": {
    "scrolled": true,
    "tags": []
   },
   "outputs": [
    {
     "data": {
      "text/html": [
       "\n",
       "    <div>\n",
       "      \n",
       "      <progress value='26' max='26' style='width:300px; height:20px; vertical-align: middle;'></progress>\n",
       "      [26/26 00:33, Epoch 0/1]\n",
       "    </div>\n",
       "    <table border=\"1\" class=\"dataframe\">\n",
       "  <thead>\n",
       " <tr style=\"text-align: left;\">\n",
       "      <th>Epoch</th>\n",
       "      <th>Training Loss</th>\n",
       "      <th>Validation Loss</th>\n",
       "      <th>Mse</th>\n",
       "      <th>Rmse</th>\n",
       "      <th>Mae</th>\n",
       "      <th>R2</th>\n",
       "      <th>Smape</th>\n",
       "    </tr>\n",
       "  </thead>\n",
       "  <tbody>\n",
       "    <tr>\n",
       "      <td>0</td>\n",
       "      <td>No log</td>\n",
       "      <td>168.351410</td>\n",
       "      <td>168.351410</td>\n",
       "      <td>12.975030</td>\n",
       "      <td>12.873399</td>\n",
       "      <td>-62.738506</td>\n",
       "      <td>466943.776159</td>\n",
       "    </tr>\n",
       "  </tbody>\n",
       "</table><p>"
      ],
      "text/plain": [
       "<IPython.core.display.HTML object>"
      ]
     },
     "metadata": {},
     "output_type": "display_data"
    },
    {
     "data": {
      "text/html": [
       "\n",
       "    <div>\n",
       "      \n",
       "      <progress value='54' max='54' style='width:300px; height:20px; vertical-align: middle;'></progress>\n",
       "      [54/54 00:13]\n",
       "    </div>\n",
       "    "
      ],
      "text/plain": [
       "<IPython.core.display.HTML object>"
      ]
     },
     "metadata": {},
     "output_type": "display_data"
    },
    {
     "name": "stdout",
     "output_type": "stream",
     "text": [
      "baseline            : r=0.0527, p=0.002\n"
     ]
    },
    {
     "data": {
      "text/html": [
       "\n",
       "    <div>\n",
       "      \n",
       "      <progress value='22' max='22' style='width:300px; height:20px; vertical-align: middle;'></progress>\n",
       "      [22/22 00:29, Epoch 0/1]\n",
       "    </div>\n",
       "    <table border=\"1\" class=\"dataframe\">\n",
       "  <thead>\n",
       " <tr style=\"text-align: left;\">\n",
       "      <th>Epoch</th>\n",
       "      <th>Training Loss</th>\n",
       "      <th>Validation Loss</th>\n",
       "      <th>Mse</th>\n",
       "      <th>Rmse</th>\n",
       "      <th>Mae</th>\n",
       "      <th>R2</th>\n",
       "      <th>Smape</th>\n",
       "    </tr>\n",
       "  </thead>\n",
       "  <tbody>\n",
       "    <tr>\n",
       "      <td>0</td>\n",
       "      <td>No log</td>\n",
       "      <td>164.251419</td>\n",
       "      <td>164.251419</td>\n",
       "      <td>12.816061</td>\n",
       "      <td>12.692967</td>\n",
       "      <td>-50.114090</td>\n",
       "      <td>410038.068966</td>\n",
       "    </tr>\n",
       "  </tbody>\n",
       "</table><p>"
      ],
      "text/plain": [
       "<IPython.core.display.HTML object>"
      ]
     },
     "metadata": {},
     "output_type": "display_data"
    },
    {
     "data": {
      "text/html": [
       "\n",
       "    <div>\n",
       "      \n",
       "      <progress value='46' max='46' style='width:300px; height:20px; vertical-align: middle;'></progress>\n",
       "      [46/46 00:11]\n",
       "    </div>\n",
       "    "
      ],
      "text/plain": [
       "<IPython.core.display.HTML object>"
      ]
     },
     "metadata": {},
     "output_type": "display_data"
    },
    {
     "name": "stdout",
     "output_type": "stream",
     "text": [
      "variance_0          : r=0.19, p=4.19e-25\n"
     ]
    },
    {
     "data": {
      "text/html": [
       "\n",
       "    <div>\n",
       "      \n",
       "      <progress value='14' max='14' style='width:300px; height:20px; vertical-align: middle;'></progress>\n",
       "      [14/14 00:18, Epoch 0/1]\n",
       "    </div>\n",
       "    <table border=\"1\" class=\"dataframe\">\n",
       "  <thead>\n",
       " <tr style=\"text-align: left;\">\n",
       "      <th>Epoch</th>\n",
       "      <th>Training Loss</th>\n",
       "      <th>Validation Loss</th>\n",
       "      <th>Mse</th>\n",
       "      <th>Rmse</th>\n",
       "      <th>Mae</th>\n",
       "      <th>R2</th>\n",
       "      <th>Smape</th>\n",
       "    </tr>\n",
       "  </thead>\n",
       "  <tbody>\n",
       "    <tr>\n",
       "      <td>0</td>\n",
       "      <td>No log</td>\n",
       "      <td>183.137909</td>\n",
       "      <td>183.137909</td>\n",
       "      <td>13.532845</td>\n",
       "      <td>13.372551</td>\n",
       "      <td>-40.639119</td>\n",
       "      <td>303089.781548</td>\n",
       "    </tr>\n",
       "  </tbody>\n",
       "</table><p>"
      ],
      "text/plain": [
       "<IPython.core.display.HTML object>"
      ]
     },
     "metadata": {},
     "output_type": "display_data"
    },
    {
     "data": {
      "text/html": [
       "\n",
       "    <div>\n",
       "      \n",
       "      <progress value='30' max='30' style='width:300px; height:20px; vertical-align: middle;'></progress>\n",
       "      [30/30 00:07]\n",
       "    </div>\n",
       "    "
      ],
      "text/plain": [
       "<IPython.core.display.HTML object>"
      ]
     },
     "metadata": {},
     "output_type": "display_data"
    },
    {
     "name": "stdout",
     "output_type": "stream",
     "text": [
      "variance_1          : r=0.265, p=1.15e-31\n"
     ]
    },
    {
     "data": {
      "text/html": [
       "\n",
       "    <div>\n",
       "      \n",
       "      <progress value='10' max='10' style='width:300px; height:20px; vertical-align: middle;'></progress>\n",
       "      [10/10 00:13, Epoch 0/1]\n",
       "    </div>\n",
       "    <table border=\"1\" class=\"dataframe\">\n",
       "  <thead>\n",
       " <tr style=\"text-align: left;\">\n",
       "      <th>Epoch</th>\n",
       "      <th>Training Loss</th>\n",
       "      <th>Validation Loss</th>\n",
       "      <th>Mse</th>\n",
       "      <th>Rmse</th>\n",
       "      <th>Mae</th>\n",
       "      <th>R2</th>\n",
       "      <th>Smape</th>\n",
       "    </tr>\n",
       "  </thead>\n",
       "  <tbody>\n",
       "    <tr>\n",
       "      <td>0</td>\n",
       "      <td>No log</td>\n",
       "      <td>193.809341</td>\n",
       "      <td>193.809357</td>\n",
       "      <td>13.921543</td>\n",
       "      <td>13.725161</td>\n",
       "      <td>-34.164743</td>\n",
       "      <td>229435.376426</td>\n",
       "    </tr>\n",
       "  </tbody>\n",
       "</table><p>"
      ],
      "text/plain": [
       "<IPython.core.display.HTML object>"
      ]
     },
     "metadata": {},
     "output_type": "display_data"
    },
    {
     "data": {
      "text/html": [
       "\n",
       "    <div>\n",
       "      \n",
       "      <progress value='21' max='21' style='width:300px; height:20px; vertical-align: middle;'></progress>\n",
       "      [21/21 00:05]\n",
       "    </div>\n",
       "    "
      ],
      "text/plain": [
       "<IPython.core.display.HTML object>"
      ]
     },
     "metadata": {},
     "output_type": "display_data"
    },
    {
     "name": "stdout",
     "output_type": "stream",
     "text": [
      "variance_2_5        : r=0.291, p=4.68e-27\n"
     ]
    },
    {
     "data": {
      "text/html": [
       "\n",
       "    <div>\n",
       "      \n",
       "      <progress value='24' max='24' style='width:300px; height:20px; vertical-align: middle;'></progress>\n",
       "      [24/24 00:31, Epoch 0/1]\n",
       "    </div>\n",
       "    <table border=\"1\" class=\"dataframe\">\n",
       "  <thead>\n",
       " <tr style=\"text-align: left;\">\n",
       "      <th>Epoch</th>\n",
       "      <th>Training Loss</th>\n",
       "      <th>Validation Loss</th>\n",
       "      <th>Mse</th>\n",
       "      <th>Rmse</th>\n",
       "      <th>Mae</th>\n",
       "      <th>R2</th>\n",
       "      <th>Smape</th>\n",
       "    </tr>\n",
       "  </thead>\n",
       "  <tbody>\n",
       "    <tr>\n",
       "      <td>0</td>\n",
       "      <td>No log</td>\n",
       "      <td>170.483704</td>\n",
       "      <td>170.483704</td>\n",
       "      <td>13.056941</td>\n",
       "      <td>12.937064</td>\n",
       "      <td>-53.310562</td>\n",
       "      <td>442780.784882</td>\n",
       "    </tr>\n",
       "  </tbody>\n",
       "</table><p>"
      ],
      "text/plain": [
       "<IPython.core.display.HTML object>"
      ]
     },
     "metadata": {},
     "output_type": "display_data"
    },
    {
     "data": {
      "text/html": [
       "\n",
       "    <div>\n",
       "      \n",
       "      <progress value='50' max='50' style='width:300px; height:20px; vertical-align: middle;'></progress>\n",
       "      [50/50 00:13]\n",
       "    </div>\n",
       "    "
      ],
      "text/plain": [
       "<IPython.core.display.HTML object>"
      ]
     },
     "metadata": {},
     "output_type": "display_data"
    },
    {
     "name": "stdout",
     "output_type": "stream",
     "text": [
      "ttr_0_0_5           : r=0.121, p=6.93e-12\n"
     ]
    },
    {
     "data": {
      "text/html": [
       "\n",
       "    <div>\n",
       "      \n",
       "      <progress value='19' max='19' style='width:300px; height:20px; vertical-align: middle;'></progress>\n",
       "      [19/19 00:25, Epoch 0/1]\n",
       "    </div>\n",
       "    <table border=\"1\" class=\"dataframe\">\n",
       "  <thead>\n",
       " <tr style=\"text-align: left;\">\n",
       "      <th>Epoch</th>\n",
       "      <th>Training Loss</th>\n",
       "      <th>Validation Loss</th>\n",
       "      <th>Mse</th>\n",
       "      <th>Rmse</th>\n",
       "      <th>Mae</th>\n",
       "      <th>R2</th>\n",
       "      <th>Smape</th>\n",
       "    </tr>\n",
       "  </thead>\n",
       "  <tbody>\n",
       "    <tr>\n",
       "      <td>0</td>\n",
       "      <td>No log</td>\n",
       "      <td>176.896698</td>\n",
       "      <td>176.896698</td>\n",
       "      <td>13.300252</td>\n",
       "      <td>13.171571</td>\n",
       "      <td>-50.247578</td>\n",
       "      <td>376016.944138</td>\n",
       "    </tr>\n",
       "  </tbody>\n",
       "</table><p>"
      ],
      "text/plain": [
       "<IPython.core.display.HTML object>"
      ]
     },
     "metadata": {},
     "output_type": "display_data"
    },
    {
     "data": {
      "text/html": [
       "\n",
       "    <div>\n",
       "      \n",
       "      <progress value='40' max='40' style='width:300px; height:20px; vertical-align: middle;'></progress>\n",
       "      [40/40 00:10]\n",
       "    </div>\n",
       "    "
      ],
      "text/plain": [
       "<IPython.core.display.HTML object>"
      ]
     },
     "metadata": {},
     "output_type": "display_data"
    },
    {
     "name": "stdout",
     "output_type": "stream",
     "text": [
      "ttr_0_2             : r=0.168, p=1.81e-17\n"
     ]
    },
    {
     "data": {
      "text/html": [
       "\n",
       "    <div>\n",
       "      \n",
       "      <progress value='13' max='13' style='width:300px; height:20px; vertical-align: middle;'></progress>\n",
       "      [13/13 00:17, Epoch 0/1]\n",
       "    </div>\n",
       "    <table border=\"1\" class=\"dataframe\">\n",
       "  <thead>\n",
       " <tr style=\"text-align: left;\">\n",
       "      <th>Epoch</th>\n",
       "      <th>Training Loss</th>\n",
       "      <th>Validation Loss</th>\n",
       "      <th>Mse</th>\n",
       "      <th>Rmse</th>\n",
       "      <th>Mae</th>\n",
       "      <th>R2</th>\n",
       "      <th>Smape</th>\n",
       "    </tr>\n",
       "  </thead>\n",
       "  <tbody>\n",
       "    <tr>\n",
       "      <td>0</td>\n",
       "      <td>No log</td>\n",
       "      <td>198.419098</td>\n",
       "      <td>198.419098</td>\n",
       "      <td>14.086131</td>\n",
       "      <td>13.964996</td>\n",
       "      <td>-56.446565</td>\n",
       "      <td>281444.409894</td>\n",
       "    </tr>\n",
       "  </tbody>\n",
       "</table><p>"
      ],
      "text/plain": [
       "<IPython.core.display.HTML object>"
      ]
     },
     "metadata": {},
     "output_type": "display_data"
    },
    {
     "data": {
      "text/html": [
       "\n",
       "    <div>\n",
       "      \n",
       "      <progress value='27' max='27' style='width:300px; height:20px; vertical-align: middle;'></progress>\n",
       "      [27/27 00:06]\n",
       "    </div>\n",
       "    "
      ],
      "text/plain": [
       "<IPython.core.display.HTML object>"
      ]
     },
     "metadata": {},
     "output_type": "display_data"
    },
    {
     "name": "stdout",
     "output_type": "stream",
     "text": [
      "ttr_0_4             : r=0.201, p=5.92e-17\n"
     ]
    },
    {
     "data": {
      "text/html": [
       "\n",
       "    <div>\n",
       "      \n",
       "      <progress value='25' max='25' style='width:300px; height:20px; vertical-align: middle;'></progress>\n",
       "      [25/25 00:33, Epoch 0/1]\n",
       "    </div>\n",
       "    <table border=\"1\" class=\"dataframe\">\n",
       "  <thead>\n",
       " <tr style=\"text-align: left;\">\n",
       "      <th>Epoch</th>\n",
       "      <th>Training Loss</th>\n",
       "      <th>Validation Loss</th>\n",
       "      <th>Mse</th>\n",
       "      <th>Rmse</th>\n",
       "      <th>Mae</th>\n",
       "      <th>R2</th>\n",
       "      <th>Smape</th>\n",
       "    </tr>\n",
       "  </thead>\n",
       "  <tbody>\n",
       "    <tr>\n",
       "      <td>0</td>\n",
       "      <td>No log</td>\n",
       "      <td>167.573013</td>\n",
       "      <td>167.573013</td>\n",
       "      <td>12.945000</td>\n",
       "      <td>12.835720</td>\n",
       "      <td>-57.573470</td>\n",
       "      <td>458393.047648</td>\n",
       "    </tr>\n",
       "  </tbody>\n",
       "</table><p>"
      ],
      "text/plain": [
       "<IPython.core.display.HTML object>"
      ]
     },
     "metadata": {},
     "output_type": "display_data"
    },
    {
     "data": {
      "text/html": [
       "\n",
       "    <div>\n",
       "      \n",
       "      <progress value='53' max='53' style='width:300px; height:20px; vertical-align: middle;'></progress>\n",
       "      [53/53 00:13]\n",
       "    </div>\n",
       "    "
      ],
      "text/plain": [
       "<IPython.core.display.HTML object>"
      ]
     },
     "metadata": {},
     "output_type": "display_data"
    },
    {
     "name": "stdout",
     "output_type": "stream",
     "text": [
      "variance_0_ttr_0_0_5: r=0.13, p=5.75e-14\n"
     ]
    },
    {
     "data": {
      "text/html": [
       "\n",
       "    <div>\n",
       "      \n",
       "      <progress value='2' max='23' style='width:300px; height:20px; vertical-align: middle;'></progress>\n",
       "      [ 2/23 : < :, Epoch 0.00/1]\n",
       "    </div>\n",
       "    <table border=\"1\" class=\"dataframe\">\n",
       "  <thead>\n",
       " <tr style=\"text-align: left;\">\n",
       "      <th>Epoch</th>\n",
       "      <th>Training Loss</th>\n",
       "      <th>Validation Loss</th>\n",
       "    </tr>\n",
       "  </thead>\n",
       "  <tbody>\n",
       "  </tbody>\n",
       "</table><p>"
      ],
      "text/plain": [
       "<IPython.core.display.HTML object>"
      ]
     },
     "metadata": {},
     "output_type": "display_data"
    }
   ],
   "source": [
    "model_metrics = {}\n",
    "model_results = {}\n",
    "for model_name, dataset in datasets.items():\n",
    "    preds, labs, metrics = train_model(model_name, dataset)\n",
    "    preds = preds.flatten()\n",
    "    model_results[model_name] = {'predicted': preds, 'true': labs}\n",
    "    model_metrics[model_name] = metrics"
   ]
  },
  {
   "cell_type": "code",
   "execution_count": 140,
   "id": "afcbf588-575f-45f2-8715-8441c49b50bf",
   "metadata": {},
   "outputs": [
    {
     "name": "stdout",
     "output_type": "stream",
     "text": [
      "baseline            : r~0.053, p~0.002\n",
      "variance_0          : r~0.190, p~0.000\n",
      "variance_1          : r~0.265, p~0.000\n",
      "variance_2_5        : r~0.291, p~0.000\n",
      "ttr_0_0_5           : r~0.121, p~0.000\n",
      "ttr_0_2             : r~0.168, p~0.000\n",
      "ttr_0_4             : r~0.201, p~0.000\n",
      "variance_0_ttr_0_0_5: r~0.130, p~0.000\n",
      "variance_0_ttr_0_4  : r~0.173, p~0.000\n",
      "variance_2_5_ttr_0_4: r~0.181, p~0.000\n"
     ]
    }
   ],
   "source": [
    "for model_name, res in model_results.items():\n",
    "    preds, labs = res['predicted'], res['true']\n",
    "    print('{}: r~{:.3f}, p~{:.3f}'.format(model_name.ljust(20), *pearsonr(preds, labs)))"
   ]
  },
  {
   "cell_type": "markdown",
   "id": "a22a72c0-a60b-4375-a1e3-f162693cf387",
   "metadata": {},
   "source": [
    "## Analysis of the Models"
   ]
  },
  {
   "cell_type": "code",
   "execution_count": 141,
   "id": "d208fa64-7c35-4acf-9f5c-6a66da67385f",
   "metadata": {},
   "outputs": [
    {
     "data": {
      "text/html": [
       "<div>\n",
       "<style scoped>\n",
       "    .dataframe tbody tr th:only-of-type {\n",
       "        vertical-align: middle;\n",
       "    }\n",
       "\n",
       "    .dataframe tbody tr th {\n",
       "        vertical-align: top;\n",
       "    }\n",
       "\n",
       "    .dataframe thead th {\n",
       "        text-align: right;\n",
       "    }\n",
       "</style>\n",
       "<table border=\"1\" class=\"dataframe\">\n",
       "  <thead>\n",
       "    <tr style=\"text-align: right;\">\n",
       "      <th></th>\n",
       "      <th>test_loss</th>\n",
       "      <th>test_mse</th>\n",
       "      <th>test_rmse</th>\n",
       "      <th>test_mae</th>\n",
       "      <th>test_r2</th>\n",
       "      <th>test_smape</th>\n",
       "      <th>test_runtime</th>\n",
       "      <th>test_samples_per_second</th>\n",
       "      <th>test_steps_per_second</th>\n",
       "    </tr>\n",
       "  </thead>\n",
       "  <tbody>\n",
       "    <tr>\n",
       "      <th>baseline</th>\n",
       "      <td>168.785278</td>\n",
       "      <td>168.785278</td>\n",
       "      <td>12.991739</td>\n",
       "      <td>12.890633</td>\n",
       "      <td>-63.357636</td>\n",
       "      <td>467072.484990</td>\n",
       "      <td>14.0261</td>\n",
       "      <td>244.615</td>\n",
       "      <td>3.850</td>\n",
       "    </tr>\n",
       "    <tr>\n",
       "      <th>variance_0</th>\n",
       "      <td>164.011520</td>\n",
       "      <td>164.011520</td>\n",
       "      <td>12.806698</td>\n",
       "      <td>12.679286</td>\n",
       "      <td>-48.502300</td>\n",
       "      <td>409948.216477</td>\n",
       "      <td>12.0878</td>\n",
       "      <td>239.994</td>\n",
       "      <td>3.805</td>\n",
       "    </tr>\n",
       "    <tr>\n",
       "      <th>variance_1</th>\n",
       "      <td>182.322571</td>\n",
       "      <td>182.322571</td>\n",
       "      <td>13.502687</td>\n",
       "      <td>13.352719</td>\n",
       "      <td>-43.142992</td>\n",
       "      <td>303385.640700</td>\n",
       "      <td>7.9195</td>\n",
       "      <td>238.274</td>\n",
       "      <td>3.788</td>\n",
       "    </tr>\n",
       "    <tr>\n",
       "      <th>variance_2_5</th>\n",
       "      <td>196.071762</td>\n",
       "      <td>196.071762</td>\n",
       "      <td>14.002563</td>\n",
       "      <td>13.815821</td>\n",
       "      <td>-36.132356</td>\n",
       "      <td>229692.276806</td>\n",
       "      <td>5.5196</td>\n",
       "      <td>238.242</td>\n",
       "      <td>3.805</td>\n",
       "    </tr>\n",
       "    <tr>\n",
       "      <th>ttr_0_0_5</th>\n",
       "      <td>169.577728</td>\n",
       "      <td>169.577713</td>\n",
       "      <td>13.022201</td>\n",
       "      <td>12.898135</td>\n",
       "      <td>-51.107054</td>\n",
       "      <td>442496.644836</td>\n",
       "      <td>13.3926</td>\n",
       "      <td>237.146</td>\n",
       "      <td>3.733</td>\n",
       "    </tr>\n",
       "    <tr>\n",
       "      <th>ttr_0_2</th>\n",
       "      <td>175.661774</td>\n",
       "      <td>175.661758</td>\n",
       "      <td>13.253745</td>\n",
       "      <td>13.116300</td>\n",
       "      <td>-46.788707</td>\n",
       "      <td>375691.878883</td>\n",
       "      <td>10.7430</td>\n",
       "      <td>236.713</td>\n",
       "      <td>3.723</td>\n",
       "    </tr>\n",
       "    <tr>\n",
       "      <th>ttr_0_4</th>\n",
       "      <td>197.194427</td>\n",
       "      <td>197.194427</td>\n",
       "      <td>14.042593</td>\n",
       "      <td>13.923558</td>\n",
       "      <td>-57.347176</td>\n",
       "      <td>281203.279152</td>\n",
       "      <td>7.1752</td>\n",
       "      <td>236.650</td>\n",
       "      <td>3.763</td>\n",
       "    </tr>\n",
       "    <tr>\n",
       "      <th>variance_0_ttr_0_0_5</th>\n",
       "      <td>166.898743</td>\n",
       "      <td>166.898743</td>\n",
       "      <td>12.918930</td>\n",
       "      <td>12.810462</td>\n",
       "      <td>-57.966716</td>\n",
       "      <td>458137.814804</td>\n",
       "      <td>14.1292</td>\n",
       "      <td>236.177</td>\n",
       "      <td>3.751</td>\n",
       "    </tr>\n",
       "    <tr>\n",
       "      <th>variance_0_ttr_0_4</th>\n",
       "      <td>165.219589</td>\n",
       "      <td>165.219589</td>\n",
       "      <td>12.853777</td>\n",
       "      <td>12.735514</td>\n",
       "      <td>-52.486147</td>\n",
       "      <td>424479.451187</td>\n",
       "      <td>12.8269</td>\n",
       "      <td>236.379</td>\n",
       "      <td>3.742</td>\n",
       "    </tr>\n",
       "    <tr>\n",
       "      <th>variance_2_5_ttr_0_4</th>\n",
       "      <td>175.993790</td>\n",
       "      <td>175.993790</td>\n",
       "      <td>13.266265</td>\n",
       "      <td>13.132139</td>\n",
       "      <td>-47.978411</td>\n",
       "      <td>362615.080232</td>\n",
       "      <td>10.2214</td>\n",
       "      <td>236.562</td>\n",
       "      <td>3.718</td>\n",
       "    </tr>\n",
       "  </tbody>\n",
       "</table>\n",
       "</div>"
      ],
      "text/plain": [
       "                       test_loss    test_mse  test_rmse   test_mae    test_r2  \\\n",
       "baseline              168.785278  168.785278  12.991739  12.890633 -63.357636   \n",
       "variance_0            164.011520  164.011520  12.806698  12.679286 -48.502300   \n",
       "variance_1            182.322571  182.322571  13.502687  13.352719 -43.142992   \n",
       "variance_2_5          196.071762  196.071762  14.002563  13.815821 -36.132356   \n",
       "ttr_0_0_5             169.577728  169.577713  13.022201  12.898135 -51.107054   \n",
       "ttr_0_2               175.661774  175.661758  13.253745  13.116300 -46.788707   \n",
       "ttr_0_4               197.194427  197.194427  14.042593  13.923558 -57.347176   \n",
       "variance_0_ttr_0_0_5  166.898743  166.898743  12.918930  12.810462 -57.966716   \n",
       "variance_0_ttr_0_4    165.219589  165.219589  12.853777  12.735514 -52.486147   \n",
       "variance_2_5_ttr_0_4  175.993790  175.993790  13.266265  13.132139 -47.978411   \n",
       "\n",
       "                         test_smape  test_runtime  test_samples_per_second  \\\n",
       "baseline              467072.484990       14.0261                  244.615   \n",
       "variance_0            409948.216477       12.0878                  239.994   \n",
       "variance_1            303385.640700        7.9195                  238.274   \n",
       "variance_2_5          229692.276806        5.5196                  238.242   \n",
       "ttr_0_0_5             442496.644836       13.3926                  237.146   \n",
       "ttr_0_2               375691.878883       10.7430                  236.713   \n",
       "ttr_0_4               281203.279152        7.1752                  236.650   \n",
       "variance_0_ttr_0_0_5  458137.814804       14.1292                  236.177   \n",
       "variance_0_ttr_0_4    424479.451187       12.8269                  236.379   \n",
       "variance_2_5_ttr_0_4  362615.080232       10.2214                  236.562   \n",
       "\n",
       "                      test_steps_per_second  \n",
       "baseline                              3.850  \n",
       "variance_0                            3.805  \n",
       "variance_1                            3.788  \n",
       "variance_2_5                          3.805  \n",
       "ttr_0_0_5                             3.733  \n",
       "ttr_0_2                               3.723  \n",
       "ttr_0_4                               3.763  \n",
       "variance_0_ttr_0_0_5                  3.751  \n",
       "variance_0_ttr_0_4                    3.742  \n",
       "variance_2_5_ttr_0_4                  3.718  "
      ]
     },
     "execution_count": 141,
     "metadata": {},
     "output_type": "execute_result"
    }
   ],
   "source": [
    "pd.DataFrame.from_dict(model_metrics, orient='index')"
   ]
  },
  {
   "cell_type": "markdown",
   "id": "3522026f-d1fd-4cda-8d14-a60d2574cea9",
   "metadata": {},
   "source": [
    "### Graph the Predicted and Actual Scores for Each Model"
   ]
  },
  {
   "cell_type": "code",
   "execution_count": 142,
   "id": "91541647-ce18-4857-8c3d-5c04bf595209",
   "metadata": {},
   "outputs": [
    {
     "data": {
      "image/png": "[encoded data removed]",
      "text/plain": [
       "<Figure size 720x720 with 9 Axes>"
      ]
     },
     "metadata": {
      "needs_background": "light"
     },
     "output_type": "display_data"
    }
   ],
   "source": [
    "from matplotlib import pyplot as plt\n",
    "\n",
    "\n",
    "fig, axs = plt.subplots(3, 3, sharex=True, sharey=True, figsize=(10,10))\n",
    "for (model_name, results), ax in zip(model_results.items(), axs.flatten()): # axs.flatten() is a useful matplotlib trick for plt.subplots()\n",
    "    ax.scatter(results['predicted'], results['true'], color='gray', alpha=0.3)\n",
    "    ax.set_title(model_name)\n",
    "    \n",
    "# plt.xlim([5.5, 18.25])\n",
    "# plt.xticks(np.arange(6, 19, step=2)) \n",
    "fig.text(0.5, 0.04, 'predicted score', ha='center')\n",
    "fig.text(0.04, 0.5, 'actual score', va='center', rotation='vertical')\n",
    "fig.show()"
   ]
  },
  {
   "cell_type": "code",
   "execution_count": 52,
   "id": "123ba470-7647-47fe-a6c3-e8d19f916d28",
   "metadata": {},
   "outputs": [
    {
     "data": {
      "image/png": "[encoded data removed]",
      "text/plain": [
       "<Figure size 360x360 with 1 Axes>"
      ]
     },
     "metadata": {
      "needs_background": "light"
     },
     "output_type": "display_data"
    }
   ],
   "source": [
    "plt.figure(figsize=(5,5))\n",
    "plt.scatter(baseline_predictions, baseline_labels, alpha=0.3)\n",
    "plt.title('All Reviewers')\n",
    "plt.xlabel('predicted score')\n",
    "plt.ylabel('actual score')\n",
    "plt.xlim([14, 18])\n",
    "plt.xticks(np.arange(6, 19, step=2)) \n",
    "plt.show()"
   ]
  },
  {
   "cell_type": "markdown",
   "id": "ab292ede-6d89-418a-838b-f2c704ecd6e1",
   "metadata": {
    "jp-MarkdownHeadingCollapsed": true,
    "tags": []
   },
   "source": [
    "## GPU memory diagnostics"
   ]
  },
  {
   "cell_type": "code",
   "execution_count": 111,
   "id": "f6824d6c-857d-40df-bc40-76c10f03d052",
   "metadata": {},
   "outputs": [
    {
     "name": "stdout",
     "output_type": "stream",
     "text": [
      "|===========================================================================|\n",
      "|                  PyTorch CUDA memory summary, device ID 0                 |\n",
      "|---------------------------------------------------------------------------|\n",
      "|            CUDA OOMs: 0            |        cudaMalloc retries: 0         |\n",
      "|===========================================================================|\n",
      "|        Metric         | Cur Usage  | Peak Usage | Tot Alloc  | Tot Freed  |\n",
      "|---------------------------------------------------------------------------|\n",
      "| Allocated memory      |       0 B  |   33448 MB |   51999 GB |   51999 GB |\n",
      "|       from large pool |       0 B  |   33428 MB |   51943 GB |   51943 GB |\n",
      "|       from small pool |       0 B  |      21 MB |      55 GB |      55 GB |\n",
      "|---------------------------------------------------------------------------|\n",
      "| Active memory         |       0 B  |   33448 MB |   51999 GB |   51999 GB |\n",
      "|       from large pool |       0 B  |   33428 MB |   51943 GB |   51943 GB |\n",
      "|       from small pool |       0 B  |      21 MB |      55 GB |      55 GB |\n",
      "|---------------------------------------------------------------------------|\n",
      "| GPU reserved memory   |       0 B  |   33918 MB |   33918 MB |   33918 MB |\n",
      "|       from large pool |       0 B  |   33896 MB |   33896 MB |   33896 MB |\n",
      "|       from small pool |       0 B  |      22 MB |      22 MB |      22 MB |\n",
      "|---------------------------------------------------------------------------|\n",
      "| Non-releasable memory |       0 B  |    4412 MB |   10184 GB |   10184 GB |\n",
      "|       from large pool |       0 B  |    4403 MB |   10128 GB |   10128 GB |\n",
      "|       from small pool |       0 B  |      11 MB |      56 GB |      56 GB |\n",
      "|---------------------------------------------------------------------------|\n",
      "| Allocations           |       0    |    5612    |  546754    |  546754    |\n",
      "|       from large pool |       0    |    2117    |  285836    |  285836    |\n",
      "|       from small pool |       0    |    3558    |  260918    |  260918    |\n",
      "|---------------------------------------------------------------------------|\n",
      "| Active allocs         |       0    |    5612    |  546754    |  546754    |\n",
      "|       from large pool |       0    |    2117    |  285836    |  285836    |\n",
      "|       from small pool |       0    |    3558    |  260918    |  260918    |\n",
      "|---------------------------------------------------------------------------|\n",
      "| GPU reserved segments |       0    |     149    |     149    |     149    |\n",
      "|       from large pool |       0    |     138    |     138    |     138    |\n",
      "|       from small pool |       0    |      11    |      11    |      11    |\n",
      "|---------------------------------------------------------------------------|\n",
      "| Non-releasable allocs |       0    |     231    |  156193    |  156193    |\n",
      "|       from large pool |       0    |     133    |   68014    |   68014    |\n",
      "|       from small pool |       0    |     117    |   88179    |   88179    |\n",
      "|---------------------------------------------------------------------------|\n",
      "| Oversize allocations  |       0    |       0    |       0    |       0    |\n",
      "|---------------------------------------------------------------------------|\n",
      "| Oversize GPU segments |       0    |       0    |       0    |       0    |\n",
      "|===========================================================================|\n",
      "\n"
     ]
    }
   ],
   "source": [
    "import torch\n",
    "# import gc\n",
    "# torch.cuda.empty_cache()\n",
    "# gc.collect()\n",
    "print(torch.cuda.memory_summary())"
   ]
  }
 ],
 "metadata": {
  "kernelspec": {
   "display_name": "Python 3 (ipykernel)",
   "language": "python",
   "name": "python3"
  },
  "language_info": {
   "codemirror_mode": {
    "name": "ipython",
    "version": 3
   },
   "file_extension": ".py",
   "mimetype": "text/x-python",
   "name": "python",
   "nbconvert_exporter": "python",
   "pygments_lexer": "ipython3",
   "version": "3.10.5"
  }
 },
 "nbformat": 4,
 "nbformat_minor": 5
}
