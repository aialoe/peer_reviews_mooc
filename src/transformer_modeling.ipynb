{
 "cells": [
  {
   "cell_type": "markdown",
   "id": "76a1356c-7b31-4975-a2fd-ee40149f7e8f",
   "metadata": {},
   "source": [
    "# Grade Regression Using Transformer Model"
   ]
  },
  {
   "cell_type": "markdown",
   "id": "9592f484-d48c-4a18-8053-3acc9dacdea0",
   "metadata": {},
   "source": [
    "## Creating the Datasets"
   ]
  },
  {
   "cell_type": "markdown",
   "id": "f39f1cad-fbb4-44a8-83c8-cb8f6d48ee7f",
   "metadata": {},
   "source": [
    "### Loading and cleaning the data"
   ]
  },
  {
   "cell_type": "code",
   "execution_count": 1,
   "id": "3bf9d8cc-829d-4909-82a4-a990ea484f46",
   "metadata": {},
   "outputs": [],
   "source": [
    "import pandas as pd\n",
    "import os\n",
    "import numpy as np\n",
    "import matplotlib.pyplot as plt\n",
    "\n",
    "seed=42\n",
    "\n",
    "os.chdir('/home/jovyan/shared/2020_06_10_bad_reviewer')"
   ]
  },
  {
   "cell_type": "code",
   "execution_count": 2,
   "id": "865d6b6e-8b7c-43b9-8ad4-6c4854a51299",
   "metadata": {},
   "outputs": [
    {
     "data": {
      "text/plain": [
       "peer_review_id                                             1084657\n",
       "uva_peer_assignments_user_id_reviewer                      1084657\n",
       "peer_review_created_ts                                     1084657\n",
       "peer_submission_id                                         1084657\n",
       "peer_assignment_review_schema_part_prompt_score             929706\n",
       "peer_assignment_review_schema_part_option_score             929706\n",
       "peer_assignment_review_schema_part_prompt_free_response    1084640\n",
       "peer_review_part_free_response_text                        1059044\n",
       "uva_peer_assignments_user_id_author                         864073\n",
       "dtype: int64"
      ]
     },
     "execution_count": 2,
     "metadata": {},
     "output_type": "execute_result"
    }
   ],
   "source": [
    "reviewer_df = pd.read_csv('results/reviewer_agg_stats.csv', index_col=[0])\n",
    "cleared_submissions = pd.read_csv('bin/cleared_submissions.csv')\n",
    "submissions_df = pd.read_csv('bin/submissions_df.csv', index_col=[0])\n",
    "reviews_df = pd.read_csv('bin/reviews_df.csv', index_col = [0])\n",
    "\n",
    "# Rename the columns to disambiguate whether the id represents a reviewer or an author\n",
    "submissions_df = submissions_df.rename(columns={'uva_peer_assignments_user_id':'uva_peer_assignments_user_id_author'})\n",
    "reviewer_df = reviewer_df.rename(columns={'uva_peer_assignments_user_id':'uva_peer_assignments_user_id_reviewer'})\n",
    "reviews_df = reviews_df.rename(columns={'uva_peer_assignments_user_id':'uva_peer_assignments_user_id_reviewer'})\n",
    "cleared_submissions = cleared_submissions.rename(columns={'uva_peer_assignments_user_id':'uva_peer_assignments_user_id_author'})\n",
    "\n",
    "# Get the author id into reviews_df\n",
    "reviews_df = pd.merge(reviews_df, cleared_submissions[['peer_submission_id', 'uva_peer_assignments_user_id_author']], on='peer_submission_id', how=\"left\")\n",
    "# Note that authors could only be found for 864,073 out of the 1,059,044 reviews.\n",
    "reviews_df.count()"
   ]
  },
  {
   "cell_type": "code",
   "execution_count": 3,
   "id": "5fe2811d-4720-4063-8216-98a0f0ea6d35",
   "metadata": {},
   "outputs": [
    {
     "name": "stdout",
     "output_type": "stream",
     "text": [
      "27909\n"
     ]
    },
    {
     "data": {
      "text/html": [
       "<div>\n",
       "<style scoped>\n",
       "    .dataframe tbody tr th:only-of-type {\n",
       "        vertical-align: middle;\n",
       "    }\n",
       "\n",
       "    .dataframe tbody tr th {\n",
       "        vertical-align: top;\n",
       "    }\n",
       "\n",
       "    .dataframe thead th {\n",
       "        text-align: right;\n",
       "    }\n",
       "</style>\n",
       "<table border=\"1\" class=\"dataframe\">\n",
       "  <thead>\n",
       "    <tr style=\"text-align: right;\">\n",
       "      <th></th>\n",
       "      <th>uva_peer_assignments_user_id_author</th>\n",
       "      <th>text</th>\n",
       "    </tr>\n",
       "  </thead>\n",
       "  <tbody>\n",
       "    <tr>\n",
       "      <th>0</th>\n",
       "      <td>0000e5af02da0c7575b3ebd346b55b29f959e90f</td>\n",
       "      <td>Reflection – visualization\\n\\nChallenge      &amp;...</td>\n",
       "    </tr>\n",
       "    <tr>\n",
       "      <th>1</th>\n",
       "      <td>0002c0f31f5c8456bd360dfcd089a64f444e2de0</td>\n",
       "      <td>Assignment :\\n\\n1. Challenge: Describe your ch...</td>\n",
       "    </tr>\n",
       "    <tr>\n",
       "      <th>2</th>\n",
       "      <td>00030b378ea62d60a177113b7854eb26cc29e1a9</td>\n",
       "      <td>VISUALIZATION\\n\\nChallenge    I am part of the...</td>\n",
       "    </tr>\n",
       "    <tr>\n",
       "      <th>3</th>\n",
       "      <td>000458f7d47a0b6414f9146258829170ae3ed6a9</td>\n",
       "      <td>The main item is usually the focal point of th...</td>\n",
       "    </tr>\n",
       "    <tr>\n",
       "      <th>4</th>\n",
       "      <td>00069909160c6bcd9836cdb23e35b1fdaf56d0c3</td>\n",
       "      <td>Storytelling is when narratives people tell ab...</td>\n",
       "    </tr>\n",
       "    <tr>\n",
       "      <th>...</th>\n",
       "      <td>...</td>\n",
       "      <td>...</td>\n",
       "    </tr>\n",
       "    <tr>\n",
       "      <th>28342</th>\n",
       "      <td>fff43ee22d85efffada33d73f953c0d814d90290</td>\n",
       "      <td>Peter Vogt - Design Thinking Reflection - Lear...</td>\n",
       "    </tr>\n",
       "    <tr>\n",
       "      <th>28343</th>\n",
       "      <td>fff56a1858c62540bd76bad23db07a2fbfa963fe</td>\n",
       "      <td>STORYTELLING AS A TOOL FOR STRATEGIC CHANGES\\n...</td>\n",
       "    </tr>\n",
       "    <tr>\n",
       "      <th>28344</th>\n",
       "      <td>fff7364558963fb9fa218f2fa08d5d2767992207</td>\n",
       "      <td>Junio 2019 Storytelling Jose Vergara\\n\\nChalle...</td>\n",
       "    </tr>\n",
       "    <tr>\n",
       "      <th>28345</th>\n",
       "      <td>fffa6add42713b8b1e2a5158616f780997bbda49</td>\n",
       "      <td>Reflexion - Mind Mapping\\n\\nChallenge &amp; Select...</td>\n",
       "    </tr>\n",
       "    <tr>\n",
       "      <th>28346</th>\n",
       "      <td>fffbf02f0028d138811ed7f33682dea65294ddab</td>\n",
       "      <td>AMAZING STEPS TO LAUNCH YOUR ORIFLAME BUSINESS...</td>\n",
       "    </tr>\n",
       "  </tbody>\n",
       "</table>\n",
       "<p>22903 rows × 2 columns</p>\n",
       "</div>"
      ],
      "text/plain": [
       "            uva_peer_assignments_user_id_author  \\\n",
       "0      0000e5af02da0c7575b3ebd346b55b29f959e90f   \n",
       "1      0002c0f31f5c8456bd360dfcd089a64f444e2de0   \n",
       "2      00030b378ea62d60a177113b7854eb26cc29e1a9   \n",
       "3      000458f7d47a0b6414f9146258829170ae3ed6a9   \n",
       "4      00069909160c6bcd9836cdb23e35b1fdaf56d0c3   \n",
       "...                                         ...   \n",
       "28342  fff43ee22d85efffada33d73f953c0d814d90290   \n",
       "28343  fff56a1858c62540bd76bad23db07a2fbfa963fe   \n",
       "28344  fff7364558963fb9fa218f2fa08d5d2767992207   \n",
       "28345  fffa6add42713b8b1e2a5158616f780997bbda49   \n",
       "28346  fffbf02f0028d138811ed7f33682dea65294ddab   \n",
       "\n",
       "                                                    text  \n",
       "0      Reflection – visualization\\n\\nChallenge      &...  \n",
       "1      Assignment :\\n\\n1. Challenge: Describe your ch...  \n",
       "2      VISUALIZATION\\n\\nChallenge    I am part of the...  \n",
       "3      The main item is usually the focal point of th...  \n",
       "4      Storytelling is when narratives people tell ab...  \n",
       "...                                                  ...  \n",
       "28342  Peter Vogt - Design Thinking Reflection - Lear...  \n",
       "28343  STORYTELLING AS A TOOL FOR STRATEGIC CHANGES\\n...  \n",
       "28344  Junio 2019 Storytelling Jose Vergara\\n\\nChalle...  \n",
       "28345  Reflexion - Mind Mapping\\n\\nChallenge & Select...  \n",
       "28346  AMAZING STEPS TO LAUNCH YOUR ORIFLAME BUSINESS...  \n",
       "\n",
       "[22903 rows x 2 columns]"
      ]
     },
     "execution_count": 3,
     "metadata": {},
     "output_type": "execute_result"
    }
   ],
   "source": [
    "# Find duplicate essays\n",
    "print(len(submissions_df))\n",
    "submissions_df['is_duplicate'] = submissions_df.duplicated(subset=['text'], keep=False)\n",
    "texts = submissions_df[submissions_df['is_duplicate']==False][['uva_peer_assignments_user_id_author', 'text']]\n",
    "\n",
    "texts"
   ]
  },
  {
   "cell_type": "code",
   "execution_count": 4,
   "id": "b06de849-92c0-41e7-bc38-590453139ae8",
   "metadata": {},
   "outputs": [],
   "source": [
    "# Get rid of duplicate reviews\n",
    "reviews_df.drop(list(range(755643, 755650)), axis=0, inplace=True)\n",
    "reviews_df.drop(list(range(1025262, 1025269)), axis=0, inplace=True)"
   ]
  },
  {
   "cell_type": "code",
   "execution_count": 5,
   "id": "2e02ae31-0500-400e-a82f-e0193396ce9a",
   "metadata": {},
   "outputs": [
    {
     "data": {
      "text/html": [
       "<div>\n",
       "<style scoped>\n",
       "    .dataframe tbody tr th:only-of-type {\n",
       "        vertical-align: middle;\n",
       "    }\n",
       "\n",
       "    .dataframe tbody tr th {\n",
       "        vertical-align: top;\n",
       "    }\n",
       "\n",
       "    .dataframe thead th {\n",
       "        text-align: right;\n",
       "    }\n",
       "</style>\n",
       "<table border=\"1\" class=\"dataframe\">\n",
       "  <thead>\n",
       "    <tr style=\"text-align: right;\">\n",
       "      <th></th>\n",
       "      <th>uva_peer_assignments_user_id_author</th>\n",
       "      <th>text</th>\n",
       "      <th>num_words</th>\n",
       "    </tr>\n",
       "  </thead>\n",
       "  <tbody>\n",
       "    <tr>\n",
       "      <th>0</th>\n",
       "      <td>0000e5af02da0c7575b3ebd346b55b29f959e90f</td>\n",
       "      <td>Reflection – visualization\\n\\nChallenge      &amp;...</td>\n",
       "      <td>583</td>\n",
       "    </tr>\n",
       "    <tr>\n",
       "      <th>1</th>\n",
       "      <td>0002c0f31f5c8456bd360dfcd089a64f444e2de0</td>\n",
       "      <td>Assignment :\\n\\n1. Challenge: Describe your ch...</td>\n",
       "      <td>1003</td>\n",
       "    </tr>\n",
       "    <tr>\n",
       "      <th>2</th>\n",
       "      <td>00030b378ea62d60a177113b7854eb26cc29e1a9</td>\n",
       "      <td>VISUALIZATION\\n\\nChallenge    I am part of the...</td>\n",
       "      <td>627</td>\n",
       "    </tr>\n",
       "    <tr>\n",
       "      <th>3</th>\n",
       "      <td>000458f7d47a0b6414f9146258829170ae3ed6a9</td>\n",
       "      <td>The main item is usually the focal point of th...</td>\n",
       "      <td>215</td>\n",
       "    </tr>\n",
       "    <tr>\n",
       "      <th>4</th>\n",
       "      <td>00069909160c6bcd9836cdb23e35b1fdaf56d0c3</td>\n",
       "      <td>Storytelling is when narratives people tell ab...</td>\n",
       "      <td>1070</td>\n",
       "    </tr>\n",
       "    <tr>\n",
       "      <th>...</th>\n",
       "      <td>...</td>\n",
       "      <td>...</td>\n",
       "      <td>...</td>\n",
       "    </tr>\n",
       "    <tr>\n",
       "      <th>28342</th>\n",
       "      <td>fff43ee22d85efffada33d73f953c0d814d90290</td>\n",
       "      <td>Peter Vogt - Design Thinking Reflection - Lear...</td>\n",
       "      <td>496</td>\n",
       "    </tr>\n",
       "    <tr>\n",
       "      <th>28343</th>\n",
       "      <td>fff56a1858c62540bd76bad23db07a2fbfa963fe</td>\n",
       "      <td>STORYTELLING AS A TOOL FOR STRATEGIC CHANGES\\n...</td>\n",
       "      <td>779</td>\n",
       "    </tr>\n",
       "    <tr>\n",
       "      <th>28344</th>\n",
       "      <td>fff7364558963fb9fa218f2fa08d5d2767992207</td>\n",
       "      <td>Junio 2019 Storytelling Jose Vergara\\n\\nChalle...</td>\n",
       "      <td>802</td>\n",
       "    </tr>\n",
       "    <tr>\n",
       "      <th>28345</th>\n",
       "      <td>fffa6add42713b8b1e2a5158616f780997bbda49</td>\n",
       "      <td>Reflexion - Mind Mapping\\n\\nChallenge &amp; Select...</td>\n",
       "      <td>807</td>\n",
       "    </tr>\n",
       "    <tr>\n",
       "      <th>28346</th>\n",
       "      <td>fffbf02f0028d138811ed7f33682dea65294ddab</td>\n",
       "      <td>AMAZING STEPS TO LAUNCH YOUR ORIFLAME BUSINESS...</td>\n",
       "      <td>528</td>\n",
       "    </tr>\n",
       "  </tbody>\n",
       "</table>\n",
       "<p>22903 rows × 3 columns</p>\n",
       "</div>"
      ],
      "text/plain": [
       "            uva_peer_assignments_user_id_author  \\\n",
       "0      0000e5af02da0c7575b3ebd346b55b29f959e90f   \n",
       "1      0002c0f31f5c8456bd360dfcd089a64f444e2de0   \n",
       "2      00030b378ea62d60a177113b7854eb26cc29e1a9   \n",
       "3      000458f7d47a0b6414f9146258829170ae3ed6a9   \n",
       "4      00069909160c6bcd9836cdb23e35b1fdaf56d0c3   \n",
       "...                                         ...   \n",
       "28342  fff43ee22d85efffada33d73f953c0d814d90290   \n",
       "28343  fff56a1858c62540bd76bad23db07a2fbfa963fe   \n",
       "28344  fff7364558963fb9fa218f2fa08d5d2767992207   \n",
       "28345  fffa6add42713b8b1e2a5158616f780997bbda49   \n",
       "28346  fffbf02f0028d138811ed7f33682dea65294ddab   \n",
       "\n",
       "                                                    text  num_words  \n",
       "0      Reflection – visualization\\n\\nChallenge      &...        583  \n",
       "1      Assignment :\\n\\n1. Challenge: Describe your ch...       1003  \n",
       "2      VISUALIZATION\\n\\nChallenge    I am part of the...        627  \n",
       "3      The main item is usually the focal point of th...        215  \n",
       "4      Storytelling is when narratives people tell ab...       1070  \n",
       "...                                                  ...        ...  \n",
       "28342  Peter Vogt - Design Thinking Reflection - Lear...        496  \n",
       "28343  STORYTELLING AS A TOOL FOR STRATEGIC CHANGES\\n...        779  \n",
       "28344  Junio 2019 Storytelling Jose Vergara\\n\\nChalle...        802  \n",
       "28345  Reflexion - Mind Mapping\\n\\nChallenge & Select...        807  \n",
       "28346  AMAZING STEPS TO LAUNCH YOUR ORIFLAME BUSINESS...        528  \n",
       "\n",
       "[22903 rows x 3 columns]"
      ]
     },
     "execution_count": 5,
     "metadata": {},
     "output_type": "execute_result"
    }
   ],
   "source": [
    "# Get number of words for the labelled texts\n",
    "texts['num_words'] = texts.apply(lambda row: len(row['text'].split()), axis=1)\n",
    "\n",
    "# Get reviewer variance\n",
    "reviewer_df['total_variance'] = reviewer_df['total_sd']**2\n",
    "texts"
   ]
  },
  {
   "cell_type": "code",
   "execution_count": null,
   "id": "11c6e82c-7cfe-4841-910b-3a145f43364e",
   "metadata": {},
   "outputs": [],
   "source": []
  },
  {
   "cell_type": "code",
   "execution_count": 81,
   "id": "724eca7d-cd1d-4323-8048-be694ce028c6",
   "metadata": {},
   "outputs": [
    {
     "data": {
      "text/html": [
       "<div>\n",
       "<style scoped>\n",
       "    .dataframe tbody tr th:only-of-type {\n",
       "        vertical-align: middle;\n",
       "    }\n",
       "\n",
       "    .dataframe tbody tr th {\n",
       "        vertical-align: top;\n",
       "    }\n",
       "\n",
       "    .dataframe thead th {\n",
       "        text-align: right;\n",
       "    }\n",
       "</style>\n",
       "<table border=\"1\" class=\"dataframe\">\n",
       "  <thead>\n",
       "    <tr style=\"text-align: right;\">\n",
       "      <th></th>\n",
       "      <th>uva_peer_assignments_user_id_reviewer</th>\n",
       "      <th>num_reviews</th>\n",
       "      <th>criteria_mean</th>\n",
       "      <th>criteria_sd</th>\n",
       "      <th>total_mean</th>\n",
       "      <th>total_sd</th>\n",
       "      <th>total_tokens</th>\n",
       "      <th>total_types</th>\n",
       "      <th>total_ttr</th>\n",
       "      <th>response_tokens</th>\n",
       "      <th>response_types</th>\n",
       "      <th>response_ttr</th>\n",
       "      <th>num_responses</th>\n",
       "      <th>solo_reviews</th>\n",
       "      <th>response_ratio</th>\n",
       "      <th>total_variance</th>\n",
       "    </tr>\n",
       "  </thead>\n",
       "  <tbody>\n",
       "    <tr>\n",
       "      <th>0</th>\n",
       "      <td>0000e5af02da0c7575b3ebd346b55b29f959e90f</td>\n",
       "      <td>3.0</td>\n",
       "      <td>2.111111</td>\n",
       "      <td>0.669706</td>\n",
       "      <td>12.666667</td>\n",
       "      <td>2.624669</td>\n",
       "      <td>367</td>\n",
       "      <td>180</td>\n",
       "      <td>0.490463</td>\n",
       "      <td>17.476190</td>\n",
       "      <td>15.142857</td>\n",
       "      <td>0.914908</td>\n",
       "      <td>21</td>\n",
       "      <td>0</td>\n",
       "      <td>1.0</td>\n",
       "      <td>6.888889</td>\n",
       "    </tr>\n",
       "    <tr>\n",
       "      <th>1</th>\n",
       "      <td>0002c0f31f5c8456bd360dfcd089a64f444e2de0</td>\n",
       "      <td>3.0</td>\n",
       "      <td>2.000000</td>\n",
       "      <td>0.471405</td>\n",
       "      <td>12.000000</td>\n",
       "      <td>2.828427</td>\n",
       "      <td>323</td>\n",
       "      <td>150</td>\n",
       "      <td>0.464396</td>\n",
       "      <td>15.380952</td>\n",
       "      <td>14.238095</td>\n",
       "      <td>0.934807</td>\n",
       "      <td>21</td>\n",
       "      <td>0</td>\n",
       "      <td>1.0</td>\n",
       "      <td>8.000000</td>\n",
       "    </tr>\n",
       "    <tr>\n",
       "      <th>2</th>\n",
       "      <td>00030b378ea62d60a177113b7854eb26cc29e1a9</td>\n",
       "      <td>3.0</td>\n",
       "      <td>2.111111</td>\n",
       "      <td>0.581785</td>\n",
       "      <td>12.666667</td>\n",
       "      <td>3.299832</td>\n",
       "      <td>73</td>\n",
       "      <td>28</td>\n",
       "      <td>0.383562</td>\n",
       "      <td>3.476190</td>\n",
       "      <td>3.476190</td>\n",
       "      <td>1.000000</td>\n",
       "      <td>21</td>\n",
       "      <td>0</td>\n",
       "      <td>1.0</td>\n",
       "      <td>10.888889</td>\n",
       "    </tr>\n",
       "    <tr>\n",
       "      <th>3</th>\n",
       "      <td>000458f7d47a0b6414f9146258829170ae3ed6a9</td>\n",
       "      <td>3.0</td>\n",
       "      <td>3.000000</td>\n",
       "      <td>0.000000</td>\n",
       "      <td>18.000000</td>\n",
       "      <td>0.000000</td>\n",
       "      <td>42</td>\n",
       "      <td>2</td>\n",
       "      <td>0.047619</td>\n",
       "      <td>2.000000</td>\n",
       "      <td>2.000000</td>\n",
       "      <td>1.000000</td>\n",
       "      <td>21</td>\n",
       "      <td>0</td>\n",
       "      <td>1.0</td>\n",
       "      <td>0.000000</td>\n",
       "    </tr>\n",
       "    <tr>\n",
       "      <th>4</th>\n",
       "      <td>00069909160c6bcd9836cdb23e35b1fdaf56d0c3</td>\n",
       "      <td>3.0</td>\n",
       "      <td>2.166667</td>\n",
       "      <td>0.372678</td>\n",
       "      <td>13.000000</td>\n",
       "      <td>0.000000</td>\n",
       "      <td>35</td>\n",
       "      <td>11</td>\n",
       "      <td>0.314286</td>\n",
       "      <td>1.666667</td>\n",
       "      <td>1.666667</td>\n",
       "      <td>1.000000</td>\n",
       "      <td>21</td>\n",
       "      <td>0</td>\n",
       "      <td>1.0</td>\n",
       "      <td>0.000000</td>\n",
       "    </tr>\n",
       "    <tr>\n",
       "      <th>...</th>\n",
       "      <td>...</td>\n",
       "      <td>...</td>\n",
       "      <td>...</td>\n",
       "      <td>...</td>\n",
       "      <td>...</td>\n",
       "      <td>...</td>\n",
       "      <td>...</td>\n",
       "      <td>...</td>\n",
       "      <td>...</td>\n",
       "      <td>...</td>\n",
       "      <td>...</td>\n",
       "      <td>...</td>\n",
       "      <td>...</td>\n",
       "      <td>...</td>\n",
       "      <td>...</td>\n",
       "      <td>...</td>\n",
       "    </tr>\n",
       "    <tr>\n",
       "      <th>41238</th>\n",
       "      <td>fff56a1858c62540bd76bad23db07a2fbfa963fe</td>\n",
       "      <td>3.0</td>\n",
       "      <td>1.888889</td>\n",
       "      <td>0.290893</td>\n",
       "      <td>11.333333</td>\n",
       "      <td>4.784233</td>\n",
       "      <td>261</td>\n",
       "      <td>127</td>\n",
       "      <td>0.486590</td>\n",
       "      <td>12.428571</td>\n",
       "      <td>11.285714</td>\n",
       "      <td>0.949896</td>\n",
       "      <td>21</td>\n",
       "      <td>0</td>\n",
       "      <td>1.0</td>\n",
       "      <td>22.888889</td>\n",
       "    </tr>\n",
       "    <tr>\n",
       "      <th>41239</th>\n",
       "      <td>fff7364558963fb9fa218f2fa08d5d2767992207</td>\n",
       "      <td>3.0</td>\n",
       "      <td>2.722222</td>\n",
       "      <td>0.323802</td>\n",
       "      <td>16.333333</td>\n",
       "      <td>1.247219</td>\n",
       "      <td>151</td>\n",
       "      <td>82</td>\n",
       "      <td>0.543046</td>\n",
       "      <td>7.190476</td>\n",
       "      <td>7.000000</td>\n",
       "      <td>0.986317</td>\n",
       "      <td>21</td>\n",
       "      <td>0</td>\n",
       "      <td>1.0</td>\n",
       "      <td>1.555556</td>\n",
       "    </tr>\n",
       "    <tr>\n",
       "      <th>41240</th>\n",
       "      <td>fff883a717a37b5699e5105a96d61dc10812cabe</td>\n",
       "      <td>4.0</td>\n",
       "      <td>3.000000</td>\n",
       "      <td>0.000000</td>\n",
       "      <td>18.000000</td>\n",
       "      <td>0.000000</td>\n",
       "      <td>28</td>\n",
       "      <td>1</td>\n",
       "      <td>0.035714</td>\n",
       "      <td>1.000000</td>\n",
       "      <td>1.000000</td>\n",
       "      <td>1.000000</td>\n",
       "      <td>28</td>\n",
       "      <td>1</td>\n",
       "      <td>1.0</td>\n",
       "      <td>0.000000</td>\n",
       "    </tr>\n",
       "    <tr>\n",
       "      <th>41241</th>\n",
       "      <td>fffa6add42713b8b1e2a5158616f780997bbda49</td>\n",
       "      <td>3.0</td>\n",
       "      <td>2.444444</td>\n",
       "      <td>0.490468</td>\n",
       "      <td>14.666667</td>\n",
       "      <td>0.471405</td>\n",
       "      <td>145</td>\n",
       "      <td>89</td>\n",
       "      <td>0.613793</td>\n",
       "      <td>6.904762</td>\n",
       "      <td>6.761905</td>\n",
       "      <td>0.993266</td>\n",
       "      <td>21</td>\n",
       "      <td>0</td>\n",
       "      <td>1.0</td>\n",
       "      <td>0.222222</td>\n",
       "    </tr>\n",
       "    <tr>\n",
       "      <th>41242</th>\n",
       "      <td>fffa6e23203663d0be8e6885eb970308528379bb</td>\n",
       "      <td>3.0</td>\n",
       "      <td>1.222222</td>\n",
       "      <td>0.314270</td>\n",
       "      <td>7.333333</td>\n",
       "      <td>0.942809</td>\n",
       "      <td>371</td>\n",
       "      <td>112</td>\n",
       "      <td>0.301887</td>\n",
       "      <td>17.666667</td>\n",
       "      <td>15.619048</td>\n",
       "      <td>0.913608</td>\n",
       "      <td>21</td>\n",
       "      <td>0</td>\n",
       "      <td>1.0</td>\n",
       "      <td>0.888889</td>\n",
       "    </tr>\n",
       "  </tbody>\n",
       "</table>\n",
       "<p>41243 rows × 16 columns</p>\n",
       "</div>"
      ],
      "text/plain": [
       "          uva_peer_assignments_user_id_reviewer  num_reviews  criteria_mean  \\\n",
       "0      0000e5af02da0c7575b3ebd346b55b29f959e90f          3.0       2.111111   \n",
       "1      0002c0f31f5c8456bd360dfcd089a64f444e2de0          3.0       2.000000   \n",
       "2      00030b378ea62d60a177113b7854eb26cc29e1a9          3.0       2.111111   \n",
       "3      000458f7d47a0b6414f9146258829170ae3ed6a9          3.0       3.000000   \n",
       "4      00069909160c6bcd9836cdb23e35b1fdaf56d0c3          3.0       2.166667   \n",
       "...                                         ...          ...            ...   \n",
       "41238  fff56a1858c62540bd76bad23db07a2fbfa963fe          3.0       1.888889   \n",
       "41239  fff7364558963fb9fa218f2fa08d5d2767992207          3.0       2.722222   \n",
       "41240  fff883a717a37b5699e5105a96d61dc10812cabe          4.0       3.000000   \n",
       "41241  fffa6add42713b8b1e2a5158616f780997bbda49          3.0       2.444444   \n",
       "41242  fffa6e23203663d0be8e6885eb970308528379bb          3.0       1.222222   \n",
       "\n",
       "       criteria_sd  total_mean  total_sd  total_tokens  total_types  \\\n",
       "0         0.669706   12.666667  2.624669           367          180   \n",
       "1         0.471405   12.000000  2.828427           323          150   \n",
       "2         0.581785   12.666667  3.299832            73           28   \n",
       "3         0.000000   18.000000  0.000000            42            2   \n",
       "4         0.372678   13.000000  0.000000            35           11   \n",
       "...            ...         ...       ...           ...          ...   \n",
       "41238     0.290893   11.333333  4.784233           261          127   \n",
       "41239     0.323802   16.333333  1.247219           151           82   \n",
       "41240     0.000000   18.000000  0.000000            28            1   \n",
       "41241     0.490468   14.666667  0.471405           145           89   \n",
       "41242     0.314270    7.333333  0.942809           371          112   \n",
       "\n",
       "       total_ttr  response_tokens  response_types  response_ttr  \\\n",
       "0       0.490463        17.476190       15.142857      0.914908   \n",
       "1       0.464396        15.380952       14.238095      0.934807   \n",
       "2       0.383562         3.476190        3.476190      1.000000   \n",
       "3       0.047619         2.000000        2.000000      1.000000   \n",
       "4       0.314286         1.666667        1.666667      1.000000   \n",
       "...          ...              ...             ...           ...   \n",
       "41238   0.486590        12.428571       11.285714      0.949896   \n",
       "41239   0.543046         7.190476        7.000000      0.986317   \n",
       "41240   0.035714         1.000000        1.000000      1.000000   \n",
       "41241   0.613793         6.904762        6.761905      0.993266   \n",
       "41242   0.301887        17.666667       15.619048      0.913608   \n",
       "\n",
       "       num_responses  solo_reviews  response_ratio  total_variance  \n",
       "0                 21             0             1.0        6.888889  \n",
       "1                 21             0             1.0        8.000000  \n",
       "2                 21             0             1.0       10.888889  \n",
       "3                 21             0             1.0        0.000000  \n",
       "4                 21             0             1.0        0.000000  \n",
       "...              ...           ...             ...             ...  \n",
       "41238             21             0             1.0       22.888889  \n",
       "41239             21             0             1.0        1.555556  \n",
       "41240             28             1             1.0        0.000000  \n",
       "41241             21             0             1.0        0.222222  \n",
       "41242             21             0             1.0        0.888889  \n",
       "\n",
       "[41243 rows x 16 columns]"
      ]
     },
     "execution_count": 81,
     "metadata": {},
     "output_type": "execute_result"
    }
   ],
   "source": [
    "reviewer_df#['uva_peer_assignments_user_id_reviewer'].nunique()"
   ]
  },
  {
   "cell_type": "code",
   "execution_count": 62,
   "id": "c06ad261-59db-4c84-b407-17e71e924e29",
   "metadata": {},
   "outputs": [
    {
     "data": {
      "text/plain": [
       "Text(0, 0.5, 'Average Reviewer Score')"
      ]
     },
     "execution_count": 62,
     "metadata": {},
     "output_type": "execute_result"
    },
    {
     "data": {
      "image/png": "[encoded data removed]",
      "text/plain": [
       "<Figure size 360x720 with 1 Axes>"
      ]
     },
     "metadata": {},
     "output_type": "display_data"
    }
   ],
   "source": [
    "import seaborn as sns\n",
    "\n",
    "sns.set_theme()\n",
    "plt.figure(figsize=(5,10))\n",
    "sns.boxplot(data=reviewer_df, y='total_mean')\n",
    "plt.title('Average Score for Each Reviewer')\n",
    "plt.ylabel('Average Reviewer Score')"
   ]
  },
  {
   "cell_type": "markdown",
   "id": "521e4397-2cb6-4324-958a-33c7941ccffa",
   "metadata": {},
   "source": [
    "### Create Ten Dataframes"
   ]
  },
  {
   "cell_type": "markdown",
   "id": "1cdfcf60-f607-4566-b3fe-c39dd2e68081",
   "metadata": {},
   "source": [
    "#### Define function"
   ]
  },
  {
   "cell_type": "code",
   "execution_count": 6,
   "id": "e0c63ab1-8555-42af-b1b4-c607918bb2ce",
   "metadata": {},
   "outputs": [],
   "source": [
    "### Include All Reviewers\n",
    "def generateDF(good_reviewers):\n",
    "    labelled_data = texts.merge(reviews_df, on='uva_peer_assignments_user_id_author', how='left')\n",
    "    print(len(texts), len(set(labelled_data['uva_peer_assignments_user_id_author'])))\n",
    "\n",
    "    # essay_scores contains, author id, reviewer id, submission id, and the sum score for each review\n",
    "    essay_scores = labelled_data.groupby(['uva_peer_assignments_user_id_reviewer', 'peer_submission_id', 'uva_peer_assignments_user_id_author']).agg({'peer_assignment_review_schema_part_option_score':'sum'}).reset_index()\n",
    "    # Merge essay scores with good reviewers and keep only reviews by good reviewers\n",
    "    essay_scores_good_reviewers = good_reviewers.merge(essay_scores, on='uva_peer_assignments_user_id_reviewer', how='right')\n",
    "    essay_scores_good_only = essay_scores_good_reviewers[essay_scores_good_reviewers['good_reviewer'] == True]\n",
    "    # Create a dataframe of submission ids of submissions reviewed by at least two good reviewers\n",
    "    good_reviewers_df = essay_scores_good_only.groupby('peer_submission_id').agg({'good_reviewer':'sum'}).reset_index()\n",
    "    good_reviewers_df = good_reviewers_df[good_reviewers_df['good_reviewer'] >= 2].rename(columns={'good_reviewer':'num_reviews'})\n",
    "    # Merge essay scores with good reviewers in order to remove submissions with less than two good reviewers\n",
    "    essay_scores_good_labelled = essay_scores_good_only.merge(good_reviewers_df, on='peer_submission_id', how='right')\n",
    "    # Collect average scores for each submission\n",
    "    essay_scores_final = essay_scores_good_labelled.groupby(['peer_submission_id', 'uva_peer_assignments_user_id_author']).agg({'peer_assignment_review_schema_part_option_score':'mean'}).reset_index()\n",
    "    return essay_scores_final.merge(texts, on='uva_peer_assignments_user_id_author')[['text','peer_assignment_review_schema_part_option_score']].rename(columns = {'peer_assignment_review_schema_part_option_score':'labels'})"
   ]
  },
  {
   "cell_type": "markdown",
   "id": "95df5dde-464c-4724-b255-b87873ab733b",
   "metadata": {},
   "source": [
    "#### Baseline - All Reviewers"
   ]
  },
  {
   "cell_type": "code",
   "execution_count": 7,
   "id": "3688a808-7811-4321-acf9-9ee087f07c6f",
   "metadata": {},
   "outputs": [
    {
     "name": "stdout",
     "output_type": "stream",
     "text": [
      "22903 22903\n"
     ]
    }
   ],
   "source": [
    "good_reviewers = reviewer_df[reviewer_df['total_variance']>=0][['uva_peer_assignments_user_id_reviewer']]\n",
    "good_reviewers['good_reviewer'] = True\n",
    "\n",
    "baseline = generateDF(good_reviewers)\n"
   ]
  },
  {
   "cell_type": "code",
   "execution_count": 79,
   "id": "f60f8c01-bf45-4db5-916f-6d0bc43faf2a",
   "metadata": {},
   "outputs": [
    {
     "name": "stdout",
     "output_type": "stream",
     "text": [
      "           num_words    labels\n",
      "num_words   1.000000  0.164521\n",
      "labels      0.164521  1.000000\n"
     ]
    },
    {
     "data": {
      "text/plain": [
       "Text(0.5, 1.0, 'Correlation between Essay Score and Number of Words')"
      ]
     },
     "execution_count": 79,
     "metadata": {},
     "output_type": "execute_result"
    },
    {
     "data": {
      "image/png": "[encoded data removed]",
      "text/plain": [
       "<Figure size 432x288 with 1 Axes>"
      ]
     },
     "metadata": {},
     "output_type": "display_data"
    }
   ],
   "source": [
    "baseline['num_words'] = baseline.apply(lambda row: len(row['text'].split()), axis=1)\n",
    "print(baseline[['num_words', 'labels']].corr())\n",
    "\n",
    "sns.regplot(data=baseline, x='num_words', y='labels', line_kws={\"color\": \"red\"})\n",
    "plt.ylabel('essay_score')\n",
    "plt.title('Correlation between Essay Score and Number of Words')\n",
    "#baseline[['num_words', 'labels']].plot.scatter('num_words', 'labels')"
   ]
  },
  {
   "cell_type": "markdown",
   "id": "4adc78f5-6813-475b-b200-2011181a8559",
   "metadata": {},
   "source": [
    "#### variance1 - Above Zero"
   ]
  },
  {
   "cell_type": "code",
   "execution_count": 9,
   "id": "3103e715-597a-4370-ba6a-d05303fb46e0",
   "metadata": {},
   "outputs": [
    {
     "name": "stdout",
     "output_type": "stream",
     "text": [
      "22903 22903\n"
     ]
    },
    {
     "data": {
      "text/plain": [
       "19336"
      ]
     },
     "execution_count": 9,
     "metadata": {},
     "output_type": "execute_result"
    }
   ],
   "source": [
    "good_reviewers = reviewer_df[reviewer_df['total_variance']>0][['uva_peer_assignments_user_id_reviewer']]\n",
    "good_reviewers['good_reviewer'] = True\n",
    "\n",
    "variance1 = generateDF(good_reviewers)\n",
    "len(variance1)"
   ]
  },
  {
   "cell_type": "code",
   "execution_count": 10,
   "id": "90413883-7f3a-47c5-b83e-7c25ec625212",
   "metadata": {},
   "outputs": [],
   "source": [
    "# variance1['num_words'] = variance1.apply(lambda row: len(row['text'].split()), axis=1)\n",
    "# variance1[['num_words', 'labels']].corr().iloc[(0,1)]"
   ]
  },
  {
   "cell_type": "markdown",
   "id": "a7e02ca1-f967-46db-98c5-5ed39fa27767",
   "metadata": {},
   "source": [
    "#### variance2 - Above 1"
   ]
  },
  {
   "cell_type": "code",
   "execution_count": 11,
   "id": "0a01ae66-dd8f-469d-a6ac-68aab8c395df",
   "metadata": {},
   "outputs": [
    {
     "name": "stdout",
     "output_type": "stream",
     "text": [
      "22903 22903\n"
     ]
    },
    {
     "data": {
      "text/plain": [
       "12574"
      ]
     },
     "execution_count": 11,
     "metadata": {},
     "output_type": "execute_result"
    }
   ],
   "source": [
    "good_reviewers = reviewer_df[reviewer_df['total_variance']>1][['uva_peer_assignments_user_id_reviewer']]\n",
    "good_reviewers['good_reviewer'] = True\n",
    "\n",
    "variance2 = generateDF(good_reviewers)\n",
    "len(variance2)"
   ]
  },
  {
   "cell_type": "code",
   "execution_count": 12,
   "id": "f80705ae-18dc-4c60-88b8-256d0ce9adac",
   "metadata": {},
   "outputs": [],
   "source": [
    "# variance2['num_words'] = variance2.apply(lambda row: len(row['text'].split()), axis=1)\n",
    "# variance2[['num_words', 'labels']].corr().iloc[(0,1)]"
   ]
  },
  {
   "cell_type": "markdown",
   "id": "374384e7-4b0b-452b-a3da-c5c7eb5f34b7",
   "metadata": {},
   "source": [
    "#### variance3 - Above 2.75"
   ]
  },
  {
   "cell_type": "code",
   "execution_count": 13,
   "id": "e529ffe1-3fbb-4e4b-af69-bfca92b4014a",
   "metadata": {},
   "outputs": [
    {
     "name": "stdout",
     "output_type": "stream",
     "text": [
      "22903 22903\n"
     ]
    },
    {
     "data": {
      "text/plain": [
       "8066"
      ]
     },
     "execution_count": 13,
     "metadata": {},
     "output_type": "execute_result"
    }
   ],
   "source": [
    "good_reviewers = reviewer_df[reviewer_df['total_variance']>2.75][['uva_peer_assignments_user_id_reviewer']]\n",
    "good_reviewers['good_reviewer'] = True\n",
    "\n",
    "variance3 = generateDF(good_reviewers)\n",
    "len(variance3)"
   ]
  },
  {
   "cell_type": "code",
   "execution_count": 14,
   "id": "427e90ab-9b36-4148-ae64-497eb0844024",
   "metadata": {},
   "outputs": [],
   "source": [
    "# variance3['num_words'] = variance3.apply(lambda row: len(row['text'].split()), axis=1)\n",
    "# variance3[['num_words', 'labels']].corr().iloc[(0,1)]"
   ]
  },
  {
   "cell_type": "markdown",
   "id": "cfe5deac-2726-49e1-9c23-faf74a585722",
   "metadata": {},
   "source": [
    "#### ttr1 - Above 0.05"
   ]
  },
  {
   "cell_type": "code",
   "execution_count": 15,
   "id": "812a29a3-2a93-4544-a76d-d15d61ac9745",
   "metadata": {},
   "outputs": [
    {
     "name": "stdout",
     "output_type": "stream",
     "text": [
      "22903 22903\n"
     ]
    },
    {
     "data": {
      "text/plain": [
       "21157"
      ]
     },
     "execution_count": 15,
     "metadata": {},
     "output_type": "execute_result"
    }
   ],
   "source": [
    "good_reviewers = reviewer_df[reviewer_df['total_ttr']>0.05][['uva_peer_assignments_user_id_reviewer']]\n",
    "good_reviewers['good_reviewer'] = True\n",
    "\n",
    "ttr1 = generateDF(good_reviewers)\n",
    "len(ttr1)"
   ]
  },
  {
   "cell_type": "code",
   "execution_count": 16,
   "id": "19eefca7-527c-41c5-8412-61b55dce536e",
   "metadata": {},
   "outputs": [],
   "source": [
    "# ttr1['num_words'] = ttr1.apply(lambda row: len(row['text'].split()), axis=1)\n",
    "# ttr1[['num_words', 'labels']].corr().iloc[(0,1)]"
   ]
  },
  {
   "cell_type": "markdown",
   "id": "efeec5cb-3969-4a49-adb1-73ba2ddfebf6",
   "metadata": {},
   "source": [
    "#### ttr2 - Above 0.2"
   ]
  },
  {
   "cell_type": "code",
   "execution_count": 17,
   "id": "93910b4b-6a5e-4184-b439-0d91b5a7c907",
   "metadata": {},
   "outputs": [
    {
     "name": "stdout",
     "output_type": "stream",
     "text": [
      "22903 22903\n"
     ]
    },
    {
     "data": {
      "text/plain": [
       "16875"
      ]
     },
     "execution_count": 17,
     "metadata": {},
     "output_type": "execute_result"
    }
   ],
   "source": [
    "good_reviewers = reviewer_df[reviewer_df['total_ttr']>0.2][['uva_peer_assignments_user_id_reviewer']]\n",
    "good_reviewers['good_reviewer'] = True\n",
    "\n",
    "ttr2 = generateDF(good_reviewers)\n",
    "len(ttr2)"
   ]
  },
  {
   "cell_type": "code",
   "execution_count": 18,
   "id": "e2bf1f51-a68a-49c6-8d2e-edbadac842f9",
   "metadata": {},
   "outputs": [],
   "source": [
    "# ttr2['num_words'] = ttr2.apply(lambda row: len(row['text'].split()), axis=1)\n",
    "# ttr2[['num_words', 'labels']].corr().iloc[(0,1)]"
   ]
  },
  {
   "cell_type": "markdown",
   "id": "469dd363-9562-4792-9d99-9072b938846a",
   "metadata": {},
   "source": [
    "#### ttr3 - Above 0.4"
   ]
  },
  {
   "cell_type": "code",
   "execution_count": 19,
   "id": "d9b9c18b-3bbc-4b16-ab5a-8a8db4a87100",
   "metadata": {},
   "outputs": [
    {
     "name": "stdout",
     "output_type": "stream",
     "text": [
      "22903 22903\n"
     ]
    },
    {
     "data": {
      "text/plain": [
       "11234"
      ]
     },
     "execution_count": 19,
     "metadata": {},
     "output_type": "execute_result"
    }
   ],
   "source": [
    "good_reviewers = reviewer_df[reviewer_df['total_ttr']>0.4][['uva_peer_assignments_user_id_reviewer']]\n",
    "good_reviewers['good_reviewer'] = True\n",
    "\n",
    "ttr3 = generateDF(good_reviewers)\n",
    "len(ttr3)"
   ]
  },
  {
   "cell_type": "code",
   "execution_count": 20,
   "id": "459c7703-8e1c-45ef-9758-94db31c86bb4",
   "metadata": {},
   "outputs": [],
   "source": [
    "# ttr3['num_words'] = ttr3.apply(lambda row: len(row['text'].split()), axis=1)\n",
    "# ttr3[['num_words', 'labels']].corr().iloc[(0,1)]"
   ]
  },
  {
   "cell_type": "markdown",
   "id": "17d91292-1d55-4c30-8c8a-687818c63ae0",
   "metadata": {},
   "source": [
    "#### ttr_v0 - TTR above 0.05 or variance above 0\n",
    "(pay no attention to the broken numbering scheme)"
   ]
  },
  {
   "cell_type": "code",
   "execution_count": 21,
   "id": "9016cd92-274c-4f9f-90c7-041dc4c42944",
   "metadata": {},
   "outputs": [
    {
     "name": "stdout",
     "output_type": "stream",
     "text": [
      "22903 22903\n"
     ]
    },
    {
     "data": {
      "text/plain": [
       "22244"
      ]
     },
     "execution_count": 21,
     "metadata": {},
     "output_type": "execute_result"
    }
   ],
   "source": [
    "good_reviewers = reviewer_df[(reviewer_df['total_ttr']>=0.05)|(reviewer_df['total_variance'] >0)][['uva_peer_assignments_user_id_reviewer']]\n",
    "good_reviewers['good_reviewer'] = True\n",
    "\n",
    "ttr_v0 = generateDF(good_reviewers)\n",
    "len(ttr_v0)"
   ]
  },
  {
   "cell_type": "code",
   "execution_count": 22,
   "id": "7f12c875-acba-4b76-bf59-ee3bdc7066a2",
   "metadata": {},
   "outputs": [],
   "source": [
    "# ttr_v0['num_words'] = ttr_v0.apply(lambda row: len(row['text'].split()), axis=1)\n",
    "# ttr_v0[['num_words', 'labels']].corr().iloc[(0,1)]"
   ]
  },
  {
   "cell_type": "markdown",
   "id": "238586de-38f9-4763-a5dd-c9029707d9ef",
   "metadata": {},
   "source": [
    "#### ttr_v1 - TTR above 0.4 or variance above 0"
   ]
  },
  {
   "cell_type": "code",
   "execution_count": 23,
   "id": "97aeaaf9-9229-4e97-93cf-12a6effdfc76",
   "metadata": {},
   "outputs": [
    {
     "name": "stdout",
     "output_type": "stream",
     "text": [
      "22903 22903\n"
     ]
    },
    {
     "data": {
      "text/plain": [
       "20209"
      ]
     },
     "execution_count": 23,
     "metadata": {},
     "output_type": "execute_result"
    }
   ],
   "source": [
    "good_reviewers = reviewer_df[(reviewer_df['total_ttr']>=0.4)|(reviewer_df['total_variance'] >0)][['uva_peer_assignments_user_id_reviewer']]\n",
    "good_reviewers['good_reviewer'] = True\n",
    "\n",
    "ttr_v1 = generateDF(good_reviewers)\n",
    "len(ttr_v1)"
   ]
  },
  {
   "cell_type": "code",
   "execution_count": 24,
   "id": "3cc0c061-f1b2-45fe-ae1e-32ca9f72888c",
   "metadata": {},
   "outputs": [],
   "source": [
    "# ttr_v1['num_words'] = ttr_v1.apply(lambda row: len(row['text'].split()), axis=1)\n",
    "# ttr_v1[['num_words', 'labels']].corr().iloc[(0,1)]"
   ]
  },
  {
   "cell_type": "markdown",
   "id": "0eac85b5-9e48-43c4-bf63-8e6338238a6c",
   "metadata": {},
   "source": [
    "#### ttr_v2 - TTR above 0.4 or variance above 2.5"
   ]
  },
  {
   "cell_type": "code",
   "execution_count": 25,
   "id": "9cc40db3-6dbf-4fea-9f0b-84ce7bb0bf87",
   "metadata": {},
   "outputs": [
    {
     "name": "stdout",
     "output_type": "stream",
     "text": [
      "22903 22903\n"
     ]
    },
    {
     "data": {
      "text/plain": [
       "16116"
      ]
     },
     "execution_count": 25,
     "metadata": {},
     "output_type": "execute_result"
    }
   ],
   "source": [
    "good_reviewers = reviewer_df[(reviewer_df['total_ttr']>=0.4)|(reviewer_df['total_variance'] >2.5)][['uva_peer_assignments_user_id_reviewer']]\n",
    "good_reviewers['good_reviewer'] = True\n",
    "\n",
    "ttr_v2 = generateDF(good_reviewers)\n",
    "len(ttr_v2)"
   ]
  },
  {
   "cell_type": "code",
   "execution_count": 26,
   "id": "6d1ff04b-f21c-4291-b2d4-09880bb21288",
   "metadata": {},
   "outputs": [],
   "source": [
    "# ttr_v2['num_words'] = ttr_v2.apply(lambda row: len(row['text'].split()), axis=1)\n",
    "# ttr_v2[['num_words', 'labels']].corr().iloc[(0,1)]"
   ]
  },
  {
   "cell_type": "markdown",
   "id": "0c3971ff-e183-4074-bc17-dbf50df84d67",
   "metadata": {},
   "source": [
    "#### Check the shapes to make sure they look good"
   ]
  },
  {
   "cell_type": "code",
   "execution_count": 27,
   "id": "b7d134a5-500d-41b2-8843-8a6951615b3b",
   "metadata": {},
   "outputs": [
    {
     "name": "stdout",
     "output_type": "stream",
     "text": [
      "(22871, 2)\n",
      "(19336, 2)\n",
      "(12574, 2)\n",
      "(8066, 2)\n",
      "(21157, 2)\n",
      "(16875, 2)\n",
      "(11234, 2)\n",
      "(22244, 2)\n",
      "(20209, 2)\n",
      "(16116, 2)\n"
     ]
    }
   ],
   "source": [
    "print(baseline.shape)\n",
    "print(variance1.shape)\n",
    "print(variance2.shape)\n",
    "print(variance3.shape)\n",
    "print(ttr1.shape)\n",
    "print(ttr2.shape)\n",
    "print(ttr3.shape)\n",
    "print(ttr_v0.shape)\n",
    "print(ttr_v1.shape)\n",
    "print(ttr_v2.shape)"
   ]
  },
  {
   "cell_type": "markdown",
   "id": "09b1e0bf-5637-411b-9032-7466abb50786",
   "metadata": {},
   "source": [
    "## Build the HuggingFace Models\n",
    "### Load the packages"
   ]
  },
  {
   "cell_type": "code",
   "execution_count": 28,
   "id": "9e615069-dc52-411b-9a0f-059d1d3bd491",
   "metadata": {},
   "outputs": [],
   "source": [
    "%%capture\n",
    "\n",
    "!pip install datasets\n",
    "import numpy as np\n",
    "import pandas as pd\n",
    "\n",
    "from datasets import load_dataset, load_metric, Dataset, Value, ClassLabel, Features, DatasetDict\n",
    "from transformers import pipeline\n",
    "from transformers import DataCollatorWithPadding\n",
    "from transformers import AutoTokenizer, AutoModelForSequenceClassification, TrainingArguments, Trainer\n",
    "from transformers import EarlyStoppingCallback\n",
    "\n",
    "from huggingface_hub import notebook_login"
   ]
  },
  {
   "cell_type": "markdown",
   "id": "f8ffa8b9-3802-4254-9be0-ac5b9f1f4c8b",
   "metadata": {},
   "source": [
    "### Build the Datasets"
   ]
  },
  {
   "cell_type": "markdown",
   "id": "1892344a-5074-46af-9f72-c583cf068c1e",
   "metadata": {},
   "source": [
    "#### Let's do it with a function"
   ]
  },
  {
   "cell_type": "code",
   "execution_count": 29,
   "id": "0bbe228a-c449-477d-884a-e684c339c3b7",
   "metadata": {},
   "outputs": [],
   "source": [
    "def buildDataset(df):\n",
    "    full_dataset = Dataset.from_pandas(df)\n",
    "    # 70% train, 30% test + validation\n",
    "    train_testvalid = full_dataset.train_test_split(test_size=0.3, seed=seed)\n",
    "    # Split the 30% test + valid in half test, half valid\n",
    "    test_valid = train_testvalid['test'].train_test_split(test_size=0.5)\n",
    "    # gather everyone if you want to have a single DatasetDict\n",
    "    final_dataset = DatasetDict({\n",
    "        'train': train_testvalid['train'],\n",
    "        'test': test_valid['test'],\n",
    "        'valid': test_valid['train']})\n",
    "    return final_dataset"
   ]
  },
  {
   "cell_type": "markdown",
   "id": "7257b3fb-16be-4bc7-9b81-37382cecc7c0",
   "metadata": {},
   "source": [
    "#### Rock and roll"
   ]
  },
  {
   "cell_type": "code",
   "execution_count": 30,
   "id": "3c455dea-f8de-4db1-9df2-a4d57af6619b",
   "metadata": {},
   "outputs": [],
   "source": [
    "baseline_ds = buildDataset(baseline)\n",
    "var1_ds = buildDataset(variance1)\n",
    "var2_ds = buildDataset(variance2)\n",
    "var3_ds = buildDataset(variance3)\n",
    "ttr1_ds = buildDataset(ttr1)\n",
    "ttr2_ds = buildDataset(ttr2)\n",
    "ttr3_ds = buildDataset(ttr3)\n",
    "ttv0_ds = buildDataset(ttr_v0)\n",
    "ttv1_ds = buildDataset(ttr_v1)\n",
    "ttv2_ds = buildDataset(ttr_v2)"
   ]
  },
  {
   "cell_type": "markdown",
   "id": "a7f185ec-50d3-4d94-9015-87be74a67306",
   "metadata": {},
   "source": [
    "#### Check it out"
   ]
  },
  {
   "cell_type": "code",
   "execution_count": 31,
   "id": "f841a0a8-724f-4aca-81d9-c6bf93d7d47c",
   "metadata": {},
   "outputs": [
    {
     "name": "stdout",
     "output_type": "stream",
     "text": [
      "DatasetDict({\n",
      "    train: Dataset({\n",
      "        features: ['text', 'labels', '__index_level_0__'],\n",
      "        num_rows: 16009\n",
      "    })\n",
      "    test: Dataset({\n",
      "        features: ['text', 'labels', '__index_level_0__'],\n",
      "        num_rows: 3431\n",
      "    })\n",
      "    valid: Dataset({\n",
      "        features: ['text', 'labels', '__index_level_0__'],\n",
      "        num_rows: 3431\n",
      "    })\n",
      "})\n"
     ]
    }
   ],
   "source": [
    "# Check them one by one\n",
    "print(baseline_ds)"
   ]
  },
  {
   "cell_type": "markdown",
   "id": "0353b73b-2806-4b03-b439-750bbd421dab",
   "metadata": {},
   "source": [
    "## Build the Models"
   ]
  },
  {
   "cell_type": "markdown",
   "id": "d78d3c0f-bc0f-4d22-948b-f95ecea248fa",
   "metadata": {},
   "source": [
    "### Instantiate the tokenizer and model"
   ]
  },
  {
   "cell_type": "code",
   "execution_count": 32,
   "id": "40e93146-fc34-4bf1-bf22-7658dd607c2e",
   "metadata": {},
   "outputs": [],
   "source": [
    "tokenizer = AutoTokenizer.from_pretrained(\"distilbert-base-cased\")"
   ]
  },
  {
   "cell_type": "code",
   "execution_count": 33,
   "id": "bb5e6155-00cd-48a8-94bc-0c2dd929014b",
   "metadata": {},
   "outputs": [],
   "source": [
    "def model_init():\n",
    "  return AutoModelForSequenceClassification.from_pretrained(\"distilbert-base-cased\",\n",
    "                                                            num_labels=1).to(\"cuda\")"
   ]
  },
  {
   "cell_type": "markdown",
   "id": "b15ab9b5-b81c-41c0-8091-18ceff5bcefd",
   "metadata": {
    "tags": []
   },
   "source": [
    "### Tokenize the text"
   ]
  },
  {
   "cell_type": "code",
   "execution_count": 34,
   "id": "36393148-ba25-46d8-b9e6-cf907669c3af",
   "metadata": {},
   "outputs": [],
   "source": [
    "def tokenize_inputs(example):\n",
    "    return tokenizer(example['text'], truncation = True)"
   ]
  },
  {
   "cell_type": "code",
   "execution_count": 35,
   "id": "f7f7bafc-c07f-4cdc-9647-972576340082",
   "metadata": {},
   "outputs": [],
   "source": [
    "%%capture\n",
    "\n",
    "#do the tokenizing using map function\n",
    "baseline_ds_t = baseline_ds.map(tokenize_inputs, batched=True, remove_columns=['text', '__index_level_0__'])\n",
    "var1_ds_t = var1_ds.map(tokenize_inputs, batched=True, remove_columns=['text', '__index_level_0__'])\n",
    "var2_ds_t = var2_ds.map(tokenize_inputs, batched=True, remove_columns=['text', '__index_level_0__'])\n",
    "var3_ds_t = var3_ds.map(tokenize_inputs, batched=True, remove_columns=['text', '__index_level_0__'])\n",
    "ttr1_ds_t = ttr1_ds.map(tokenize_inputs, batched=True, remove_columns=['text', '__index_level_0__'])\n",
    "ttr2_ds_t = ttr2_ds.map(tokenize_inputs, batched=True, remove_columns=['text', '__index_level_0__'])\n",
    "ttr3_ds_t = ttr3_ds.map(tokenize_inputs, batched=True, remove_columns=['text', '__index_level_0__'])\n",
    "ttv0_ds_t = ttv0_ds.map(tokenize_inputs, batched=True, remove_columns=['text', '__index_level_0__'])\n",
    "ttv1_ds_t = ttv1_ds.map(tokenize_inputs, batched=True, remove_columns=['text', '__index_level_0__'])\n",
    "ttv2_ds_t = ttv2_ds.map(tokenize_inputs, batched=True, remove_columns=['text', '__index_level_0__'])"
   ]
  },
  {
   "cell_type": "markdown",
   "id": "a8cc4f8a-a1b9-4ac4-92f3-ab51d2f04004",
   "metadata": {},
   "source": [
    "#### Check it out"
   ]
  },
  {
   "cell_type": "code",
   "execution_count": 36,
   "id": "b6914e8f-b672-4feb-a460-f1494c83442e",
   "metadata": {},
   "outputs": [
    {
     "data": {
      "text/plain": [
       "DatasetDict({\n",
       "    train: Dataset({\n",
       "        features: ['labels', 'input_ids', 'attention_mask'],\n",
       "        num_rows: 11281\n",
       "    })\n",
       "    test: Dataset({\n",
       "        features: ['labels', 'input_ids', 'attention_mask'],\n",
       "        num_rows: 2418\n",
       "    })\n",
       "    valid: Dataset({\n",
       "        features: ['labels', 'input_ids', 'attention_mask'],\n",
       "        num_rows: 2417\n",
       "    })\n",
       "})"
      ]
     },
     "execution_count": 36,
     "metadata": {},
     "output_type": "execute_result"
    }
   ],
   "source": [
    "ttv2_ds_t"
   ]
  },
  {
   "cell_type": "markdown",
   "id": "4f1ede5d-04f9-453f-b865-bf215a885478",
   "metadata": {},
   "source": [
    "### Instantiate Data Collator"
   ]
  },
  {
   "cell_type": "code",
   "execution_count": 37,
   "id": "e4694723-fa35-4887-87eb-497b3b40b2d3",
   "metadata": {},
   "outputs": [],
   "source": [
    "data_collator = DataCollatorWithPadding(tokenizer=tokenizer)"
   ]
  },
  {
   "cell_type": "markdown",
   "id": "d36ec47c-fd8c-4f9e-ac49-fbf7a21ab0c5",
   "metadata": {},
   "source": [
    "### Function to Compute Metrics"
   ]
  },
  {
   "cell_type": "code",
   "execution_count": 38,
   "id": "d98c480a-bfb0-410a-8365-6a43a59d6b5b",
   "metadata": {},
   "outputs": [],
   "source": [
    "from sklearn.metrics import mean_squared_error, r2_score, mean_squared_error, mean_absolute_error\n",
    "\n",
    "def compute_metrics_for_regression(eval_pred):\n",
    "    logits, labels = eval_pred\n",
    "    #labels = labels.reshape(-1, 1)\n",
    "\n",
    "    mse = mean_squared_error(labels, logits)\n",
    "    rmse = mean_squared_error(labels, logits, squared=False)\n",
    "    mae = mean_absolute_error(labels, logits)\n",
    "    r2 = r2_score(labels, logits)\n",
    "    smape = 1/len(labels) * np.sum(2 * np.abs(logits-labels) / (np.abs(labels) + np.abs(logits))*100)\n",
    "\n",
    "    return {\"mse\": mse, \"rmse\": rmse, \"mae\": mae, \"r2\": r2, \"smape\": smape}"
   ]
  },
  {
   "cell_type": "markdown",
   "id": "6ff5750c-4eca-4ba1-b091-2f0835d43fd0",
   "metadata": {},
   "source": [
    "## Now for the Main Event..."
   ]
  },
  {
   "cell_type": "markdown",
   "id": "54eddbe1-df63-48cd-8a4a-b19ef18fa298",
   "metadata": {},
   "source": [
    "### Train the Models"
   ]
  },
  {
   "cell_type": "code",
   "execution_count": 39,
   "id": "bb8986a7-dbcf-4874-83be-9f3dda4526b5",
   "metadata": {},
   "outputs": [
    {
     "name": "stderr",
     "output_type": "stream",
     "text": [
      "/opt/conda/lib/python3.10/site-packages/transformers/optimization.py:306: FutureWarning: This implementation of AdamW is deprecated and will be removed in a future version. Use the PyTorch implementation torch.optim.AdamW instead, or set `no_deprecation_warning=True` to disable this warning\n",
      "  warnings.warn(\n"
     ]
    },
    {
     "data": {
      "text/html": [
       "\n",
       "    <div>\n",
       "      \n",
       "      <progress value='1255' max='4016' style='width:300px; height:20px; vertical-align: middle;'></progress>\n",
       "      [1255/4016 17:05 < 37:38, 1.22 it/s, Epoch 5/16]\n",
       "    </div>\n",
       "    <table border=\"1\" class=\"dataframe\">\n",
       "  <thead>\n",
       " <tr style=\"text-align: left;\">\n",
       "      <th>Epoch</th>\n",
       "      <th>Training Loss</th>\n",
       "      <th>Validation Loss</th>\n",
       "      <th>Mse</th>\n",
       "      <th>Rmse</th>\n",
       "      <th>Mae</th>\n",
       "      <th>R2</th>\n",
       "      <th>Smape</th>\n",
       "    </tr>\n",
       "  </thead>\n",
       "  <tbody>\n",
       "    <tr>\n",
       "      <td>1</td>\n",
       "      <td>No log</td>\n",
       "      <td>2.596475</td>\n",
       "      <td>2.596475</td>\n",
       "      <td>1.611358</td>\n",
       "      <td>1.296656</td>\n",
       "      <td>0.010474</td>\n",
       "      <td>28754.231419</td>\n",
       "    </tr>\n",
       "    <tr>\n",
       "      <td>2</td>\n",
       "      <td>23.812400</td>\n",
       "      <td>2.573072</td>\n",
       "      <td>2.573072</td>\n",
       "      <td>1.604080</td>\n",
       "      <td>1.277858</td>\n",
       "      <td>0.019393</td>\n",
       "      <td>28819.765666</td>\n",
       "    </tr>\n",
       "    <tr>\n",
       "      <td>3</td>\n",
       "      <td>23.812400</td>\n",
       "      <td>2.801305</td>\n",
       "      <td>2.801305</td>\n",
       "      <td>1.673710</td>\n",
       "      <td>1.292676</td>\n",
       "      <td>-0.067588</td>\n",
       "      <td>29024.415039</td>\n",
       "    </tr>\n",
       "    <tr>\n",
       "      <td>4</td>\n",
       "      <td>2.771200</td>\n",
       "      <td>2.626308</td>\n",
       "      <td>2.626308</td>\n",
       "      <td>1.620589</td>\n",
       "      <td>1.310401</td>\n",
       "      <td>-0.000896</td>\n",
       "      <td>30139.413582</td>\n",
       "    </tr>\n",
       "    <tr>\n",
       "      <td>5</td>\n",
       "      <td>2.771200</td>\n",
       "      <td>2.675890</td>\n",
       "      <td>2.675890</td>\n",
       "      <td>1.635815</td>\n",
       "      <td>1.299092</td>\n",
       "      <td>-0.019791</td>\n",
       "      <td>30219.045176</td>\n",
       "    </tr>\n",
       "  </tbody>\n",
       "</table><p>"
      ],
      "text/plain": [
       "<IPython.core.display.HTML object>"
      ]
     },
     "metadata": {},
     "output_type": "display_data"
    },
    {
     "data": {
      "text/plain": [
       "TrainOutput(global_step=1255, training_loss=11.104735063651644, metrics={'train_runtime': 1026.5096, 'train_samples_per_second': 249.529, 'train_steps_per_second': 3.912, 'total_flos': 1.060316382967296e+16, 'train_loss': 11.104735063651644, 'epoch': 5.0})"
      ]
     },
     "execution_count": 39,
     "metadata": {},
     "output_type": "execute_result"
    }
   ],
   "source": [
    "trainer = Trainer(\n",
    "    model_init=model_init,\n",
    ")\n",
    "\n",
    "training_args = TrainingArguments(\n",
    "    output_dir ='./results/baseline_checkpoints',          \n",
    "    num_train_epochs = 16,     \n",
    "    per_device_train_batch_size = 64,   \n",
    "    per_device_eval_batch_size = 20,   \n",
    "    weight_decay = 0.01,               \n",
    "    learning_rate = 2e-5,\n",
    "    logging_dir = './logs/baseline',            \n",
    "    save_total_limit = 10,\n",
    "    load_best_model_at_end = True,     \n",
    "    metric_for_best_model = 'rmse',    \n",
    "    evaluation_strategy = \"epoch\",\n",
    "    save_strategy = \"epoch\",\n",
    "    greater_is_better = False,\n",
    "    seed=seed\n",
    ") \n",
    "\n",
    "# Call the Trainer\n",
    "baseline_trainer = Trainer(\n",
    "    model_init = model_init,                         \n",
    "    args = training_args,\n",
    "    data_collator=data_collator,\n",
    "    train_dataset = baseline_ds_t['train'],         \n",
    "    eval_dataset = baseline_ds_t['valid'],          \n",
    "    compute_metrics = compute_metrics_for_regression,\n",
    "    callbacks = [EarlyStoppingCallback(early_stopping_patience=3)]\n",
    ")\n",
    "\n",
    "# Train the model\n",
    "baseline_trainer.train()"
   ]
  },
  {
   "cell_type": "code",
   "execution_count": 40,
   "id": "aeec579f-09b5-4cce-8dd2-d5e3b2aa2e0d",
   "metadata": {},
   "outputs": [
    {
     "name": "stderr",
     "output_type": "stream",
     "text": [
      "/opt/conda/lib/python3.10/site-packages/transformers/optimization.py:306: FutureWarning: This implementation of AdamW is deprecated and will be removed in a future version. Use the PyTorch implementation torch.optim.AdamW instead, or set `no_deprecation_warning=True` to disable this warning\n",
      "  warnings.warn(\n"
     ]
    },
    {
     "data": {
      "text/html": [
       "\n",
       "    <div>\n",
       "      \n",
       "      <progress value='1272' max='3392' style='width:300px; height:20px; vertical-align: middle;'></progress>\n",
       "      [1272/3392 17:24 < 29:03, 1.22 it/s, Epoch 6/16]\n",
       "    </div>\n",
       "    <table border=\"1\" class=\"dataframe\">\n",
       "  <thead>\n",
       " <tr style=\"text-align: left;\">\n",
       "      <th>Epoch</th>\n",
       "      <th>Training Loss</th>\n",
       "      <th>Validation Loss</th>\n",
       "      <th>Mse</th>\n",
       "      <th>Rmse</th>\n",
       "      <th>Mae</th>\n",
       "      <th>R2</th>\n",
       "      <th>Smape</th>\n",
       "    </tr>\n",
       "  </thead>\n",
       "  <tbody>\n",
       "    <tr>\n",
       "      <td>1</td>\n",
       "      <td>No log</td>\n",
       "      <td>3.075973</td>\n",
       "      <td>3.075973</td>\n",
       "      <td>1.753845</td>\n",
       "      <td>1.384564</td>\n",
       "      <td>0.059350</td>\n",
       "      <td>28388.960000</td>\n",
       "    </tr>\n",
       "    <tr>\n",
       "      <td>2</td>\n",
       "      <td>No log</td>\n",
       "      <td>3.009088</td>\n",
       "      <td>3.009089</td>\n",
       "      <td>1.734672</td>\n",
       "      <td>1.359841</td>\n",
       "      <td>0.079804</td>\n",
       "      <td>28881.975172</td>\n",
       "    </tr>\n",
       "    <tr>\n",
       "      <td>3</td>\n",
       "      <td>22.023400</td>\n",
       "      <td>2.960974</td>\n",
       "      <td>2.960974</td>\n",
       "      <td>1.720748</td>\n",
       "      <td>1.351057</td>\n",
       "      <td>0.094518</td>\n",
       "      <td>29128.551724</td>\n",
       "    </tr>\n",
       "    <tr>\n",
       "      <td>4</td>\n",
       "      <td>22.023400</td>\n",
       "      <td>3.078734</td>\n",
       "      <td>3.078734</td>\n",
       "      <td>1.754632</td>\n",
       "      <td>1.363505</td>\n",
       "      <td>0.058506</td>\n",
       "      <td>29220.402759</td>\n",
       "    </tr>\n",
       "    <tr>\n",
       "      <td>5</td>\n",
       "      <td>3.043100</td>\n",
       "      <td>3.103946</td>\n",
       "      <td>3.103946</td>\n",
       "      <td>1.761802</td>\n",
       "      <td>1.384781</td>\n",
       "      <td>0.050796</td>\n",
       "      <td>30942.518621</td>\n",
       "    </tr>\n",
       "    <tr>\n",
       "      <td>6</td>\n",
       "      <td>3.043100</td>\n",
       "      <td>3.334890</td>\n",
       "      <td>3.334890</td>\n",
       "      <td>1.826168</td>\n",
       "      <td>1.438789</td>\n",
       "      <td>-0.019828</td>\n",
       "      <td>32157.282759</td>\n",
       "    </tr>\n",
       "  </tbody>\n",
       "</table><p>"
      ],
      "text/plain": [
       "<IPython.core.display.HTML object>"
      ]
     },
     "metadata": {},
     "output_type": "display_data"
    },
    {
     "data": {
      "text/plain": [
       "TrainOutput(global_step=1272, training_loss=10.409610292446688, metrics={'train_runtime': 1044.9252, 'train_samples_per_second': 207.249, 'train_steps_per_second': 3.246, 'total_flos': 1.075748559694848e+16, 'train_loss': 10.409610292446688, 'epoch': 6.0})"
      ]
     },
     "execution_count": 40,
     "metadata": {},
     "output_type": "execute_result"
    }
   ],
   "source": [
    "# Variance 1\n",
    "\n",
    "trainer = Trainer(\n",
    "    model_init=model_init,\n",
    ")\n",
    "\n",
    "training_args = TrainingArguments(\n",
    "    output_dir ='./results/var1_checkpoints',          \n",
    "    num_train_epochs = 16,     \n",
    "    per_device_train_batch_size = 64,   \n",
    "    per_device_eval_batch_size = 20,   \n",
    "    weight_decay = 0.01,               \n",
    "    learning_rate = 2e-5,\n",
    "    logging_dir = './logs/var1',            \n",
    "    save_total_limit = 10,\n",
    "    load_best_model_at_end = True,     \n",
    "    metric_for_best_model = 'rmse',    \n",
    "    evaluation_strategy = \"epoch\",\n",
    "    save_strategy = \"epoch\",\n",
    "    greater_is_better = False,\n",
    "    seed=seed\n",
    ") \n",
    "\n",
    "# Call the Trainer\n",
    "var1_trainer = Trainer(\n",
    "    model_init = model_init,                         \n",
    "    args = training_args,\n",
    "    data_collator=data_collator,\n",
    "    train_dataset = var1_ds_t['train'],         \n",
    "    eval_dataset = var1_ds_t['valid'],          \n",
    "    compute_metrics = compute_metrics_for_regression,\n",
    "    callbacks = [EarlyStoppingCallback(early_stopping_patience=3)]\n",
    ")\n",
    "\n",
    "# Train the model\n",
    "var1_trainer.train()"
   ]
  },
  {
   "cell_type": "code",
   "execution_count": 41,
   "id": "697e2562-5d4a-4bc9-9b1c-5967ee0d9e48",
   "metadata": {},
   "outputs": [
    {
     "name": "stderr",
     "output_type": "stream",
     "text": [
      "/opt/conda/lib/python3.10/site-packages/transformers/optimization.py:306: FutureWarning: This implementation of AdamW is deprecated and will be removed in a future version. Use the PyTorch implementation torch.optim.AdamW instead, or set `no_deprecation_warning=True` to disable this warning\n",
      "  warnings.warn(\n"
     ]
    },
    {
     "data": {
      "text/html": [
       "\n",
       "    <div>\n",
       "      \n",
       "      <progress value='966' max='2208' style='width:300px; height:20px; vertical-align: middle;'></progress>\n",
       "      [ 966/2208 13:14 < 17:03, 1.21 it/s, Epoch 7/16]\n",
       "    </div>\n",
       "    <table border=\"1\" class=\"dataframe\">\n",
       "  <thead>\n",
       " <tr style=\"text-align: left;\">\n",
       "      <th>Epoch</th>\n",
       "      <th>Training Loss</th>\n",
       "      <th>Validation Loss</th>\n",
       "      <th>Mse</th>\n",
       "      <th>Rmse</th>\n",
       "      <th>Mae</th>\n",
       "      <th>R2</th>\n",
       "      <th>Smape</th>\n",
       "    </tr>\n",
       "  </thead>\n",
       "  <tbody>\n",
       "    <tr>\n",
       "      <td>1</td>\n",
       "      <td>No log</td>\n",
       "      <td>6.332610</td>\n",
       "      <td>6.332610</td>\n",
       "      <td>2.516468</td>\n",
       "      <td>2.127351</td>\n",
       "      <td>-0.485983</td>\n",
       "      <td>27727.410392</td>\n",
       "    </tr>\n",
       "    <tr>\n",
       "      <td>2</td>\n",
       "      <td>No log</td>\n",
       "      <td>3.881926</td>\n",
       "      <td>3.881926</td>\n",
       "      <td>1.970260</td>\n",
       "      <td>1.575226</td>\n",
       "      <td>0.089084</td>\n",
       "      <td>23360.360551</td>\n",
       "    </tr>\n",
       "    <tr>\n",
       "      <td>3</td>\n",
       "      <td>No log</td>\n",
       "      <td>3.792858</td>\n",
       "      <td>3.792858</td>\n",
       "      <td>1.947526</td>\n",
       "      <td>1.569380</td>\n",
       "      <td>0.109985</td>\n",
       "      <td>23284.572641</td>\n",
       "    </tr>\n",
       "    <tr>\n",
       "      <td>4</td>\n",
       "      <td>21.526200</td>\n",
       "      <td>3.733534</td>\n",
       "      <td>3.733534</td>\n",
       "      <td>1.932235</td>\n",
       "      <td>1.528168</td>\n",
       "      <td>0.123905</td>\n",
       "      <td>23117.096501</td>\n",
       "    </tr>\n",
       "    <tr>\n",
       "      <td>5</td>\n",
       "      <td>21.526200</td>\n",
       "      <td>3.941460</td>\n",
       "      <td>3.941460</td>\n",
       "      <td>1.985311</td>\n",
       "      <td>1.550804</td>\n",
       "      <td>0.075114</td>\n",
       "      <td>23283.476140</td>\n",
       "    </tr>\n",
       "    <tr>\n",
       "      <td>6</td>\n",
       "      <td>21.526200</td>\n",
       "      <td>3.825573</td>\n",
       "      <td>3.825574</td>\n",
       "      <td>1.955907</td>\n",
       "      <td>1.543411</td>\n",
       "      <td>0.102308</td>\n",
       "      <td>23859.003181</td>\n",
       "    </tr>\n",
       "    <tr>\n",
       "      <td>7</td>\n",
       "      <td>21.526200</td>\n",
       "      <td>4.438028</td>\n",
       "      <td>4.438028</td>\n",
       "      <td>2.106663</td>\n",
       "      <td>1.631076</td>\n",
       "      <td>-0.041408</td>\n",
       "      <td>24200.307529</td>\n",
       "    </tr>\n",
       "  </tbody>\n",
       "</table><p>"
      ],
      "text/plain": [
       "<IPython.core.display.HTML object>"
      ]
     },
     "metadata": {},
     "output_type": "display_data"
    },
    {
     "data": {
      "text/plain": [
       "TrainOutput(global_step=966, training_loss=12.718498530101579, metrics={'train_runtime': 794.8201, 'train_samples_per_second': 177.167, 'train_steps_per_second': 2.778, 'total_flos': 8160773490594816.0, 'train_loss': 12.718498530101579, 'epoch': 7.0})"
      ]
     },
     "execution_count": 41,
     "metadata": {},
     "output_type": "execute_result"
    }
   ],
   "source": [
    "# Variance 2\n",
    "\n",
    "trainer = Trainer(\n",
    "    model_init=model_init,\n",
    ")\n",
    "\n",
    "training_args = TrainingArguments(\n",
    "    output_dir ='./results/var2_checkpoints',          \n",
    "    num_train_epochs = 16,     \n",
    "    per_device_train_batch_size = 64,   \n",
    "    per_device_eval_batch_size = 20,   \n",
    "    weight_decay = 0.01,               \n",
    "    learning_rate = 2e-5,\n",
    "    logging_dir = './logs/var2',            \n",
    "    save_total_limit = 10,\n",
    "    load_best_model_at_end = True,     \n",
    "    metric_for_best_model = 'rmse',    \n",
    "    evaluation_strategy = \"epoch\",\n",
    "    save_strategy = \"epoch\",\n",
    "    greater_is_better = False,\n",
    "    seed=seed\n",
    ") \n",
    "\n",
    "# Call the Trainer\n",
    "var2_trainer = Trainer(\n",
    "    model_init = model_init,                         \n",
    "    args = training_args,\n",
    "    data_collator=data_collator,\n",
    "    train_dataset = var2_ds_t['train'],         \n",
    "    eval_dataset = var2_ds_t['valid'],          \n",
    "    compute_metrics = compute_metrics_for_regression,\n",
    "    callbacks = [EarlyStoppingCallback(early_stopping_patience=3)]\n",
    ")\n",
    "\n",
    "# Train the model\n",
    "var2_trainer.train()"
   ]
  },
  {
   "cell_type": "code",
   "execution_count": 42,
   "id": "8b844938-bd0f-470e-a0b2-5c01db7a9ce6",
   "metadata": {},
   "outputs": [
    {
     "name": "stderr",
     "output_type": "stream",
     "text": [
      "/opt/conda/lib/python3.10/site-packages/transformers/optimization.py:306: FutureWarning: This implementation of AdamW is deprecated and will be removed in a future version. Use the PyTorch implementation torch.optim.AdamW instead, or set `no_deprecation_warning=True` to disable this warning\n",
      "  warnings.warn(\n"
     ]
    },
    {
     "data": {
      "text/html": [
       "\n",
       "    <div>\n",
       "      \n",
       "      <progress value='623' max='1424' style='width:300px; height:20px; vertical-align: middle;'></progress>\n",
       "      [ 623/1424 08:32 < 11:00, 1.21 it/s, Epoch 7/16]\n",
       "    </div>\n",
       "    <table border=\"1\" class=\"dataframe\">\n",
       "  <thead>\n",
       " <tr style=\"text-align: left;\">\n",
       "      <th>Epoch</th>\n",
       "      <th>Training Loss</th>\n",
       "      <th>Validation Loss</th>\n",
       "      <th>Mse</th>\n",
       "      <th>Rmse</th>\n",
       "      <th>Mae</th>\n",
       "      <th>R2</th>\n",
       "      <th>Smape</th>\n",
       "    </tr>\n",
       "  </thead>\n",
       "  <tbody>\n",
       "    <tr>\n",
       "      <td>1</td>\n",
       "      <td>No log</td>\n",
       "      <td>30.804693</td>\n",
       "      <td>30.804693</td>\n",
       "      <td>5.550198</td>\n",
       "      <td>5.100112</td>\n",
       "      <td>-4.619622</td>\n",
       "      <td>48714.839669</td>\n",
       "    </tr>\n",
       "    <tr>\n",
       "      <td>2</td>\n",
       "      <td>No log</td>\n",
       "      <td>4.884197</td>\n",
       "      <td>4.884197</td>\n",
       "      <td>2.210022</td>\n",
       "      <td>1.768287</td>\n",
       "      <td>0.108988</td>\n",
       "      <td>17199.322314</td>\n",
       "    </tr>\n",
       "    <tr>\n",
       "      <td>3</td>\n",
       "      <td>No log</td>\n",
       "      <td>4.770918</td>\n",
       "      <td>4.770918</td>\n",
       "      <td>2.184243</td>\n",
       "      <td>1.747135</td>\n",
       "      <td>0.129654</td>\n",
       "      <td>16476.745455</td>\n",
       "    </tr>\n",
       "    <tr>\n",
       "      <td>4</td>\n",
       "      <td>No log</td>\n",
       "      <td>4.557712</td>\n",
       "      <td>4.557713</td>\n",
       "      <td>2.134880</td>\n",
       "      <td>1.697001</td>\n",
       "      <td>0.168548</td>\n",
       "      <td>16935.128926</td>\n",
       "    </tr>\n",
       "    <tr>\n",
       "      <td>5</td>\n",
       "      <td>No log</td>\n",
       "      <td>5.312137</td>\n",
       "      <td>5.312137</td>\n",
       "      <td>2.304807</td>\n",
       "      <td>1.752648</td>\n",
       "      <td>0.030920</td>\n",
       "      <td>17229.993388</td>\n",
       "    </tr>\n",
       "    <tr>\n",
       "      <td>6</td>\n",
       "      <td>22.045500</td>\n",
       "      <td>4.800717</td>\n",
       "      <td>4.800717</td>\n",
       "      <td>2.191054</td>\n",
       "      <td>1.685926</td>\n",
       "      <td>0.124217</td>\n",
       "      <td>17489.623140</td>\n",
       "    </tr>\n",
       "    <tr>\n",
       "      <td>7</td>\n",
       "      <td>22.045500</td>\n",
       "      <td>4.797024</td>\n",
       "      <td>4.797024</td>\n",
       "      <td>2.190211</td>\n",
       "      <td>1.712387</td>\n",
       "      <td>0.124891</td>\n",
       "      <td>18250.099174</td>\n",
       "    </tr>\n",
       "  </tbody>\n",
       "</table><p>"
      ],
      "text/plain": [
       "<IPython.core.display.HTML object>"
      ]
     },
     "metadata": {},
     "output_type": "display_data"
    },
    {
     "data": {
      "text/plain": [
       "TrainOutput(global_step=623, training_loss=18.451473083006245, metrics={'train_runtime': 513.0748, 'train_samples_per_second': 176.068, 'train_steps_per_second': 2.775, 'total_flos': 5235283164174336.0, 'train_loss': 18.451473083006245, 'epoch': 7.0})"
      ]
     },
     "execution_count": 42,
     "metadata": {},
     "output_type": "execute_result"
    }
   ],
   "source": [
    "# Variance 3\n",
    "\n",
    "trainer = Trainer(\n",
    "    model_init=model_init,\n",
    ")\n",
    "\n",
    "training_args = TrainingArguments(\n",
    "    output_dir ='./results/var3_checkpoints',          \n",
    "    num_train_epochs = 16,     \n",
    "    per_device_train_batch_size = 64,   \n",
    "    per_device_eval_batch_size = 20,   \n",
    "    weight_decay = 0.01,               \n",
    "    learning_rate = 2e-5,\n",
    "    logging_dir = './logs/var3',            \n",
    "    save_total_limit = 10,\n",
    "    load_best_model_at_end = True,     \n",
    "    metric_for_best_model = 'rmse',    \n",
    "    evaluation_strategy = \"epoch\",\n",
    "    save_strategy = \"epoch\",\n",
    "    greater_is_better = False,\n",
    "    seed=seed\n",
    ") \n",
    "\n",
    "# Call the Trainer\n",
    "var3_trainer = Trainer(\n",
    "    model_init = model_init,                         \n",
    "    args = training_args,\n",
    "    data_collator=data_collator,\n",
    "    train_dataset = var3_ds_t['train'],         \n",
    "    eval_dataset = var3_ds_t['valid'],          \n",
    "    compute_metrics = compute_metrics_for_regression,\n",
    "    callbacks = [EarlyStoppingCallback(early_stopping_patience=3)]\n",
    ")\n",
    "\n",
    "# Train the model\n",
    "var3_trainer.train()"
   ]
  },
  {
   "cell_type": "code",
   "execution_count": 43,
   "id": "381b1819-9951-45fa-9ace-761b0840c236",
   "metadata": {},
   "outputs": [
    {
     "name": "stderr",
     "output_type": "stream",
     "text": [
      "/opt/conda/lib/python3.10/site-packages/transformers/optimization.py:306: FutureWarning: This implementation of AdamW is deprecated and will be removed in a future version. Use the PyTorch implementation torch.optim.AdamW instead, or set `no_deprecation_warning=True` to disable this warning\n",
      "  warnings.warn(\n"
     ]
    },
    {
     "data": {
      "text/html": [
       "\n",
       "    <div>\n",
       "      \n",
       "      <progress value='1624' max='3712' style='width:300px; height:20px; vertical-align: middle;'></progress>\n",
       "      [1624/3712 22:12 < 28:35, 1.22 it/s, Epoch 7/16]\n",
       "    </div>\n",
       "    <table border=\"1\" class=\"dataframe\">\n",
       "  <thead>\n",
       " <tr style=\"text-align: left;\">\n",
       "      <th>Epoch</th>\n",
       "      <th>Training Loss</th>\n",
       "      <th>Validation Loss</th>\n",
       "      <th>Mse</th>\n",
       "      <th>Rmse</th>\n",
       "      <th>Mae</th>\n",
       "      <th>R2</th>\n",
       "      <th>Smape</th>\n",
       "    </tr>\n",
       "  </thead>\n",
       "  <tbody>\n",
       "    <tr>\n",
       "      <td>1</td>\n",
       "      <td>No log</td>\n",
       "      <td>2.998424</td>\n",
       "      <td>2.998424</td>\n",
       "      <td>1.731596</td>\n",
       "      <td>1.369655</td>\n",
       "      <td>0.019029</td>\n",
       "      <td>28839.639572</td>\n",
       "    </tr>\n",
       "    <tr>\n",
       "      <td>2</td>\n",
       "      <td>No log</td>\n",
       "      <td>2.908523</td>\n",
       "      <td>2.908522</td>\n",
       "      <td>1.705439</td>\n",
       "      <td>1.359761</td>\n",
       "      <td>0.048441</td>\n",
       "      <td>29626.444865</td>\n",
       "    </tr>\n",
       "    <tr>\n",
       "      <td>3</td>\n",
       "      <td>23.603900</td>\n",
       "      <td>2.921589</td>\n",
       "      <td>2.921589</td>\n",
       "      <td>1.709266</td>\n",
       "      <td>1.345180</td>\n",
       "      <td>0.044167</td>\n",
       "      <td>29998.041588</td>\n",
       "    </tr>\n",
       "    <tr>\n",
       "      <td>4</td>\n",
       "      <td>23.603900</td>\n",
       "      <td>2.888181</td>\n",
       "      <td>2.888181</td>\n",
       "      <td>1.699465</td>\n",
       "      <td>1.345181</td>\n",
       "      <td>0.055096</td>\n",
       "      <td>29967.241336</td>\n",
       "    </tr>\n",
       "    <tr>\n",
       "      <td>5</td>\n",
       "      <td>3.097300</td>\n",
       "      <td>2.916701</td>\n",
       "      <td>2.916701</td>\n",
       "      <td>1.707835</td>\n",
       "      <td>1.342039</td>\n",
       "      <td>0.045766</td>\n",
       "      <td>29955.246377</td>\n",
       "    </tr>\n",
       "    <tr>\n",
       "      <td>6</td>\n",
       "      <td>3.097300</td>\n",
       "      <td>3.127331</td>\n",
       "      <td>3.127331</td>\n",
       "      <td>1.768426</td>\n",
       "      <td>1.380756</td>\n",
       "      <td>-0.023145</td>\n",
       "      <td>30863.074984</td>\n",
       "    </tr>\n",
       "    <tr>\n",
       "      <td>7</td>\n",
       "      <td>2.564600</td>\n",
       "      <td>3.509334</td>\n",
       "      <td>3.509334</td>\n",
       "      <td>1.873322</td>\n",
       "      <td>1.435338</td>\n",
       "      <td>-0.148122</td>\n",
       "      <td>31486.260870</td>\n",
       "    </tr>\n",
       "  </tbody>\n",
       "</table><p>"
      ],
      "text/plain": [
       "<IPython.core.display.HTML object>"
      ]
     },
     "metadata": {},
     "output_type": "display_data"
    },
    {
     "data": {
      "text/plain": [
       "TrainOutput(global_step=1624, training_loss=9.16849966941796, metrics={'train_runtime': 1333.6897, 'train_samples_per_second': 177.661, 'train_steps_per_second': 2.783, 'total_flos': 1.3731723056722944e+16, 'train_loss': 9.16849966941796, 'epoch': 7.0})"
      ]
     },
     "execution_count": 43,
     "metadata": {},
     "output_type": "execute_result"
    }
   ],
   "source": [
    "# TTR 1\n",
    "\n",
    "trainer = Trainer(\n",
    "    model_init=model_init,\n",
    ")\n",
    "\n",
    "training_args = TrainingArguments(\n",
    "    output_dir ='./results/ttr1_checkpoints',          \n",
    "    num_train_epochs = 16,     \n",
    "    per_device_train_batch_size = 64,   \n",
    "    per_device_eval_batch_size = 20,   \n",
    "    weight_decay = 0.01,               \n",
    "    learning_rate = 2e-5,\n",
    "    logging_dir = './logs/ttr1',            \n",
    "    save_total_limit = 10,\n",
    "    load_best_model_at_end = True,     \n",
    "    metric_for_best_model = 'rmse',    \n",
    "    evaluation_strategy = \"epoch\",\n",
    "    save_strategy = \"epoch\",\n",
    "    greater_is_better = False,\n",
    "    seed=seed\n",
    ") \n",
    "\n",
    "# Call the Trainer\n",
    "ttr1_trainer = Trainer(\n",
    "    model_init = model_init,                         \n",
    "    args = training_args,\n",
    "    data_collator=data_collator,\n",
    "    train_dataset = ttr1_ds_t['train'],         \n",
    "    eval_dataset = ttr1_ds_t['valid'],          \n",
    "    compute_metrics = compute_metrics_for_regression,\n",
    "    callbacks = [EarlyStoppingCallback(early_stopping_patience=3)]\n",
    ")\n",
    "\n",
    "# Train the model\n",
    "ttr1_trainer.train()"
   ]
  },
  {
   "cell_type": "code",
   "execution_count": 44,
   "id": "33c20701-5da5-4931-a963-01bb14425f8e",
   "metadata": {},
   "outputs": [
    {
     "name": "stderr",
     "output_type": "stream",
     "text": [
      "/opt/conda/lib/python3.10/site-packages/transformers/optimization.py:306: FutureWarning: This implementation of AdamW is deprecated and will be removed in a future version. Use the PyTorch implementation torch.optim.AdamW instead, or set `no_deprecation_warning=True` to disable this warning\n",
      "  warnings.warn(\n"
     ]
    },
    {
     "data": {
      "text/html": [
       "\n",
       "    <div>\n",
       "      \n",
       "      <progress value='1110' max='2960' style='width:300px; height:20px; vertical-align: middle;'></progress>\n",
       "      [1110/2960 15:11 < 25:22, 1.22 it/s, Epoch 6/16]\n",
       "    </div>\n",
       "    <table border=\"1\" class=\"dataframe\">\n",
       "  <thead>\n",
       " <tr style=\"text-align: left;\">\n",
       "      <th>Epoch</th>\n",
       "      <th>Training Loss</th>\n",
       "      <th>Validation Loss</th>\n",
       "      <th>Mse</th>\n",
       "      <th>Rmse</th>\n",
       "      <th>Mae</th>\n",
       "      <th>R2</th>\n",
       "      <th>Smape</th>\n",
       "    </tr>\n",
       "  </thead>\n",
       "  <tbody>\n",
       "    <tr>\n",
       "      <td>1</td>\n",
       "      <td>No log</td>\n",
       "      <td>3.433192</td>\n",
       "      <td>3.433192</td>\n",
       "      <td>1.852888</td>\n",
       "      <td>1.516515</td>\n",
       "      <td>-0.009984</td>\n",
       "      <td>26245.773212</td>\n",
       "    </tr>\n",
       "    <tr>\n",
       "      <td>2</td>\n",
       "      <td>No log</td>\n",
       "      <td>3.227482</td>\n",
       "      <td>3.227482</td>\n",
       "      <td>1.796519</td>\n",
       "      <td>1.388970</td>\n",
       "      <td>0.050532</td>\n",
       "      <td>25815.908337</td>\n",
       "    </tr>\n",
       "    <tr>\n",
       "      <td>3</td>\n",
       "      <td>22.834300</td>\n",
       "      <td>3.078017</td>\n",
       "      <td>3.078017</td>\n",
       "      <td>1.754428</td>\n",
       "      <td>1.393559</td>\n",
       "      <td>0.094502</td>\n",
       "      <td>25840.497827</td>\n",
       "    </tr>\n",
       "    <tr>\n",
       "      <td>4</td>\n",
       "      <td>22.834300</td>\n",
       "      <td>3.130857</td>\n",
       "      <td>3.130857</td>\n",
       "      <td>1.769423</td>\n",
       "      <td>1.375614</td>\n",
       "      <td>0.078957</td>\n",
       "      <td>26307.092849</td>\n",
       "    </tr>\n",
       "    <tr>\n",
       "      <td>5</td>\n",
       "      <td>22.834300</td>\n",
       "      <td>3.255595</td>\n",
       "      <td>3.255595</td>\n",
       "      <td>1.804327</td>\n",
       "      <td>1.393707</td>\n",
       "      <td>0.042262</td>\n",
       "      <td>26175.988937</td>\n",
       "    </tr>\n",
       "    <tr>\n",
       "      <td>6</td>\n",
       "      <td>2.959000</td>\n",
       "      <td>3.490071</td>\n",
       "      <td>3.490071</td>\n",
       "      <td>1.868173</td>\n",
       "      <td>1.424559</td>\n",
       "      <td>-0.026717</td>\n",
       "      <td>26311.050178</td>\n",
       "    </tr>\n",
       "  </tbody>\n",
       "</table><p>"
      ],
      "text/plain": [
       "<IPython.core.display.HTML object>"
      ]
     },
     "metadata": {},
     "output_type": "display_data"
    },
    {
     "data": {
      "text/plain": [
       "TrainOutput(global_step=1110, training_loss=11.867857264613246, metrics={'train_runtime': 912.6117, 'train_samples_per_second': 207.089, 'train_steps_per_second': 3.243, 'total_flos': 9388062051803136.0, 'train_loss': 11.867857264613246, 'epoch': 6.0})"
      ]
     },
     "execution_count": 44,
     "metadata": {},
     "output_type": "execute_result"
    }
   ],
   "source": [
    "# TTR 2\n",
    "\n",
    "trainer = Trainer(\n",
    "    model_init=model_init,\n",
    ")\n",
    "\n",
    "training_args = TrainingArguments(\n",
    "    output_dir ='./results/ttr2_checkpoints',          \n",
    "    num_train_epochs = 16,     \n",
    "    per_device_train_batch_size = 64,   \n",
    "    per_device_eval_batch_size = 20,   \n",
    "    weight_decay = 0.01,               \n",
    "    learning_rate = 2e-5,\n",
    "    logging_dir = './logs/ttr2',            \n",
    "    save_total_limit = 10,\n",
    "    load_best_model_at_end = True,     \n",
    "    metric_for_best_model = 'rmse',    \n",
    "    evaluation_strategy = \"epoch\",\n",
    "    save_strategy = \"epoch\",\n",
    "    greater_is_better = False,\n",
    "    seed=seed\n",
    ") \n",
    "\n",
    "# Call the Trainer\n",
    "ttr2_trainer = Trainer(\n",
    "    model_init = model_init,                         \n",
    "    args = training_args,\n",
    "    data_collator=data_collator,\n",
    "    train_dataset = ttr2_ds_t['train'],         \n",
    "    eval_dataset = ttr2_ds_t['valid'],          \n",
    "    compute_metrics = compute_metrics_for_regression,\n",
    "    callbacks = [EarlyStoppingCallback(early_stopping_patience=3)]\n",
    ")\n",
    "\n",
    "# Train the model\n",
    "ttr2_trainer.train()"
   ]
  },
  {
   "cell_type": "code",
   "execution_count": 45,
   "id": "8d0e294d-f3fb-4350-8be0-c40c8260bb15",
   "metadata": {},
   "outputs": [
    {
     "name": "stderr",
     "output_type": "stream",
     "text": [
      "/opt/conda/lib/python3.10/site-packages/transformers/optimization.py:306: FutureWarning: This implementation of AdamW is deprecated and will be removed in a future version. Use the PyTorch implementation torch.optim.AdamW instead, or set `no_deprecation_warning=True` to disable this warning\n",
      "  warnings.warn(\n"
     ]
    },
    {
     "data": {
      "text/html": [
       "\n",
       "    <div>\n",
       "      \n",
       "      <progress value='738' max='1968' style='width:300px; height:20px; vertical-align: middle;'></progress>\n",
       "      [ 738/1968 10:09 < 16:58, 1.21 it/s, Epoch 6/16]\n",
       "    </div>\n",
       "    <table border=\"1\" class=\"dataframe\">\n",
       "  <thead>\n",
       " <tr style=\"text-align: left;\">\n",
       "      <th>Epoch</th>\n",
       "      <th>Training Loss</th>\n",
       "      <th>Validation Loss</th>\n",
       "      <th>Mse</th>\n",
       "      <th>Rmse</th>\n",
       "      <th>Mae</th>\n",
       "      <th>R2</th>\n",
       "      <th>Smape</th>\n",
       "    </tr>\n",
       "  </thead>\n",
       "  <tbody>\n",
       "    <tr>\n",
       "      <td>1</td>\n",
       "      <td>No log</td>\n",
       "      <td>12.710691</td>\n",
       "      <td>12.710690</td>\n",
       "      <td>3.565206</td>\n",
       "      <td>3.204593</td>\n",
       "      <td>-2.485219</td>\n",
       "      <td>38156.776261</td>\n",
       "    </tr>\n",
       "    <tr>\n",
       "      <td>2</td>\n",
       "      <td>No log</td>\n",
       "      <td>3.332324</td>\n",
       "      <td>3.332324</td>\n",
       "      <td>1.825465</td>\n",
       "      <td>1.429976</td>\n",
       "      <td>0.086291</td>\n",
       "      <td>17234.369139</td>\n",
       "    </tr>\n",
       "    <tr>\n",
       "      <td>3</td>\n",
       "      <td>No log</td>\n",
       "      <td>3.292742</td>\n",
       "      <td>3.292742</td>\n",
       "      <td>1.814592</td>\n",
       "      <td>1.431637</td>\n",
       "      <td>0.097144</td>\n",
       "      <td>18980.430861</td>\n",
       "    </tr>\n",
       "    <tr>\n",
       "      <td>4</td>\n",
       "      <td>No log</td>\n",
       "      <td>3.323823</td>\n",
       "      <td>3.323823</td>\n",
       "      <td>1.823136</td>\n",
       "      <td>1.398344</td>\n",
       "      <td>0.088621</td>\n",
       "      <td>18249.753116</td>\n",
       "    </tr>\n",
       "    <tr>\n",
       "      <td>5</td>\n",
       "      <td>22.536500</td>\n",
       "      <td>3.788747</td>\n",
       "      <td>3.788747</td>\n",
       "      <td>1.946470</td>\n",
       "      <td>1.569863</td>\n",
       "      <td>-0.038859</td>\n",
       "      <td>20397.581009</td>\n",
       "    </tr>\n",
       "    <tr>\n",
       "      <td>6</td>\n",
       "      <td>22.536500</td>\n",
       "      <td>3.499324</td>\n",
       "      <td>3.499324</td>\n",
       "      <td>1.870648</td>\n",
       "      <td>1.432982</td>\n",
       "      <td>0.040500</td>\n",
       "      <td>19008.715727</td>\n",
       "    </tr>\n",
       "  </tbody>\n",
       "</table><p>"
      ],
      "text/plain": [
       "<IPython.core.display.HTML object>"
      ]
     },
     "metadata": {},
     "output_type": "display_data"
    },
    {
     "data": {
      "text/plain": [
       "TrainOutput(global_step=738, training_loss=16.196726067602473, metrics={'train_runtime': 610.1909, 'train_samples_per_second': 206.178, 'train_steps_per_second': 3.225, 'total_flos': 6249435481995264.0, 'train_loss': 16.196726067602473, 'epoch': 6.0})"
      ]
     },
     "execution_count": 45,
     "metadata": {},
     "output_type": "execute_result"
    }
   ],
   "source": [
    "# TTR 3\n",
    "\n",
    "trainer = Trainer(\n",
    "    model_init=model_init,\n",
    ")\n",
    "\n",
    "training_args = TrainingArguments(\n",
    "    output_dir ='./results/ttr3_checkpoints',          \n",
    "    num_train_epochs = 16,     \n",
    "    per_device_train_batch_size = 64,   \n",
    "    per_device_eval_batch_size = 20,   \n",
    "    weight_decay = 0.01,               \n",
    "    learning_rate = 2e-5,\n",
    "    logging_dir = './logs/ttr3',            \n",
    "    save_total_limit = 10,\n",
    "    load_best_model_at_end = True,     \n",
    "    metric_for_best_model = 'rmse',    \n",
    "    evaluation_strategy = \"epoch\",\n",
    "    save_strategy = \"epoch\",\n",
    "    greater_is_better = False,\n",
    "    seed=seed\n",
    ") \n",
    "\n",
    "# Call the Trainer\n",
    "ttr3_trainer = Trainer(\n",
    "    model_init = model_init,                         \n",
    "    args = training_args,\n",
    "    data_collator=data_collator,\n",
    "    train_dataset = ttr3_ds_t['train'],         \n",
    "    eval_dataset = ttr3_ds_t['valid'],          \n",
    "    compute_metrics = compute_metrics_for_regression,\n",
    "    callbacks = [EarlyStoppingCallback(early_stopping_patience=3)]\n",
    ")\n",
    "\n",
    "# Train the model\n",
    "ttr3_trainer.train()"
   ]
  },
  {
   "cell_type": "code",
   "execution_count": 46,
   "id": "b96cbcce-6a8e-46f5-b13d-593d9044fa71",
   "metadata": {},
   "outputs": [
    {
     "name": "stderr",
     "output_type": "stream",
     "text": [
      "/opt/conda/lib/python3.10/site-packages/transformers/optimization.py:306: FutureWarning: This implementation of AdamW is deprecated and will be removed in a future version. Use the PyTorch implementation torch.optim.AdamW instead, or set `no_deprecation_warning=True` to disable this warning\n",
      "  warnings.warn(\n"
     ]
    },
    {
     "data": {
      "text/html": [
       "\n",
       "    <div>\n",
       "      \n",
       "      <progress value='1220' max='3904' style='width:300px; height:20px; vertical-align: middle;'></progress>\n",
       "      [1220/3904 16:40 < 36:45, 1.22 it/s, Epoch 5/16]\n",
       "    </div>\n",
       "    <table border=\"1\" class=\"dataframe\">\n",
       "  <thead>\n",
       " <tr style=\"text-align: left;\">\n",
       "      <th>Epoch</th>\n",
       "      <th>Training Loss</th>\n",
       "      <th>Validation Loss</th>\n",
       "      <th>Mse</th>\n",
       "      <th>Rmse</th>\n",
       "      <th>Mae</th>\n",
       "      <th>R2</th>\n",
       "      <th>Smape</th>\n",
       "    </tr>\n",
       "  </thead>\n",
       "  <tbody>\n",
       "    <tr>\n",
       "      <td>1</td>\n",
       "      <td>No log</td>\n",
       "      <td>3.053164</td>\n",
       "      <td>3.053164</td>\n",
       "      <td>1.747331</td>\n",
       "      <td>1.361699</td>\n",
       "      <td>-0.051179</td>\n",
       "      <td>29709.348517</td>\n",
       "    </tr>\n",
       "    <tr>\n",
       "      <td>2</td>\n",
       "      <td>No log</td>\n",
       "      <td>2.796978</td>\n",
       "      <td>2.796978</td>\n",
       "      <td>1.672417</td>\n",
       "      <td>1.344327</td>\n",
       "      <td>0.037024</td>\n",
       "      <td>30277.686545</td>\n",
       "    </tr>\n",
       "    <tr>\n",
       "      <td>3</td>\n",
       "      <td>23.567500</td>\n",
       "      <td>2.835213</td>\n",
       "      <td>2.835213</td>\n",
       "      <td>1.683809</td>\n",
       "      <td>1.331175</td>\n",
       "      <td>0.023860</td>\n",
       "      <td>30770.486065</td>\n",
       "    </tr>\n",
       "    <tr>\n",
       "      <td>4</td>\n",
       "      <td>23.567500</td>\n",
       "      <td>2.928007</td>\n",
       "      <td>2.928007</td>\n",
       "      <td>1.711142</td>\n",
       "      <td>1.337436</td>\n",
       "      <td>-0.008089</td>\n",
       "      <td>30248.841474</td>\n",
       "    </tr>\n",
       "    <tr>\n",
       "      <td>5</td>\n",
       "      <td>3.041900</td>\n",
       "      <td>2.959799</td>\n",
       "      <td>2.959799</td>\n",
       "      <td>1.720407</td>\n",
       "      <td>1.358086</td>\n",
       "      <td>-0.019035</td>\n",
       "      <td>31459.934073</td>\n",
       "    </tr>\n",
       "  </tbody>\n",
       "</table><p>"
      ],
      "text/plain": [
       "<IPython.core.display.HTML object>"
      ]
     },
     "metadata": {},
     "output_type": "display_data"
    },
    {
     "data": {
      "text/plain": [
       "TrainOutput(global_step=1220, training_loss=11.419583329998078, metrics={'train_runtime': 1001.5991, 'train_samples_per_second': 248.722, 'train_steps_per_second': 3.898, 'total_flos': 1.03124030750208e+16, 'train_loss': 11.419583329998078, 'epoch': 5.0})"
      ]
     },
     "execution_count": 46,
     "metadata": {},
     "output_type": "execute_result"
    }
   ],
   "source": [
    "# TTV 0\n",
    "\n",
    "trainer = Trainer(\n",
    "    model_init=model_init,\n",
    ")\n",
    "\n",
    "training_args = TrainingArguments(\n",
    "    output_dir ='./results/ttv0_checkpoints',          \n",
    "    num_train_epochs = 16,     \n",
    "    per_device_train_batch_size = 64,   \n",
    "    per_device_eval_batch_size = 20,   \n",
    "    weight_decay = 0.01,               \n",
    "    learning_rate = 2e-5,\n",
    "    logging_dir = './logs/ttv0',            \n",
    "    save_total_limit = 10,\n",
    "    load_best_model_at_end = True,     \n",
    "    metric_for_best_model = 'rmse',    \n",
    "    evaluation_strategy = \"epoch\",\n",
    "    save_strategy = \"epoch\",\n",
    "    greater_is_better = False,\n",
    "    seed=seed\n",
    ") \n",
    "\n",
    "# Call the Trainer\n",
    "ttv0_trainer = Trainer(\n",
    "    model_init = model_init,                         \n",
    "    args = training_args,\n",
    "    data_collator=data_collator,\n",
    "    train_dataset = ttv0_ds_t['train'],         \n",
    "    eval_dataset = ttv0_ds_t['valid'],          \n",
    "    compute_metrics = compute_metrics_for_regression,\n",
    "    callbacks = [EarlyStoppingCallback(early_stopping_patience=3)]\n",
    ")\n",
    "\n",
    "# Train the model\n",
    "ttv0_trainer.train()"
   ]
  },
  {
   "cell_type": "code",
   "execution_count": 47,
   "id": "3798a1fd-bf9d-4708-9c54-475eefeb9f78",
   "metadata": {},
   "outputs": [
    {
     "name": "stderr",
     "output_type": "stream",
     "text": [
      "/opt/conda/lib/python3.10/site-packages/transformers/optimization.py:306: FutureWarning: This implementation of AdamW is deprecated and will be removed in a future version. Use the PyTorch implementation torch.optim.AdamW instead, or set `no_deprecation_warning=True` to disable this warning\n",
      "  warnings.warn(\n"
     ]
    },
    {
     "data": {
      "text/html": [
       "\n",
       "    <div>\n",
       "      \n",
       "      <progress value='1110' max='3552' style='width:300px; height:20px; vertical-align: middle;'></progress>\n",
       "      [1110/3552 15:10 < 33:26, 1.22 it/s, Epoch 5/16]\n",
       "    </div>\n",
       "    <table border=\"1\" class=\"dataframe\">\n",
       "  <thead>\n",
       " <tr style=\"text-align: left;\">\n",
       "      <th>Epoch</th>\n",
       "      <th>Training Loss</th>\n",
       "      <th>Validation Loss</th>\n",
       "      <th>Mse</th>\n",
       "      <th>Rmse</th>\n",
       "      <th>Mae</th>\n",
       "      <th>R2</th>\n",
       "      <th>Smape</th>\n",
       "    </tr>\n",
       "  </thead>\n",
       "  <tbody>\n",
       "    <tr>\n",
       "      <td>1</td>\n",
       "      <td>No log</td>\n",
       "      <td>2.931199</td>\n",
       "      <td>2.931199</td>\n",
       "      <td>1.712075</td>\n",
       "      <td>1.376218</td>\n",
       "      <td>0.070421</td>\n",
       "      <td>29176.485648</td>\n",
       "    </tr>\n",
       "    <tr>\n",
       "      <td>2</td>\n",
       "      <td>No log</td>\n",
       "      <td>2.873404</td>\n",
       "      <td>2.873404</td>\n",
       "      <td>1.695112</td>\n",
       "      <td>1.360700</td>\n",
       "      <td>0.088750</td>\n",
       "      <td>29864.102936</td>\n",
       "    </tr>\n",
       "    <tr>\n",
       "      <td>3</td>\n",
       "      <td>22.510900</td>\n",
       "      <td>2.879410</td>\n",
       "      <td>2.879410</td>\n",
       "      <td>1.696882</td>\n",
       "      <td>1.357183</td>\n",
       "      <td>0.086845</td>\n",
       "      <td>29832.662488</td>\n",
       "    </tr>\n",
       "    <tr>\n",
       "      <td>4</td>\n",
       "      <td>22.510900</td>\n",
       "      <td>2.922643</td>\n",
       "      <td>2.922643</td>\n",
       "      <td>1.709574</td>\n",
       "      <td>1.321979</td>\n",
       "      <td>0.073135</td>\n",
       "      <td>29450.230287</td>\n",
       "    </tr>\n",
       "    <tr>\n",
       "      <td>5</td>\n",
       "      <td>2.989300</td>\n",
       "      <td>3.233368</td>\n",
       "      <td>3.233368</td>\n",
       "      <td>1.798157</td>\n",
       "      <td>1.371410</td>\n",
       "      <td>-0.025406</td>\n",
       "      <td>30159.216100</td>\n",
       "    </tr>\n",
       "  </tbody>\n",
       "</table><p>"
      ],
      "text/plain": [
       "<IPython.core.display.HTML object>"
      ]
     },
     "metadata": {},
     "output_type": "display_data"
    },
    {
     "data": {
      "text/plain": [
       "TrainOutput(global_step=1110, training_loss=11.772999064127605, metrics={'train_runtime': 910.9803, 'train_samples_per_second': 248.453, 'train_steps_per_second': 3.899, 'total_flos': 9369252016650240.0, 'train_loss': 11.772999064127605, 'epoch': 5.0})"
      ]
     },
     "execution_count": 47,
     "metadata": {},
     "output_type": "execute_result"
    }
   ],
   "source": [
    "# TTV 1\n",
    "\n",
    "trainer = Trainer(\n",
    "    model_init=model_init,\n",
    ")\n",
    "\n",
    "training_args = TrainingArguments(\n",
    "    output_dir ='./results/ttv1_checkpoints',          \n",
    "    num_train_epochs = 16,     \n",
    "    per_device_train_batch_size = 64,   \n",
    "    per_device_eval_batch_size = 20,   \n",
    "    weight_decay = 0.01,               \n",
    "    learning_rate = 2e-5,\n",
    "    logging_dir = './logs/ttv1',            \n",
    "    save_total_limit = 10,\n",
    "    load_best_model_at_end = True,     \n",
    "    metric_for_best_model = 'rmse',    \n",
    "    evaluation_strategy = \"epoch\",\n",
    "    save_strategy = \"epoch\",\n",
    "    greater_is_better = False,\n",
    "    seed=seed\n",
    ") \n",
    "\n",
    "# Call the Trainer\n",
    "ttv1_trainer = Trainer(\n",
    "    model_init = model_init,                         \n",
    "    args = training_args,\n",
    "    data_collator=data_collator,\n",
    "    train_dataset = ttv1_ds_t['train'],         \n",
    "    eval_dataset = ttv1_ds_t['valid'],          \n",
    "    compute_metrics = compute_metrics_for_regression,\n",
    "    callbacks = [EarlyStoppingCallback(early_stopping_patience=3)]\n",
    ")\n",
    "\n",
    "# Train the model\n",
    "ttv1_trainer.train()"
   ]
  },
  {
   "cell_type": "code",
   "execution_count": 48,
   "id": "49ab9c07-b667-44b5-aebf-aebd5879674b",
   "metadata": {},
   "outputs": [
    {
     "name": "stderr",
     "output_type": "stream",
     "text": [
      "/opt/conda/lib/python3.10/site-packages/transformers/optimization.py:306: FutureWarning: This implementation of AdamW is deprecated and will be removed in a future version. Use the PyTorch implementation torch.optim.AdamW instead, or set `no_deprecation_warning=True` to disable this warning\n",
      "  warnings.warn(\n"
     ]
    },
    {
     "data": {
      "text/html": [
       "\n",
       "    <div>\n",
       "      \n",
       "      <progress value='1062' max='2832' style='width:300px; height:20px; vertical-align: middle;'></progress>\n",
       "      [1062/2832 14:32 < 24:16, 1.22 it/s, Epoch 6/16]\n",
       "    </div>\n",
       "    <table border=\"1\" class=\"dataframe\">\n",
       "  <thead>\n",
       " <tr style=\"text-align: left;\">\n",
       "      <th>Epoch</th>\n",
       "      <th>Training Loss</th>\n",
       "      <th>Validation Loss</th>\n",
       "      <th>Mse</th>\n",
       "      <th>Rmse</th>\n",
       "      <th>Mae</th>\n",
       "      <th>R2</th>\n",
       "      <th>Smape</th>\n",
       "    </tr>\n",
       "  </thead>\n",
       "  <tbody>\n",
       "    <tr>\n",
       "      <td>1</td>\n",
       "      <td>No log</td>\n",
       "      <td>3.544342</td>\n",
       "      <td>3.544342</td>\n",
       "      <td>1.882642</td>\n",
       "      <td>1.508490</td>\n",
       "      <td>0.043040</td>\n",
       "      <td>25420.655358</td>\n",
       "    </tr>\n",
       "    <tr>\n",
       "      <td>2</td>\n",
       "      <td>No log</td>\n",
       "      <td>3.347013</td>\n",
       "      <td>3.347013</td>\n",
       "      <td>1.829484</td>\n",
       "      <td>1.422277</td>\n",
       "      <td>0.096318</td>\n",
       "      <td>25512.506413</td>\n",
       "    </tr>\n",
       "    <tr>\n",
       "      <td>3</td>\n",
       "      <td>22.355000</td>\n",
       "      <td>3.233019</td>\n",
       "      <td>3.233019</td>\n",
       "      <td>1.798060</td>\n",
       "      <td>1.411720</td>\n",
       "      <td>0.127096</td>\n",
       "      <td>26981.211419</td>\n",
       "    </tr>\n",
       "    <tr>\n",
       "      <td>4</td>\n",
       "      <td>22.355000</td>\n",
       "      <td>3.405169</td>\n",
       "      <td>3.405169</td>\n",
       "      <td>1.845310</td>\n",
       "      <td>1.394202</td>\n",
       "      <td>0.080616</td>\n",
       "      <td>26559.329748</td>\n",
       "    </tr>\n",
       "    <tr>\n",
       "      <td>5</td>\n",
       "      <td>22.355000</td>\n",
       "      <td>3.370639</td>\n",
       "      <td>3.370639</td>\n",
       "      <td>1.835930</td>\n",
       "      <td>1.401462</td>\n",
       "      <td>0.089939</td>\n",
       "      <td>26440.345883</td>\n",
       "    </tr>\n",
       "    <tr>\n",
       "      <td>6</td>\n",
       "      <td>3.233100</td>\n",
       "      <td>3.681979</td>\n",
       "      <td>3.681979</td>\n",
       "      <td>1.918848</td>\n",
       "      <td>1.499873</td>\n",
       "      <td>0.005878</td>\n",
       "      <td>29287.847745</td>\n",
       "    </tr>\n",
       "  </tbody>\n",
       "</table><p>"
      ],
      "text/plain": [
       "<IPython.core.display.HTML object>"
      ]
     },
     "metadata": {},
     "output_type": "display_data"
    },
    {
     "data": {
      "text/plain": [
       "TrainOutput(global_step=1062, training_loss=12.209099979723915, metrics={'train_runtime': 873.1678, 'train_samples_per_second': 206.714, 'train_steps_per_second': 3.243, 'total_flos': 8966028446189568.0, 'train_loss': 12.209099979723915, 'epoch': 6.0})"
      ]
     },
     "execution_count": 48,
     "metadata": {},
     "output_type": "execute_result"
    }
   ],
   "source": [
    "# TTV 2\n",
    "\n",
    "trainer = Trainer(\n",
    "    model_init=model_init,\n",
    ")\n",
    "\n",
    "training_args = TrainingArguments(\n",
    "    output_dir ='./results/ttv2_checkpoints',          \n",
    "    num_train_epochs = 16,     \n",
    "    per_device_train_batch_size = 64,   \n",
    "    per_device_eval_batch_size = 20,   \n",
    "    weight_decay = 0.01,               \n",
    "    learning_rate = 2e-5,\n",
    "    logging_dir = './logs/ttv2',            \n",
    "    save_total_limit = 10,\n",
    "    load_best_model_at_end = True,     \n",
    "    metric_for_best_model = 'rmse',    \n",
    "    evaluation_strategy = \"epoch\",\n",
    "    save_strategy = \"epoch\",\n",
    "    greater_is_better = False,\n",
    "    seed=seed\n",
    ") \n",
    "\n",
    "# Call the Trainer\n",
    "ttv2_trainer = Trainer(\n",
    "    model_init = model_init,                         \n",
    "    args = training_args,\n",
    "    data_collator=data_collator,\n",
    "    train_dataset = ttv2_ds_t['train'],         \n",
    "    eval_dataset = ttv2_ds_t['valid'],          \n",
    "    compute_metrics = compute_metrics_for_regression,\n",
    "    callbacks = [EarlyStoppingCallback(early_stopping_patience=3)]\n",
    ")\n",
    "\n",
    "# Train the model\n",
    "ttv2_trainer.train()"
   ]
  },
  {
   "cell_type": "markdown",
   "id": "a22a72c0-a60b-4375-a1e3-f162693cf387",
   "metadata": {},
   "source": [
    "## Analysis of the Models"
   ]
  },
  {
   "cell_type": "markdown",
   "id": "ddc60146-b81c-4769-aecc-8ffe75f60c2f",
   "metadata": {},
   "source": [
    "### Evaluate the Models Based on the Training Metrics"
   ]
  },
  {
   "cell_type": "code",
   "execution_count": 49,
   "id": "822f38fb-8fe0-472d-b9fd-710f308e9a56",
   "metadata": {},
   "outputs": [
    {
     "data": {
      "text/html": [
       "\n",
       "    <div>\n",
       "      \n",
       "      <progress value='344' max='172' style='width:300px; height:20px; vertical-align: middle;'></progress>\n",
       "      [172/172 02:05]\n",
       "    </div>\n",
       "    "
      ],
      "text/plain": [
       "<IPython.core.display.HTML object>"
      ]
     },
     "metadata": {},
     "output_type": "display_data"
    },
    {
     "name": "stdout",
     "output_type": "stream",
     "text": [
      "2.5730717182159424,1.6040797233581543,1.277857780456543,0.019392819047388987\n",
      "None\n"
     ]
    },
    {
     "data": {
      "text/html": [
       "\n",
       "    <div>\n",
       "      \n",
       "      <progress value='291' max='145' style='width:300px; height:20px; vertical-align: middle;'></progress>\n",
       "      [145/145 02:03]\n",
       "    </div>\n",
       "    "
      ],
      "text/plain": [
       "<IPython.core.display.HTML object>"
      ]
     },
     "metadata": {},
     "output_type": "display_data"
    },
    {
     "name": "stdout",
     "output_type": "stream",
     "text": [
      "2.9609739780426025,1.7207480669021606,1.351056694984436,0.09451762929823626\n",
      "None\n"
     ]
    },
    {
     "data": {
      "text/html": [
       "\n",
       "    <div>\n",
       "      \n",
       "      <progress value='251' max='95' style='width:300px; height:20px; vertical-align: middle;'></progress>\n",
       "      [95/95 02:04]\n",
       "    </div>\n",
       "    "
      ],
      "text/plain": [
       "<IPython.core.display.HTML object>"
      ]
     },
     "metadata": {},
     "output_type": "display_data"
    },
    {
     "name": "stdout",
     "output_type": "stream",
     "text": [
      "3.733534097671509,1.9322354793548584,1.5281683206558228,0.12390517917848531\n",
      "None\n"
     ]
    },
    {
     "data": {
      "text/html": [
       "\n",
       "    <div>\n",
       "      \n",
       "      <progress value='61' max='61' style='width:300px; height:20px; vertical-align: middle;'></progress>\n",
       "      [61/61 00:05]\n",
       "    </div>\n",
       "    "
      ],
      "text/plain": [
       "<IPython.core.display.HTML object>"
      ]
     },
     "metadata": {},
     "output_type": "display_data"
    },
    {
     "name": "stdout",
     "output_type": "stream",
     "text": [
      "4.557712554931641,2.1348800659179688,1.6970010995864868,0.16854813740368224\n",
      "None\n"
     ]
    },
    {
     "data": {
      "text/html": [
       "\n",
       "    <div>\n",
       "      \n",
       "      <progress value='318' max='159' style='width:300px; height:20px; vertical-align: middle;'></progress>\n",
       "      [159/159 02:04]\n",
       "    </div>\n",
       "    "
      ],
      "text/plain": [
       "<IPython.core.display.HTML object>"
      ]
     },
     "metadata": {},
     "output_type": "display_data"
    },
    {
     "name": "stdout",
     "output_type": "stream",
     "text": [
      "2.888181209564209,1.699465036392212,1.3451813459396362,0.055096362803320975\n",
      "None\n"
     ]
    },
    {
     "data": {
      "text/html": [
       "\n",
       "    <div>\n",
       "      \n",
       "      <progress value='254' max='127' style='width:300px; height:20px; vertical-align: middle;'></progress>\n",
       "      [127/127 02:02]\n",
       "    </div>\n",
       "    "
      ],
      "text/plain": [
       "<IPython.core.display.HTML object>"
      ]
     },
     "metadata": {},
     "output_type": "display_data"
    },
    {
     "name": "stdout",
     "output_type": "stream",
     "text": [
      "3.078017234802246,1.7544279098510742,1.3935585021972656,0.0945019645522488\n",
      "None\n"
     ]
    },
    {
     "data": {
      "text/html": [
       "\n",
       "    <div>\n",
       "      \n",
       "      <progress value='170' max='85' style='width:300px; height:20px; vertical-align: middle;'></progress>\n",
       "      [85/85 01:58]\n",
       "    </div>\n",
       "    "
      ],
      "text/plain": [
       "<IPython.core.display.HTML object>"
      ]
     },
     "metadata": {},
     "output_type": "display_data"
    },
    {
     "name": "stdout",
     "output_type": "stream",
     "text": [
      "3.2927422523498535,1.8145915269851685,1.4316368103027344,0.09714366698313515\n",
      "None\n"
     ]
    },
    {
     "data": {
      "text/html": [
       "\n",
       "    <div>\n",
       "      \n",
       "      <progress value='334' max='167' style='width:300px; height:20px; vertical-align: middle;'></progress>\n",
       "      [167/167 02:05]\n",
       "    </div>\n",
       "    "
      ],
      "text/plain": [
       "<IPython.core.display.HTML object>"
      ]
     },
     "metadata": {},
     "output_type": "display_data"
    },
    {
     "name": "stdout",
     "output_type": "stream",
     "text": [
      "2.7969775199890137,1.6724166870117188,1.344327449798584,0.0370236905180259\n",
      "None\n"
     ]
    },
    {
     "data": {
      "text/html": [
       "\n",
       "    <div>\n",
       "      \n",
       "      <progress value='304' max='152' style='width:300px; height:20px; vertical-align: middle;'></progress>\n",
       "      [152/152 02:04]\n",
       "    </div>\n",
       "    "
      ],
      "text/plain": [
       "<IPython.core.display.HTML object>"
      ]
     },
     "metadata": {},
     "output_type": "display_data"
    },
    {
     "name": "stdout",
     "output_type": "stream",
     "text": [
      "2.873403549194336,1.695111632347107,1.360700011253357,0.088750295147766\n",
      "None\n"
     ]
    },
    {
     "data": {
      "text/html": [
       "\n",
       "    <div>\n",
       "      \n",
       "      <progress value='242' max='121' style='width:300px; height:20px; vertical-align: middle;'></progress>\n",
       "      [121/121 02:01]\n",
       "    </div>\n",
       "    "
      ],
      "text/plain": [
       "<IPython.core.display.HTML object>"
      ]
     },
     "metadata": {},
     "output_type": "display_data"
    },
    {
     "name": "stdout",
     "output_type": "stream",
     "text": [
      "3.233018636703491,1.7980597019195557,1.4117201566696167,0.12709621362513135\n",
      "None\n"
     ]
    }
   ],
   "source": [
    "def outputMetrics(metric_dict):\n",
    "    print('{},{},{},{}'.format(metric_dict['eval_mse'],metric_dict['eval_rmse'],metric_dict['eval_mae'],metric_dict['eval_r2']))\n",
    "\n",
    "print(outputMetrics(baseline_trainer.evaluate()))\n",
    "print(outputMetrics(var1_trainer.evaluate()))\n",
    "print(outputMetrics(var2_trainer.evaluate()))\n",
    "print(outputMetrics(var3_trainer.evaluate()))\n",
    "print(outputMetrics(ttr1_trainer.evaluate()))\n",
    "print(outputMetrics(ttr2_trainer.evaluate()))\n",
    "print(outputMetrics(ttr3_trainer.evaluate()))\n",
    "print(outputMetrics(ttv0_trainer.evaluate()))\n",
    "print(outputMetrics(ttv1_trainer.evaluate()))\n",
    "print(outputMetrics(ttv2_trainer.evaluate()))\n"
   ]
  },
  {
   "cell_type": "markdown",
   "id": "eb0a79fb-ad6f-47e3-9cd4-1a50e8ec5b38",
   "metadata": {},
   "source": [
    "### Get Predictions on the Test Groups"
   ]
  },
  {
   "cell_type": "code",
   "execution_count": 50,
   "id": "91541647-ce18-4857-8c3d-5c04bf595209",
   "metadata": {},
   "outputs": [],
   "source": [
    "from matplotlib import pyplot as plt\n",
    "\n",
    "baseline_preds = baseline_trainer.predict(baseline_ds_t['test'])\n",
    "baseline_predictions = [i[0] for i in list(baseline_preds.predictions)]\n",
    "baseline_labels = list(baseline_preds.label_ids)\n",
    "\n",
    "var1_preds = var1_trainer.predict(var1_ds_t['test'])\n",
    "var1_predictions = [i[0] for i in list(var1_preds.predictions)]\n",
    "var1_labels = list(var1_preds.label_ids)\n",
    "\n",
    "var2_preds = var2_trainer.predict(var2_ds_t['test'])\n",
    "var2_predictions = [i[0] for i in list(var2_preds.predictions)]\n",
    "var2_labels = list(var2_preds.label_ids)\n",
    "\n",
    "var3_preds = var2_trainer.predict(var3_ds_t['test'])\n",
    "var3_predictions = [i[0] for i in list(var3_preds.predictions)]\n",
    "var3_labels = list(var3_preds.label_ids)\n",
    "\n",
    "ttr1_preds = ttr1_trainer.predict(ttr1_ds_t['test'])\n",
    "ttr1_predictions = [i[0] for i in list(ttr1_preds.predictions)]\n",
    "ttr1_labels = list(ttr1_preds.label_ids)\n",
    "\n",
    "ttr2_preds = ttr2_trainer.predict(ttr2_ds_t['test'])\n",
    "ttr2_predictions = [i[0] for i in list(ttr2_preds.predictions)]\n",
    "ttr2_labels = list(ttr2_preds.label_ids)\n",
    "\n",
    "ttr3_preds = ttr3_trainer.predict(ttr3_ds_t['test'])\n",
    "ttr3_predictions = [i[0] for i in list(ttr3_preds.predictions)]\n",
    "ttr3_labels = list(ttr3_preds.label_ids)\n",
    "\n",
    "ttv0_preds = ttv0_trainer.predict(ttv0_ds_t['test'])\n",
    "ttv0_predictions = [i[0] for i in list(ttv0_preds.predictions)]\n",
    "ttv0_labels = list(ttv0_preds.label_ids)\n",
    "\n",
    "ttv1_preds = ttv1_trainer.predict(ttv1_ds_t['test'])\n",
    "ttv1_predictions = [i[0] for i in list(ttv1_preds.predictions)]\n",
    "ttv1_labels = list(ttv1_preds.label_ids)\n",
    "\n",
    "ttv2_preds = ttv2_trainer.predict(ttv2_ds_t['test'])\n",
    "ttv2_predictions = [i[0] for i in list(ttv2_preds.predictions)]\n",
    "ttv2_labels = list(ttv2_preds.label_ids)"
   ]
  },
  {
   "cell_type": "markdown",
   "id": "3522026f-d1fd-4cda-8d14-a60d2574cea9",
   "metadata": {},
   "source": [
    "### Graph the Predicted and Actual Scores for Each Model"
   ]
  },
  {
   "cell_type": "code",
   "execution_count": 54,
   "id": "46fa4a58-1842-4eb9-9b3e-385d0c0069cd",
   "metadata": {},
   "outputs": [
    {
     "data": {
      "image/png": "[encoded data removed]",
      "text/plain": [
       "<Figure size 720x720 with 9 Axes>"
      ]
     },
     "metadata": {
      "needs_background": "light"
     },
     "output_type": "display_data"
    }
   ],
   "source": [
    "from matplotlib import pyplot as plt\n",
    "fig, axs = plt.subplots(3, 3, sharex=True, sharey=True, figsize=(10,10))\n",
    "\n",
    "axs[0, 0].scatter(var1_predictions, var1_labels, color='gray', alpha=0.3)\n",
    "axs[0, 0].set_title(\"Variance > 0\")\n",
    "axs[0, 1].scatter(var2_predictions, var2_labels, color='gray', alpha=0.3)\n",
    "axs[0, 1].set_title(\"Variance > 1\")\n",
    "axs[0, 2].scatter(var3_predictions, var3_labels, color='gray', alpha=0.3)\n",
    "axs[0, 2].set_title(\"Variance > 2.5\")\n",
    "axs[1, 0].scatter(ttr1_predictions, ttr1_labels, color='gray', alpha=0.3)\n",
    "axs[1, 0].set_title(\"TTR > 0.05\")\n",
    "axs[1, 1].scatter(ttr2_predictions, ttr2_labels, color='gray', alpha=0.3)\n",
    "axs[1, 1].set_title(\"TTR > 0.2\")\n",
    "axs[1, 2].scatter(ttr3_predictions, ttr3_labels, color='gray', alpha=0.3)\n",
    "axs[1, 2].set_title(\"TTR > 0.4\")\n",
    "axs[2, 0].scatter(ttv0_predictions, ttv0_labels, color='gray', alpha=0.3)\n",
    "axs[2, 0].set_title(\"Variance > 0 or TTR > 0.05\")\n",
    "axs[2, 1].scatter(ttv1_predictions, ttv1_labels, color='gray', alpha=0.3)\n",
    "axs[2, 1].set_title(\"Variance > 0 or TTR > 0.4\")\n",
    "axs[2, 2].scatter(ttv2_predictions, ttv2_labels, color='gray', alpha=0.3)\n",
    "axs[2, 2].set_title(\"Variance > 2.5 or TTR > 0.4\")\n",
    "\n",
    "plt.xlim([5.5, 18.25])\n",
    "plt.xticks(np.arange(6, 19, step=2)) \n",
    "fig.text(0.5, 0.04, 'predicted score', ha='center')\n",
    "fig.text(0.04, 0.5, 'actual score', va='center', rotation='vertical')\n",
    "fig.show()"
   ]
  },
  {
   "cell_type": "code",
   "execution_count": 52,
   "id": "123ba470-7647-47fe-a6c3-e8d19f916d28",
   "metadata": {},
   "outputs": [
    {
     "data": {
      "image/png": "[encoded data removed]",
      "text/plain": [
       "<Figure size 360x360 with 1 Axes>"
      ]
     },
     "metadata": {
      "needs_background": "light"
     },
     "output_type": "display_data"
    }
   ],
   "source": [
    "plt.figure(figsize=(5,5))\n",
    "plt.scatter(baseline_predictions, baseline_labels, alpha=0.3)\n",
    "plt.title('All Reviewers')\n",
    "plt.xlabel('predicted score')\n",
    "plt.ylabel('actual score')\n",
    "plt.xlim([14, 18])\n",
    "plt.xticks(np.arange(6, 19, step=2)) \n",
    "plt.show()"
   ]
  },
  {
   "cell_type": "markdown",
   "id": "346c0972-2a6f-4635-8379-2689240cd706",
   "metadata": {},
   "source": [
    "### Get the Inferential Stats"
   ]
  },
  {
   "cell_type": "code",
   "execution_count": 53,
   "id": "99ac0ba7-d94a-41eb-9fb6-605f4d654a92",
   "metadata": {},
   "outputs": [
    {
     "name": "stdout",
     "output_type": "stream",
     "text": [
      "all reviewers,0.19194023558164683,0.0\n",
      "variance > 0,0.32045108463551353,0.0\n",
      "Variance > 1,0.3596498327238653,0.0\n",
      "Variance > 2.5,0.45591454883299465,0.0\n",
      "TTR > 0.05,0.1893233205784435,0.0\n",
      "TTR > 0.2,0.3065462116213772,0.0\n",
      "TTR > 0.4,0.33457079514667815,0.0\n",
      "Variance > 0 or TTR > 0.05,0.21650842309067225,0.0\n",
      "Variance > 0 or TTR > 0.4,0.2812200833429934,0.0\n",
      "Variance > 2.5 or TTR > 0.4,0.3580720699061372,0.0\n"
     ]
    }
   ],
   "source": [
    "from scipy.stats import pearsonr \n",
    "r, p = pearsonr(baseline_predictions, baseline_labels)\n",
    "p = round(p, 3)\n",
    "print(f'all reviewers,{r},{p}')\n",
    "\n",
    "r, p = pearsonr(var1_predictions, var1_labels)\n",
    "p = round(p, 3)\n",
    "print(f'variance > 0,{r},{p}')\n",
    "\n",
    "r, p = pearsonr(var2_predictions, var2_labels)\n",
    "p = round(p, 3)\n",
    "print(f'Variance > 1,{r},{p}')\n",
    "\n",
    "r, p = pearsonr(var3_predictions, var3_labels)\n",
    "p = round(p, 3)\n",
    "print(f'Variance > 2.5,{r},{p}')\n",
    "\n",
    "r, p = pearsonr(ttr1_predictions, ttr1_labels)\n",
    "p = round(p, 3)\n",
    "print(f'TTR > 0.05,{r},{p}')\n",
    "\n",
    "r, p = pearsonr(ttr2_predictions, ttr2_labels)\n",
    "p = round(p, 3)\n",
    "print(f'TTR > 0.2,{r},{p}')\n",
    "\n",
    "r, p = pearsonr(ttr3_predictions, ttr3_labels)\n",
    "p = round(p, 3)\n",
    "print(f'TTR > 0.4,{r},{p}')\n",
    "\n",
    "r, p = pearsonr(ttv0_predictions, ttv0_labels)\n",
    "p = round(p, 3)\n",
    "print(f'Variance > 0 or TTR > 0.05,{r},{p}')\n",
    "\n",
    "r, p = pearsonr(ttv1_predictions, ttv1_labels)\n",
    "p = round(p, 3)\n",
    "print(f'Variance > 0 or TTR > 0.4,{r},{p}')\n",
    "\n",
    "r, p = pearsonr(ttv2_predictions, ttv2_labels)\n",
    "p = round(p, 3)\n",
    "print(f'Variance > 2.5 or TTR > 0.4,{r},{p}')"
   ]
  },
  {
   "cell_type": "code",
   "execution_count": null,
   "id": "4abe2493-731e-4fe2-a47b-24205f93a525",
   "metadata": {},
   "outputs": [],
   "source": []
  },
  {
   "cell_type": "code",
   "execution_count": null,
   "id": "db584d26-811f-47de-943a-568bdd1a7153",
   "metadata": {},
   "outputs": [],
   "source": []
  },
  {
   "cell_type": "markdown",
   "id": "d1032dfa-10b8-4c94-9ccb-5b8cf405ebca",
   "metadata": {},
   "source": []
  }
 ],
 "metadata": {
  "kernelspec": {
   "display_name": "Python 3 (ipykernel)",
   "language": "python",
   "name": "python3"
  },
  "language_info": {
   "codemirror_mode": {
    "name": "ipython",
    "version": 3
   },
   "file_extension": ".py",
   "mimetype": "text/x-python",
   "name": "python",
   "nbconvert_exporter": "python",
   "pygments_lexer": "ipython3",
   "version": "3.10.5"
  }
 },
 "nbformat": 4,
 "nbformat_minor": 5
}
